{
 "cells": [
  {
   "cell_type": "code",
   "execution_count": null,
   "metadata": {},
   "outputs": [],
   "source": []
  },
  {
   "cell_type": "markdown",
   "metadata": {
    "id": "kXjytSzy9Hhu"
   },
   "source": [
    "# Selenium Facebook Scraping "
   ]
  },
  {
   "cell_type": "markdown",
   "metadata": {
    "id": "t_w_ei9P9Hhy"
   },
   "source": [
    "## requirements "
   ]
  },
  {
   "cell_type": "code",
   "execution_count": 9,
   "metadata": {
    "id": "jyobux-29Hhz"
   },
   "outputs": [],
   "source": [
    "# !pip install selenium"
   ]
  },
  {
   "cell_type": "code",
   "execution_count": 22,
   "metadata": {
    "scrolled": false
   },
   "outputs": [],
   "source": [
    "import argparse\n",
    "import itertools\n",
    "import time\n",
    "import json\n",
    "import csv\n",
    "import os\n",
    "import re\n",
    "\n",
    "from selenium import webdriver\n",
    "from selenium.webdriver.chrome.options import Options\n",
    "from bs4 import BeautifulSoup as bs"
   ]
  },
  {
   "cell_type": "code",
   "execution_count": 4,
   "metadata": {},
   "outputs": [
    {
     "data": {
      "text/plain": [
       "'/home/omri/Downloads'"
      ]
     },
     "execution_count": 4,
     "metadata": {},
     "output_type": "execute_result"
    }
   ],
   "source": [
    "# Chek my working directory\n",
    "os.getcwd()"
   ]
  },
  {
   "cell_type": "code",
   "execution_count": 5,
   "metadata": {
    "scrolled": true
   },
   "outputs": [
    {
     "data": {
      "text/plain": [
       "'/home/omri/Downloads/Facebook_Scraping'"
      ]
     },
     "execution_count": 5,
     "metadata": {},
     "output_type": "execute_result"
    }
   ],
   "source": [
    "# Change my working directory\n",
    "os.chdir('./Facebook_Scraping')\n",
    "os.getcwd()"
   ]
  },
  {
   "cell_type": "code",
   "execution_count": 6,
   "metadata": {},
   "outputs": [
    {
     "data": {
      "text/plain": [
       "['.ipynb_checkpoints',\n",
       " 'bs.html',\n",
       " 'facebook_credentials.txt',\n",
       " 'postBigDict.json',\n",
       " 'Untitled.ipynb',\n",
       " 'chromedriver',\n",
       " 'fb_scraping.ipynb',\n",
       " 'clean_code_fb_scraping.py']"
      ]
     },
     "execution_count": 6,
     "metadata": {},
     "output_type": "execute_result"
    }
   ],
   "source": [
    "# lis all files and folders in my working directory\n",
    "os.listdir()"
   ]
  },
  {
   "cell_type": "markdown",
   "metadata": {},
   "source": [
    "## Get the facebook credentials"
   ]
  },
  {
   "cell_type": "code",
   "execution_count": 7,
   "metadata": {
    "id": "bOdYnSJJ9Hh0",
    "scrolled": true
   },
   "outputs": [
    {
     "name": "stdout",
     "output_type": "stream",
     "text": [
      "[EMAIL]: amine.omri.raccourci@gmail.com\n",
      "[PASSWORD]: 0123456789aO\n"
     ]
    }
   ],
   "source": [
    "with open('./facebook_credentials.txt') as file:\n",
    "    email = file.readline().split('\"')[1]\n",
    "    password = file.readline().split('\"')[1]\n",
    "print(\"[EMAIL]: {}\".format(email))\n",
    "print(\"[PASSWORD]: {}\".format(password))"
   ]
  },
  {
   "cell_type": "markdown",
   "metadata": {
    "id": "xx5PB5bX9Hh1"
   },
   "source": [
    "## Start the webdriver"
   ]
  },
  {
   "cell_type": "code",
   "execution_count": 8,
   "metadata": {},
   "outputs": [],
   "source": [
    "# chromedriver in the same folder as file\n",
    "option = Options()\n",
    "option.add_argument(\"--disable-infobars\")\n",
    "option.add_argument(\"start-maximized\")\n",
    "option.add_argument(\"--disable-extensions\")\n",
    "# Making Notifications off automatically\n",
    "# prefs = {\"profile.default_content_setting_values.notifications\" : 2}\n",
    "# option.add_experimental_option(\"prefs\",prefs)\n",
    "# Start the webdriver\n",
    "browser = webdriver.Chrome(executable_path=\"./chromedriver\", options=option) "
   ]
  },
  {
   "cell_type": "code",
   "execution_count": 491,
   "metadata": {
    "id": "JOdES7bh9Hh1"
   },
   "outputs": [],
   "source": []
  },
  {
   "cell_type": "markdown",
   "metadata": {},
   "source": [
    "## Login to Facebook"
   ]
  },
  {
   "cell_type": "code",
   "execution_count": 9,
   "metadata": {},
   "outputs": [],
   "source": [
    "def _login(browser, email:str= None, password:str= None):\n",
    "    \"\"\"Login to facebook web site and suspends execution for 5 seconds\"\"\"\n",
    "    \n",
    "    browser.get(\"http://facebook.com\")\n",
    "    # Maximize the window \n",
    "    browser.maximize_window()\n",
    "    # Accept the cookies\n",
    "    cookies = browser.find_element_by_xpath('/html/body/div[3]/div[2]/div/div/div/div/div[3]/button[2]')\n",
    "    cookies.click()    \n",
    "    # Send the email and password to the authentification items\n",
    "    browser.find_element_by_name(\"email\").send_keys(email)\n",
    "    browser.find_element_by_name(\"pass\").send_keys(password)\n",
    "    # Press the button login \n",
    "#   browser.find_element_by_id('login').click()\n",
    "    browser.find_element_by_css_selector(\"button[name='login']\").click()\n",
    "    print('login Successfully...')\n",
    "\n",
    "#     login_btn = browser.find_element_by_xpath('/html/body/div[1]/div[2]/div[1]/div/div/div/div[2]/div/div[1]/form/div[2]/button')\n",
    "#     login_btn.click()\n",
    "    time.sleep(5)\n",
    "    "
   ]
  },
  {
   "cell_type": "code",
   "execution_count": 10,
   "metadata": {
    "id": "lEkcdyEG9Hh1",
    "scrolled": true
   },
   "outputs": [
    {
     "name": "stdout",
     "output_type": "stream",
     "text": [
      "login Successfully...\n"
     ]
    }
   ],
   "source": [
    "_login(browser, email, password)"
   ]
  },
  {
   "cell_type": "markdown",
   "metadata": {},
   "source": [
    "## Search for a specific topic"
   ]
  },
  {
   "cell_type": "code",
   "execution_count": 11,
   "metadata": {},
   "outputs": [],
   "source": [
    "def _search_topic(browser, topic:str= None):\n",
    "    \"\"\"Make research to find posts that match the requested topic\"\"\"\n",
    "    \n",
    "#     Paste the requested topic in the search input text box and run the request \n",
    "#     research_input_text = browser.find_element_by_xpath('/html/body/div[1]/div/div[1]/div/div[2]/div[2]/div/div/div[1]/div/div/label/input')\n",
    "#     print(research_input_text.text)\n",
    "#     research_input_text.send_keys(topic)\n",
    "#     research_input_text.send_keys(u'\\ue007')\n",
    "#     research_input_text.send_keys(Keys.ENTER)\n",
    "#     time.sleep(5)\n",
    "\n",
    "    browser.get(\"https://www.facebook.com/search/posts/?q=\" + topic)\n",
    "    getMorePosts = browser.find_element_by_xpath('/html/body/div[1]/div/div[1]/div/div[3]/div/div/div[1]/div[1]/div[2]/div/div/div/div/div/div/div[3]/div/div/div/div/div/div/div[2]/a')\n",
    "    getMorePosts.click()\n",
    "    \n",
    "#     getMorePosts = browser.find_element_by_xpath('/html/body/div[1]/div/div[1]/div/div[3]/div/div/div[1]/div[1]/div[2]/div/div/div/div/div/div/div[3]/div/div/div/div/div/div/div[2]/a')\n",
    "#     getMorePosts.click()\n",
    "\n",
    "    \n",
    "#     By classname\n",
    "#     publications = browser.find_elements_by_class_name('d2edcug0 hpfvmrgz qv66sw1b c1et5uql b0tq1wua jq4qci2q a3bd9o3v ekzkrbhg oo9gr5id')\n",
    "#     print(publications)\n",
    "\n",
    "#     Use the filters to get only the publications\n",
    "#     posts_btn = browser.find_element_by_xpath('/html/body/div[1]/div/div[1]/div/div[3]/div/div/div[1]/div[1]/div[1]/div/div[2]/div[1]/div[2]/div/div/div[2]/div[3]/div[1]/div/div[2]/div/input')\n",
    "#     posts_btn.click()\n",
    "    "
   ]
  },
  {
   "cell_type": "code",
   "execution_count": 12,
   "metadata": {},
   "outputs": [
    {
     "data": {
      "text/plain": [
       "True"
      ]
     },
     "execution_count": 12,
     "metadata": {},
     "output_type": "execute_result"
    }
   ],
   "source": [
    "'/html/body/div[1]/div/div[1]/div/div[3]/div/div/div[1]/div[1]/div[2]/div/div/div/div/div/div/div[3]/div/div/div/div/div/div/div[2]/a' == '/html/body/div[1]/div/div[1]/div/div[3]/div/div/div[1]/div[1]/div[2]/div/div/div/div/div/div/div[3]/div/div/div/div/div/div/div[2]/a'"
   ]
  },
  {
   "cell_type": "code",
   "execution_count": 13,
   "metadata": {},
   "outputs": [],
   "source": [
    "_search_topic(browser, topic= 'le décès du président Jacques Chirac')"
   ]
  },
  {
   "cell_type": "code",
   "execution_count": 498,
   "metadata": {},
   "outputs": [],
   "source": [
    "# /html/body/div[1]/div/div[1]/div/div[3]/div/div/div[1]/div[1]/div[2]/div/div/div/div/div/div/div[3]/div/div/div/div/div/div/div[2]/a\n",
    "\n",
    "# //*[@id=\"mount_0_0_nn\"]/div/div[1]/div/div[3]/div/div/div[1]/div[1]/div[2]/div/div/div/div/div/div/div[3]/div/div/div/div/div/div/div[2]/a\n",
    "\n",
    "# #mount_0_0_nn > div > div:nth-child(1) > div > div.rq0escxv.l9j0dhe7.du4w35lb > div > div > div.j83agx80.cbu4d94t.d6urw2fd.dp1hu0rb.l9j0dhe7.du4w35lb > div.rq0escxv.l9j0dhe7.du4w35lb.j83agx80.pfnyh3mw.jifvfom9.gs1a9yip.owycx6da.btwxx1t3.buofh1pr.dp1hu0rb.ka73uehy > div.rq0escxv.l9j0dhe7.du4w35lb.j83agx80.cbu4d94t.g5gj957u.d2edcug0.hpfvmrgz.rj1gh0hx.buofh1pr.dp1hu0rb > div > div > div > div > div > div > div:nth-child(3) > div > div > div > div > div > div > div.hpfvmrgz.g5gj957u.buofh1pr.rj1gh0hx.o8rfisnq > a\n",
    "\n",
    "# getMorePosts = browser.find_element_by_xpath('/html/body/div[1]/div/div[1]/div/div[3]/div/div/div[1]/div[1]/div[2]/div/div/div/div/div/div/div[3]/div/div/div/div/div/div/div[2]/a')\n",
    "# getMorePosts.click()\n"
   ]
  },
  {
   "cell_type": "markdown",
   "metadata": {},
   "source": [
    "## Scroll down to grap the full source code"
   ]
  },
  {
   "cell_type": "code",
   "execution_count": 14,
   "metadata": {},
   "outputs": [],
   "source": [
    "def _count_needed_scrolls(browser, infiniteScroll= False, numOfPost= 24):\n",
    "    \"\"\"Scrolls the document all a long the height of the content window including\n",
    "    the content overflowing and not visible on the screen a, return the length that\n",
    "    the document would need for the content to fit in the viewpoint without using a scroll bar\n",
    "    \"\"\"\n",
    "    if infiniteScroll:\n",
    "        lenOfPage = browser.execute_script(\n",
    "            \"window.scrollTo(0, document.body.scrollHeight);var lenOfPage=document.body.scrollHeight;return lenOfPage;\"\n",
    "        )\n",
    "    else:\n",
    "        # gap of 8 post per scroll \n",
    "        lenOfPage = int(numOfPost / 8)\n",
    "        \n",
    "    print(\"Number needed scroll \" + str(lenOfPage))\n",
    "    return lenOfPage"
   ]
  },
  {
   "cell_type": "code",
   "execution_count": 15,
   "metadata": {},
   "outputs": [
    {
     "name": "stdout",
     "output_type": "stream",
     "text": [
      "Number needed scroll 3\n"
     ]
    }
   ],
   "source": [
    "lenOfPage = _count_needed_scrolls(browser)"
   ]
  },
  {
   "cell_type": "code",
   "execution_count": 16,
   "metadata": {},
   "outputs": [],
   "source": [
    "def _scroll(browser, lenOfPage, infiniteScroll= False):\n",
    "    \"\"\"Scroll all along the height of the content of the page either if it is\n",
    "    an infinite scroll or a finite scroll so that it displays the whole source\n",
    "    that we want to capture.\n",
    "    \"\"\"\n",
    "    \n",
    "    EndOfPage = False\n",
    "    lastScroll = -1\n",
    "    \n",
    "    # looping through the paged pages\n",
    "    while not EndOfPage:\n",
    "        \n",
    "        if infiniteScroll:\n",
    "            lastScroll = lenOfPage\n",
    "        else:\n",
    "            lastScroll += 1\n",
    "\n",
    "\n",
    "        if infiniteScroll:\n",
    "            # scrolls the document until the end of the page\n",
    "            lenOfPage = browser.execute_script(\n",
    "                \"window.scrollTo(0, document.body.scrollHeight);var lenOfPage=document.body.scrollHeight;return \"\n",
    "                \"lenOfPage;\")\n",
    "        else:\n",
    "            # scrolls the document all a long the height of the content\n",
    "            browser.execute_script(\n",
    "                \"window.scrollTo(0, document.body.scrollHeight);var lenOfPage=document.body.scrollHeight;return \"\n",
    "                \"lenOfPage;\")\n",
    "            \n",
    "        # wait for the browser to load\n",
    "        time.sleep(5)\n",
    "        \n",
    "        # stop scrolling if atteimpt the end of page\n",
    "        if lastScroll == lenOfPage:\n",
    "            EndOfPage = True"
   ]
  },
  {
   "cell_type": "code",
   "execution_count": 17,
   "metadata": {},
   "outputs": [
    {
     "name": "stdout",
     "output_type": "stream",
     "text": [
      "CPU times: user 8.6 ms, sys: 748 µs, total: 9.34 ms\n",
      "Wall time: 20.1 s\n"
     ]
    }
   ],
   "source": [
    "%%time \n",
    "_scroll(browser, lenOfPage)"
   ]
  },
  {
   "cell_type": "markdown",
   "metadata": {},
   "source": [
    "## Parse the html and extract the needed data from the post"
   ]
  },
  {
   "cell_type": "code",
   "execution_count": 18,
   "metadata": {},
   "outputs": [],
   "source": [
    "\n",
    "def _extract_page_name(item):\n",
    "    text = item.text.split('\\xa0 · \\xa0 ·')[0].split('Page')[0]\n",
    "    return text\n",
    "\n",
    "def _extract_post_date(item):\n",
    "    text = item.text.split('\\xa0 · \\xa0 ·')[0][-13:].replace('.','')\n",
    "    cutDate = [''.join(x) for _, x in itertools.groupby(text, key=str.isdigit)]\n",
    "    if cutDate[0].isdigit():\n",
    "        return text\n",
    "    else:\n",
    "        return ''.join([elm for elm in cutDate[-2:]])\n",
    "    \n",
    "def _extract_post_content(item):\n",
    "    \n",
    "    text = item.text.split(\"\\xa0 · \\xa0 ·\")[1]\n",
    "    return text\n",
    "\n",
    "def _extract_post_link(item):\n",
    "    link = \"\"\n",
    "    post_link_elm = item.find_all(\"a\")\n",
    "    for a_elm in post_link_elm:\n",
    "        link = a_elm.attrs[\"href\"]\n",
    "    return link\n",
    "\n",
    "def _extract_post_images(item):\n",
    "    \n",
    "    images = list()\n",
    "    post_img_elm = item.findAll('img')\n",
    "    for img_elm in post_img_elm:\n",
    "        images.append(img_elm['src'])\n",
    "    r = re.compile(\"^https://scontent\")\n",
    "    images = list(filter(r.match, images))\n",
    "    return images"
   ]
  },
  {
   "cell_type": "code",
   "execution_count": 19,
   "metadata": {
    "scrolled": false
   },
   "outputs": [],
   "source": [
    "def _extract_html(bs_data):\n",
    "\n",
    "    #Add to check\n",
    "    with open('./bs.html',\"w\", encoding=\"utf-8\") as file:\n",
    "        file.write(str(bs_data.prettify()))\n",
    "\n",
    "    k = bs_data.findAll(\"div\", attrs={'role':\"article\"}) #\"_5pcr userContentWrapper\")\n",
    "    \n",
    "    allPosts = list()\n",
    "\n",
    "    for item in k:\n",
    "        post = dict()\n",
    "        post['Name'] = _extract_page_name(item)\n",
    "        post['Date'] = _extract_post_date(item)\n",
    "        post['Content'] = _extract_post_content(item)\n",
    "        post['Link'] = _extract_post_link(item)\n",
    "        post['Images'] = _extract_post_images(item)\n",
    "#       [TODO]\n",
    "#       post['Comments'] = _extract_comments(item)\n",
    "#       post['Reaction'] = _extract_reaction(item)\n",
    "\n",
    "        #Add to check\n",
    "        allPosts.append(post)\n",
    "        with open('./postBigDict.json','w', encoding='utf-8') as file:\n",
    "            file.write(json.dumps(allPosts, ensure_ascii=False).encode('utf-8').decode())\n",
    "\n",
    "    return allPosts"
   ]
  },
  {
   "cell_type": "code",
   "execution_count": 20,
   "metadata": {},
   "outputs": [],
   "source": [
    "# Grab the source code\n",
    "source_data = browser.page_source\n",
    "# Parsing the the source code sunig BeautifulSoup\n",
    "bs_data = bs(source_data, 'html.parser')"
   ]
  },
  {
   "cell_type": "code",
   "execution_count": 23,
   "metadata": {
    "scrolled": true
   },
   "outputs": [
    {
     "name": "stdout",
     "output_type": "stream",
     "text": [
      "CPU times: user 178 ms, sys: 4.02 ms, total: 182 ms\n",
      "Wall time: 212 ms\n"
     ]
    }
   ],
   "source": [
    "%%time\n",
    "allPosts = _extract_html(bs_data)"
   ]
  },
  {
   "cell_type": "code",
   "execution_count": 24,
   "metadata": {},
   "outputs": [
    {
     "data": {
      "text/plain": [
       "[{'Name': 'Pierre BoixareuJACQUES CHIRAC - des discours, des actes et des Hommes14 sept.',\n",
       "  'Date': '14 sept',\n",
       "  'Content': ' …autorisée honorant la mémoire de Jacques Chirac est l\\'association historique www.jacqueschirac-asso.fr ⚪ que vous pouvez également vous rapprocher de la Fondation Jacques Chirac 🔴 et que les musées Jacques Chirac à Sarran (Corrèze) comme le musée parisien \"musée des arts premiers - Jacques Chirac\" organisent régulièrement des manifestations publiques rappelant la vie et l\\'action de notre ancien président du RPR, maire de Paris, Président de la République. Toutes autres organisations ne sont que des tentatives de détournement de la personnalité de JC au profit d\\'intérêts individuels et partisans sans rapports avec la personne que nous honorons.jacqueschirac-asso.frAvec le président Chirac – Archives et espace documentaire15 1510 commentaires',\n",
       "  'Link': 'https://www.facebook.com/groups/jcdah/posts/1005193083654786/',\n",
       "  'Images': []},\n",
       " {'Name': 'Bruno Le Maire',\n",
       "  'Date': '26 sept 2019',\n",
       "  'Content': ' …de retour de Rodez que j’ai appris le décès du président Jacques Chirac. Il aimait ce département de l’Aveyron, comme il aimait tous les départements ruraux, dont il avait la force et la simplicité. J’avais 29 ans quand j’ai commencé à travailler à ses côtés et, au moment si triste de sa mort, les souvenirs se bousculent. Pourquoi, comme tant de Français, ai-je aimé Jacques Chirac ? Je l’ai aimé pour ses mots lors de mon premier Salon de l’Agriculture en 2009 quand, pressé de questions par les journalistes sur sa passion pour le monde agricole, il avait répondu, déjà fatigué par la maladie : « J’aime l’agriculture, parce que l’agriculture, c’est la vie. » Je l’ai aimé pour sa voix quand, jeune directeur de cabinet de Dominique de Villepin à Matignon, il m’appelait chaque matin à huit heures précises, avec cette intonation si douce et si rauque : « Le Maire ? C’est Chirac. » J’ai aimé Jacques Chirac pour sa constance à dire non aux extrêmes, à toutes les forces de haine et de mépris qui, elles, hélas, ne meurent jamais. J’ai aimé Jacques Chirac pour sa détermination à faire obstacle au projet fou de guerre en Irak, en 2003, qui lui a valu tant de reproches et de critiques et à laquelle l’histoire a rendu hommage. Je l’ai vu s’interroger longuement sur un choix qui mettait la France en travers des décisions de son premier allié, les Etats-Unis. Mais jamais il n’a fléchi. Jamais il n’a cédé. Jacques Chirac savait que l’humiliation des peuples attise les violences. Il savait que la guerre, dont il détenait le pouvoir comme chef des armées, ne pouvait être que le dernier et ultime recours, quand tous les autres ont été épuisés. Je l’ai aimé simplement pour sa main, qui savait prendre la vôtre avec chaleur. Je l’ai aimé pour cet appel téléphonique un soir de Noël, quand après une année de travail harassante il avait tenu à me joindre dans une vallée des Alpes pour me remercier avec ces mots si simples : « Je suis désolé du temps que j’ai pris à vos enfants. » Maintenant, en juste retour, je voudrais dire à sa femme Bernadette, à sa fille Claude, à l’heure où Jacques Chirac pour la seule fois de sa vie abandonne les Français, que leur père a fait honneur à la France, à sa grandeur, à sa vocation universelle et que je suis fier de l’avoir servi.2,9\\xa0K 2,9\\xa0K267 commentaires',\n",
       "  'Link': 'https://www.facebook.com/blm27/posts/2633081830089213',\n",
       "  'Images': ['https://scontent-cdg2-1.xx.fbcdn.net/v/t1.6435-9/cp0/c17.0.90.90a/p118x90/71094585_2633067436757319_4632677559417438208_n.jpg?_nc_cat=107&ccb=1-5&_nc_sid=730e14&_nc_ohc=MJoTIX9ha3EAX_J6vlj&_nc_oc=AQlGqNERXyL_3T5gpG-D9qMCs_bgSlq04D-kyerbCS5f-g-2kXD8-OetuEUxWSnNraE&_nc_ht=scontent-cdg2-1.xx&oh=570ff34f2b8086eb4026f137820b2026&oe=61683D09']},\n",
       " {'Name': 'Marie-George Buffet',\n",
       "  'Date': '26 sept 2019',\n",
       "  'Content': ' Je viens d apprendre le décès du Président Jacques Chirac qui fût pour moi un adversaire politique respecté. Je garde en ce jour de deuil le souvenir du président qui a su dire non à  la guerre en Irak, de celui qui a permis à  la France de porter une voix singulière dans le conflit Israélo Palestinien. Je garde également le souvenir, lorsque j étais ministre de la jeunesse et des sports de son écoute et de son sincère attachement aux valeurs du sport .904 904102 commentaires',\n",
       "  'Link': 'https://www.facebook.com/yhijnk/posts/3320163724690564',\n",
       "  'Images': []},\n",
       " {'Name': 'Latifa Ibn Ziaten',\n",
       "  'Date': '26 sept 2019',\n",
       "  'Content': \" …une grande tristesse que j'ai appris le décès du président Jacques Chirac. La France vient de perdre un grand homme d’État, que j’admirais et respectais profondément pour son humanité et son attachement à des valeurs qui sont également les miennes. Homme de culture et homme de coeur, Jacques Chirac faisait partie de nos soutiens de la première heure. Je l’aimais beaucoup et ne l’oublierai jamais. Mes pensées émues vont à sa famille et à ses proches.1\\xa0K 1\\xa0K60 commentaires\",\n",
       "  'Link': 'https://www.facebook.com/permalink.php?story_fbid=2213124715481673&id=301800386614125',\n",
       "  'Images': ['https://scontent-cdt1-1.xx.fbcdn.net/v/t1.6435-9/cp0/c45.0.90.90a/p118x90/71115417_2213124658815012_753978562465234944_n.jpg?_nc_cat=110&ccb=1-5&_nc_sid=8bfeb9&_nc_ohc=gmBBjfm42KkAX87TyDx&_nc_ht=scontent-cdt1-1.xx&oh=e6283271e1cdb5da6463ef804019727c&oe=61691E50']},\n",
       " {'Name': 'Laurent TavelinTu es de Charny (89) quand…11 sept.',\n",
       "  'Date': '11 sept',\n",
       "  'Content': ' …📍 Nous fêtons les : • Adelphe 📍 Le dicton du jour :  - \"En septembre si trois jours il tonne, c\\'est un nouveau bail pour l\\'automne\". 📍 Ils sont nés à cette date : - 1963 : naissance de Serge Hazanavicius à Paris, comédien et acteur français. \"Le bonheur est dans le pré\" en 1995 - \"Il y a longtemps que je t\\'aime\" en 2008.. - 1939 : naissance de Alain Giletti, ancien patineur artistique français, dix fois champion de France, cinq fois champion d\\'Europe et champion du monde en (1960). - 1935 : naissance Monseigneur Jacques Gaillot à St Dizier (Haute Marne) est un prélat catholique français. Evêque d\\'Evreux de 1982 à 1995. - 1926 : naissance de Monique Lange, écrivain française.    (morte le 7 octobre 1996). - 1925 : naissance de Gérard Darrieu à Arnicourt (Ardennes), acteur français \"Signé Arsène Lupin\" en 1959 - \"L\\'affaire Dominici\" en 1973..   (mort le 22 janvier 2004). - 1923 : naissance de Henri Lancelot dit Hubert Lancelot à Lyon (Rhône), chanteur français. Il était chargé des rapports de tournée et de l’organisation du groupe, au sein des (Compagnons de la chanson).   (mort le 8 mars 1995) à Paris. - 1903 : naissance de Jean Aurenche à Pierrelatte (Drôme), scénariste et un dialoguiste. Auteur du scénario de presque 80 films. Films notables - \"Jeux interdits\" en 1952 - \"Les Orgueilleux\" en 1953 - \"La Traversée de Paris\" en 1956 - \"Que la fête commence\" en 1975....   (mort le 29 septembre 1992) à Bandol (Var). 📍 Ils nous ont quitté ce jour là :  - 2020 : décès de Roger Blancharel, dit Roger Carel à Aigre (Charente), comédien français, sa personnalité majeure est le doublage de voix, comme \"Astérix\" - \"Winnie l\\'ourson\" - \"Kermit la grenouille\" - \"Benny Hill\" - \"Hercule Poirot\"..   (né le 14 août 1927) à Paris. - 2016 : décès de Claude Nahon dit Claude-Jean Philippe à Paris, auteur de livres sur le cinéma, essayiste et diariste, réalisateur et producteur de télévision, auteur de nombreux documentaires, ainsi qu\\'un homme de radio. Il était également, à l\\'occasion, scénariste ou acteur.   (né le 20 avril 1933) à Tanger (Maroc). - 2013 : décès de Albert Jacquard à Paris chercheur et essayiste français. Auteur de nombreux ouvrages de vulgarisation scientifique, président d\\'honneur de l\\'association Droit au logement. Spécialiste de génétique des populations. Il est également connu pour ses engagements citoyens parmi lequel la langue internationale espéranto.    (né le 23 décembre 1925) à Lyon. 📍 Les événements liés à cette date :  - 2006 : Ouverture à Paris du procès des faux électeurs dans le IIIe arrondissement, après 17 ans d\\'instruction pour le \"trucage\" des scrutins municipaux de 1989 et 1995. L\\'affaire aurait été orchestrée, selon l\\'accusation, par le RPR et Jacques Dominati, proche de Jacques Chirac. - 2002 : Démission de Michel Bon, président de France Télécom. - 2001 : Attentats terroristes aux Etats Unis, deux Boeing s\\'encastrent dans les tours jumelles du WTC qui s\\'effondrent, un 3e appareil sur le Pentagone et un 4e dans la campagne près  de Somerset, qui fait plus de 3 000 morts. - 1998 : Bill Clinton présente ses excuses à Monica Lewinsky. - 1992 : François Mitterrand hospitalisé pour une opération de la prostate - 1982 : Crash d\\'un hélicoptère militaire américain en Allemagne 46 morts parmi lesquels des parachutistes français. - 1978 : Sortie de l’album musical Starmania, de Michel Berger et Luc Plamondon. ➖➖➖➖➖➖➖➖➖➖➖➖➖➖➖➖➖➖ On a tous le souvenir de cette journée dramatique du 11 septembre 2001. 20 ans et le  souvenir reste 😭44 4410 commentaires',\n",
       "  'Link': 'https://www.facebook.com/groups/233123972270/posts/10157839302572271/',\n",
       "  'Images': ['https://scontent-cdt1-1.xx.fbcdn.net/v/t1.6435-9/cp0/c22.0.90.90a/p118x90/241686491_10224666950053546_6838068746668900876_n.jpg?_nc_cat=106&ccb=1-5&_nc_sid=825194&_nc_ohc=iICQGZjml1MAX_FJmWf&tn=JeH1lT2W9h_3X_06&_nc_ht=scontent-cdt1-1.xx&oh=0cf4dbb959abb3d6c6ebb18f40e17d7d&oe=6167074E']},\n",
       " {'Name': 'Daniel Marie-sainte10 sept.',\n",
       "  'Date': '10 sept',\n",
       "  'Content': ' RAPPEL HISTORIQUE : À l’occasion du décès de la Présidente Lucette MICHAUX-CHEVRY, survenu le 9 septembre 2021, je lui rend hommage pour le rôle qu’elle a joué aux côtés du Président Alfred MARIE-JEANNE dans l’évolution institutionnelle de notre Pays Martinique qui a abouti à la mise en place de la Collectivité Territoriale de Martinique (CTM) en décembre 2015 ! En effet, grâce à la proximité politique qu’elle avait avec le Président de la République Française de l’époque, Jacques CHIRAC, elle a facilité sa rencontre avec les Présidents de Trois Régions (Guadeloupe, Guyane et Martinique) pour discuter des modifications des articles 73 et 74 de la Constitution de la République Française permettant de consulter les électeurs des « dernières colonies » sur les évolutions institutionnelles souhaitées par les élus. Cette rencontre fait suite à la publication de la « Déclaration de Basse-Terre du 1er décembre 1999 » signée par les trois Présidents de Région de Guadeloupe, de Guyane et de Martinique. Il faut reconnaitre que cette « Déclaration de Basse-Terre du 1er décembre 1999 » a été le point de départ d’un processus historique, qui en passant par les consultations populaires des 2003 et 2010, a abouti à la mise en place de la CTM en décembre 2015 ! Pour l’information complète, j’en publie le texte ci-dessous. Le 10 septembre 2021 Daniel MARIE-SAINTE Secrétaire National du MIM « Texte politique » Déclaration de Basse-Terre 1er décembre 1999 Les présidents des régions de Guadeloupe, Guyane, Martinique, réunis à Basse-Terre, le 1er décembre 1999 constatent :  • La dégradation continuelle depuis de nombreuses années de la situation de leurs régions, illustrée notamment par : 1. Une destruction systématique de l\\'initiative locale, 2. Un affaiblissement des filières productives, 3. La déstabilisation financière des collectivités, 4. Un assistanat généralisé, 5. Un taux de chômage croissant (en moyenne 30%).- Le développement rapide des dérives sociales, destructrices pour leurs sociétés et en particulier pour les jeunes générations dont les perspectives d\\'emploi apparaissent de plus en plus aléatoires. • L\\'impossibilité de mettre un terme à cette situation avec les moyens actuels qui leur sont dévolus dans le cadre de leurs compétences, malgré des efforts financiers importants des collectivités territoriales| et les concours de l\\'État et de l\\'Union européenne. • L\\'inadéquation d\\'un dispositif fiscal et social conçu pour un pays développé et appliqué à des régions en retard de développement. Considérant les résultats obtenus par les autres régions ultrapériphériques| (Açores, Canaries, Madère) en matière de développement et de progrès social, décident d\\'unir leurs efforts afin de bâtir un projet de développement économique social et culturel impliquant la prise en compte des identités propres à chaque région et basé sur l\\'évidence que la dignité procède du travail et non de l\\'assistanat.  Ce projet doit encourager la créativité et l\\'émergence d\\'activités productives afin de mettre un terme au développement d\\'une « société de consommation ». Ce projet doit également rompre avec le cycle infernal de l’« emploi assisté » pour favoriser la création et le développement d\\'entreprises, orienter les jeunes vers les métiers à forte plus value, réaménager les formations vers les secteurs à forte potentialité. Cela suppose aussi, un partenariat actif avec le secteur socioprofessionnel, qui doit participer à une nouvelle économie qui ne se réfère pas exclusivement à l\\'aide publique.  Les présidents, conscients de la volonté de leur population de mieux maîtriser son devenir, affirment solennellement leur engagement à exposer et expliquer leur projet, afin de recueillir, après consultation, son adhésion. En conséquence, les présidents des trois régions proposeront au Président de la République et au gouvernement, une modification législative voire constitutionnelle, visant à créer un statut nouveau de région d\\'Outre-mer doté d\\'un régime fiscal et social spécial pour la Guadeloupe, la Guyane et la Martinique, dans le cadre de la République française d\\'une part, et de l\\'Union européenne d\\'autre part (article 299-2 du traité d\\'Amsterdam).  Les présidents des régions de Guadeloupe, Guyane et Martinique réunis à Basse-Terre le 1er décembre 1999 ont pour leur part ouvert le débat, défini les thèmes et proposé les orientations de ce chantier d\\'avenir, dans le respect des idéologies de chacun.\" Signé Par Alfred MARIE-JEANNE, Président du Conseil Régional de la Martinique Par Lucette MICHAUX-CHEVRY, Présidente du Conseil Régional de la Guadeloupe Par Antoine KARAM, Président du Ronseil Régional de la Guyane78 7825 commentaires',\n",
       "  'Link': 'https://www.facebook.com/daniel.mariesainte.1/posts/10226912596829818',\n",
       "  'Images': ['https://scontent-cdg2-1.xx.fbcdn.net/v/t39.30808-6/cp0/c25.0.90.90a/p118x90/241781550_10226912595469784_294798582432449161_n.jpg?_nc_cat=109&ccb=1-5&_nc_sid=730e14&_nc_ohc=wvgKUEWEbpkAX9QAAES&_nc_ht=scontent-cdg2-1.xx&oh=ae593725b1f8b9628519df85c8f15c79&oe=61485B00']},\n",
       " {'Name': 'Jean Aimé MouketouLA RÉSISTANCE AUTOUR DE JEAN PING .9 juil.',\n",
       "  'Date': '9 juil',\n",
       "  'Content': ' …après la rencontre entre le président français M. Emmanuel MACRON et le président du Niger, M. Mohamed BAZOUM. Dr Jean Aimé Mouketou, animateur de l\\'émission \"Heure De Vérité. ■■■■■■■■■■■■■■■■■■■ Rendez-vous Médiatique... Sur Radio et Télévision DENYIGBAN (CHICAGO),  La Chaîne YOUTUBE Dr Mouketou Reçoit – Émission  Heure De  Vérité... Invité exceptionnel: Ancien Premier ministre Jean Eyhéghé-Ndong. Thème: Jean EYEGHE-NDONG: du Premier ministre de l\\'oraison funèbre de juin 2009 jusqu\\'à l\\'opposant radical de 2021. Heure: 14H30-16H30 (CHICAGO), 20H30-22H30 (LIBREVILLE) -  21H30-23H30 (PARIS),  19H30 GMT. Notre invité Jean EYEGHE-NDONG est entré dans l\\'Histoire en juin 2009 lorsqu\\'il a présenté en que tant que dernier Premier du défunt Président Omar BONGO-ONDIMBA, une éloge funèbre sans concession... et devant un parterre de chefs d’État dont le président français Nicolas SARKOZY et son prédécesseur Jacques CHIRAC.  Tout le monde se souvient de l\\'image biblique qu\\'il a alors utilisé... M. Jean EYEGHE-NDONG a été aussi plusieurs ministre dont ministre du Budget, co-fondateur de l\\'Union nationale (un parti d\\'opposition gabnaise), Sénateur gabonais jusqu\\'en 2018. Il est également membre éminent de la famille du premier président de la République, M. Léon MBA. C\\'est ce dimanche 11 juillet 2021 sur Radio et Télévision DENYIGBAN et la Chaîne Youtube Dr Mouketou Reçoit - Emission Heure De Vérité...est retransmise en direct sur les pages Facebook du Dr Jean Aimé Mouketou – Emission Heure de Vérité ainsi que celle de Radio et  Télévision DENYIGBAN. L\\'émission sera retransmise en différé sur la Radio Afrique.com Etats-Unis. A nos auditeurs, grand merci encore pour votre fidélité depuis plus de plus de 11 ans.67 678 commentaires',\n",
       "  'Link': 'https://www.facebook.com/groups/122051314817422/posts/1448354295520444/',\n",
       "  'Images': ['https://scontent-cdt1-1.xx.fbcdn.net/v/t1.6435-9/cp0/s118x90/193941875_10224064788234899_4084195371417679593_n.jpg?_nc_cat=110&ccb=1-5&_nc_sid=825194&_nc_ohc=law-CH5MiTYAX8ruR38&_nc_oc=AQm5L76n6BemVmuErJnCraS3GYdvVvwKMb5v8A4KB5xyuPZGG4k2X4zbY4Tqt6y8GJk&_nc_ht=scontent-cdt1-1.xx&oh=69c5488a14865a2918f4ff49cee2c4ae&oe=6169EAC6']},\n",
       " {'Name': 'Radio Disney Club',\n",
       "  'Date': '26 sept 2019',\n",
       "  'Content': ' …que nous apprenons aujourd’hui le décès du président Jacques Chirac. Nous rendons hommage aujourd’hui à l’homme qui nous a réuni autour de notre passion pour Disneyland Paris.1,1\\xa0K 1,1\\xa0K23 commentaires',\n",
       "  'Link': 'https://www.facebook.com/RadioDisneyClubFr/posts/10157564835759776',\n",
       "  'Images': ['https://scontent-cdg2-1.xx.fbcdn.net/v/t1.6435-9/cp0/c0.114.614.614a/s118x90/71219800_10157564835719776_8872926435195486208_n.jpg?_nc_cat=104&ccb=1-5&_nc_sid=8bfeb9&_nc_ohc=g3aKWBNaZVcAX958rqo&_nc_ht=scontent-cdg2-1.xx&oh=7f55f9ea965a6f0e47ca798302903d9d&oe=6168D8FA']},\n",
       " {'Name': 'Yasmine SawadogoTIRS CROISÉS (Politique et Société)26 sept. 2019',\n",
       "  'Date': '26 sept 2019',\n",
       "  'Content': \" …FORMIDABLE »   (Roch Kaboré, président du Faso)  Le président du Faso Roch Kaboré a réagi au décès jeudi de l’ancien président français Jacques Chirac (1995-2007) et premier ministre (1974-1976, 1986-1988).  « Je viens d'apprendre avec tristesse le décès de l'ancien Président Français Jacques Chirac. Avec sa disparition, l'Afrique perd un ami et un partenaire formidable. Je présente mes sincères condoléances à sa famille, au peuple français et Emmanuel Macron », a-t-il écrit sur son compte twitter. Source: Radio Omega173 173101 commentaires\",\n",
       "  'Link': 'https://www.facebook.com/groups/942246765831635/posts/2580206165369012/',\n",
       "  'Images': ['https://scontent-cdt1-1.xx.fbcdn.net/v/t1.6435-9/cp0/s118x90/71514610_959012234438953_1397780888686690304_n.jpg?_nc_cat=106&ccb=1-5&_nc_sid=825194&_nc_ohc=RSW6dsFRvycAX_H4l9K&tn=JeH1lT2W9h_3X_06&_nc_ht=scontent-cdt1-1.xx&oh=c6bc60cd4fc1bb3ac6bec024e07f2a29&oe=6166D871']},\n",
       " {'Name': 'Radio Avignon29\\xa0K personnes aiment ça\\u2009·\\u2009Entreprise locale3 juin',\n",
       "  'Date': '3 juin',\n",
       "  'Content': ' 14 juillet 1999, quelques jours avant le décès du défunt Roi Hassan 2. Comme si il voulait dire adieu à son meilleurs ami, le défunt président Jacques CHIRAC. \\xa0 ·  Hassan2 et Chirac23 231 commentaire',\n",
       "  'Link': 'https://www.facebook.com/RadioAvignon/posts/2925642944357630',\n",
       "  'Images': ['https://scontent-cdg2-1.xx.fbcdn.net/v/t15.5256-10/cp0/c20.0.90.90a/p118x90/183428050_515625123123533_398837517470640494_n.jpg?_nc_cat=100&ccb=1-5&_nc_sid=ad6a45&_nc_ohc=MbOVvTEfkjcAX-Js3OT&_nc_ht=scontent-cdg2-1.xx&oh=2daf6ab8e565132972f6df659bb3c9c1&oe=614733DC']},\n",
       " {'Name': 'FRANCE 24',\n",
       "  'Date': '26 sept 2019',\n",
       "  'Content': \" Décès de l'ancien président français Jacques Chirac \\xa0 ·  🇫🇷 L’ancien président Jacques Chirac est décédé.\\nSuivez notre édition spéciale en direct ➡️ https://f24.my/5Z30.f1,3\\xa0K 1,3\\xa0K427 commentaires\",\n",
       "  'Link': 'https://www.facebook.com/FRANCE24/posts/10157122109541936',\n",
       "  'Images': ['https://scontent-cdt1-1.xx.fbcdn.net/v/t15.5256-10/cp0/s118x90/69355275_2013462785421519_3319983318644031488_n.jpg?_nc_cat=105&ccb=1-5&_nc_sid=ad6a45&_nc_ohc=hpE5Gc8vdWUAX8Rp5Go&_nc_ht=scontent-cdt1-1.xx&oh=9957639152ce7c45634aa9c37be84892&oe=6148CFF0']},\n",
       " {'Name': 'Béatrice DeltourNoeux avenir12 janv.',\n",
       "  'Date': '12 janv',\n",
       "  'Content': \" …J'apprends, ce soir, avec émotion le décès de Jacques VILLEDARY, ancien Maire de Noeux-Les-Mines, Conseiller Général, Président de la Communauté de Communes du Béthunois puis Président fondateur de la CCNE. Homme de terrain, homme politique de talent, engagé et visionnaire, il aura eu à gérer l'après mine et la reconversion de la ville de Noeux-Les-Mines, chère à son cœur d'homme de gauche. Jacques VILLEDARY restera pour beaucoup l'élu qui pris le pari fou de reconvertir un terril en piste de ski...Loisinord était né ! Pour moi et d'un regard plus personnel, il restera le maire combatif, militant et farouchement attaché à la justice sociale qui, alors que j'étais lycéen à Noeux-Les-Mines, n'a pas hésité un seul instant à soutenir publiquement et à accompagner notre mouvement contre le CPE de Jacques Chirac. Notre territoire perd aujourd'hui un ardent défenseur du bassin minier. À sa famille, ses proches et amis, je présente, en mon nom et en celui du conseil municipal, mes plus sincères condoléances.Publication de Julien Dagbert - Maire de Barlin| Hommage à Jacques VILLEDARY |\\n\\nJ'apprends, ce soir, avec émotion le décès de Jacques VILLEDARY, ancien Maire de Noeux-Les-Mines, Conseiller Général, Président de la Communauté de Communes du Béthunois puis Président fondateur de la CCNE.\\n\\nHomme de terrain, homme politique de talent, engagé et visionnaire, il aura eu à gérer l'après mine et la reconversion de la ville de Noeux-Les-Mines, chère à son cœur d'homme de gauche.\\n\\nJacques VILLEDARY restera pour beaucoup l'élu qui pris le pari fou de reconvertir un terril en piste de ski...Loisinord était né !\\n\\nPour moi et d'un regard plus personnel, il restera le maire combatif, militant et farouchement attaché à la justice sociale qui, alors que j'étais lycéen à Noeux-Les-Mines, n'a pas hésité un seul instant à soutenir publiquement et à accompagner notre mouvement contre le CPE de Jacques Chirac.\\n\\nNotre territoire perd aujourd'hui un ardent défenseur du bassin minier.\\n\\nÀ sa famille, ses proches et amis, je présente, en mon nom et en celui du conseil municipal, mes plus sincères condoléances.9 97 commentaires\",\n",
       "  'Link': 'https://www.facebook.com/groups/144376592888196/posts/702114860447697/',\n",
       "  'Images': ['https://scontent-cdg2-1.xx.fbcdn.net/v/t1.6435-9/cp0/c0.104.654.654a/s118x90/137566763_2791139764456320_8173497255574921960_n.jpg?_nc_cat=102&ccb=1-5&_nc_sid=8bfeb9&_nc_ohc=t6wJeGh4NcwAX9IvtWJ&_nc_ht=scontent-cdg2-1.xx&oh=d3879c2b4d1e7def459215deac085394&oe=6169F9D0']},\n",
       " {'Name': 'Laurent TavelinTu es de Charny (89) quand…1 sept.',\n",
       "  'Date': '1 sept',\n",
       "  'Content': ' …📍 Nous fêtons les : • Gilles 📍 Le dicton du jour :  - \"S\\'il fait beau à la Saint-Gilles, cela durera jusqu\\'à la Saint-Michel\". 📍 Ils sont nés à cette date : - 1986 : naissance de Gaël Monfils à Paris, joueur de tennis professionnel français. Vainqueur en simple de cinq tournois du circuit ATP. - 1974 : naissance de Filip Nikolic à St Ouen (Seine-Saint-Denis) chanteur et acteur français. Leader des Boys Band du groupe 2Be3 \"Partir un jour\" 1996..   (mort le 16 septembre 2009). - 1971 : naissance de Virgile Bayle à Valence (Drôme), acteur français, connu pour son rôle du docteur Guillaume Leserman dans \"Plus belle la vie\". - 1971 : naissance de Lamia, dite Lââm à Paris, chanteuse de pop et de RnB. - 1966 : naissance de Thierry Campion, dit Cris Campion à Versailles, acteur français. \"Pirates\" en 1986 - \"Champ d\\'honneur\" en 1987.. - 1965 : naissance de Paule Marchand, dite paulette, qui vous accueille à la maison France services ! 😂 Allez lui faire un petit coucou. . .   - 1946 : naissance de Barry Alan Cromton Gibb Obe, chanteur, musicien et producteur. Avec ses frères Robin et Maurice, il a créé le groupe de musique \"Bee Gees\". - 1930 : naissance de Michel Serres à Agen, philosophe et historien des sciences français. Il est élu à l\\'Académie française en 1990.   (mort le 1er juin 2019). - 1896 : naissance de André Hunebelle à Meudon (Hauts-de-Seine), réalisateur français. \"Cadet Rousselle\" en 1954 - \"Le bossu\" en 1959 - \"Le capitain\" en 1960 - \"Fantômas\" (trilogie)..   (mort le 27 novembre 1985) à Nice (Alpes-Maritimes). - 1887 : naissance de Frédéric Louis Sauser dit Blaise Cendrars, écrivain français d\\'origine suisse. Grand Prix littéraire de la ville de Paris.   (mort le 21 janvier 1961) à Paris. - 1524 : naissance de Pierre de Ronsard, écrivain et poète français surnommé \"le prince des poètes\".   (mort le 27 décembre 1585). 📍 Ils nous ont quitté ce jour là : - 2003 : décès de Jack Smight, réalisateur américain \"Colombo\"..   (né le 9 mars 1925). - 1986 : décès de Murray Hamilton, à Washington, en Caroline du Nord (Etats-Unis), acteur américain. Films notables - \"Les Dents de la mer\" (1) en 1975 - \"Les Dents de la mer\" (2) en 1978..   (né le 24 mars 1923) à Washington, en Caroline du Nord (Etats-Unis). - 1981 : décès de Dorothy Walton Gatley dite Ann Harding, à Los Angeles — Quartier de Sherman Oaks en Californie (Etats-Unis), actrice américaine. Films notables - \"The Animal Kingdom\" en 1932 - \"Peter Ibbetson\" en 1935 - \"L\\'Étoile du Nord\" en 1943 - \"L\\'Homme au complet gris\" en 1956.. Séries télévisées - \"Alfred Hitchcock présente\" en 1961 - \"L\\'Homme à la Rolls\" en 1963..   (née le 7 août 1902) à San Antonio dans le Texas (Etats-Unis). - 1970 : décès de François Mauriac, académicien, écrivain et journaliste français.    📍 Les événements liés à cette date : - 2008 : La première pièce de 5 euros en argent est mise en circulation et il sera possible de réserver la pièce de 100 euros en or. Si la première sera éditée à 2 millions d\\'exemplaires, seuls 15 000 exemplaires de la seconde existeront. - 2001 : Arrivée de la monnaie  euros dans les banques européennes. - 1999 : Jacques Chirac, président de la République, décore de la Légion d\\'honneur l\\'équipe de France championne du monde de football ainsi que son entraîneur. - 1992 : Un tsunami provoque la mort d\\'une centaine de personnes au Nicaragua. - 1985 : Première image retransmise par le sous-marin Argo du paquebot Titanic disparu dans la nuit du 14 au 15 avril 1912. - 1983 : Dans la nuit du 31 août au 1er septembre l\\'aviation de chasse soviétique abat un Boeing sud-coréen (269 morts). - 1974 : Premières cartes à puces inventées par le français Roland Moreno mises sur le marché. - 1968 : Un séisme en Iran provoque la mort de 11 000 personnes. - 1951 : Jean Vilar devient directeur du Théâtre national populaire. - 1950 : Le droit de vote est retiré aux opposants du régime en Roumanie. - 1949 : Fondation de la première communauté d\\'Emmaüs. L\\'Abbé Pierre accueille dans sa maison de Neuilly-Plaisance Georges Legay, qui deviendra le premier compagnon d\\'Emmaüs. - 1948 : En France une loi est promulguée pour les loyers. - 1941 : Les nazis obligent les Juifs à porter l\\'étoile jaune. - 1939 : Hitler envahit la Pologne, provoquant la Seconde guerre mondiale. - 1923 : Japon - les ville de Tokyo et Yokohama sont détruites par un tremblement de terre qui fait plus de 142 000 morts et 100 000 blessés. ➖➖➖➖➖➖➖➖➖➖➖➖➖➖➖➖➖➖ 1er septembre 1971 : naissance de Lamia, dite Lââm à Paris, chanteuse de pop et de RnB.30 3023 commentaires',\n",
       "  'Link': 'https://www.facebook.com/groups/233123972270/posts/10157830368347271/',\n",
       "  'Images': ['https://scontent-cdg2-1.xx.fbcdn.net/v/t1.6435-9/cp0/c20.0.90.90a/p118x90/241068625_10224613815005203_4172956942166943699_n.jpg?_nc_cat=109&ccb=1-5&_nc_sid=825194&_nc_ohc=XW6Qkx6WpY8AX9kS1SC&_nc_ht=scontent-cdg2-1.xx&oh=64b390dab6315f232288042aa95d4146&oe=616A089D']},\n",
       " {'Name': 'Pdci Bouake Delegation KokoAllons Pour le PDCI-RDA15 oct. 2020',\n",
       "  'Date': ' oct 2020',\n",
       "  'Content': ' …de discipline. Quelques petites années avant le décès de mon père adoptif, grand fanatique du Sphinx de Daoukro, il me racontait une merveilleuse histoire. Je ne mesurais vraiment pas la portée de son histoire, mais aujourd\\'hui je me rends compte que les vieux n\\'ont pas d\\'egaux.  En effet, papa me disait qu\\'en 1992, lors d\\'une réunion, le président Félix Houphouët-Boigny a confié trois héritages à son dauphin constitutionnel, son héritier Politique le président HKB. D\\'abord le PDCI-RDA, secondo l\\'unité de la Nation Ivoirienne et le troisième Héritage qui demeurait un secret d\\'État. Mon père ajouta que des sachants savaient et aussi le président Jacques Chirac le savait et le transmettrait à toutes les générations de présidents Français qui lui accorderaient une estime royale malgré son jeune âge. Ce troisième Héritage était comme la prunelle des yeux du \"Sage d\\'Afrique\" à l\\'instar de tout bon grand-père.   Et, le président Henri Konan Bédié avait pour devoir de protéger, de garantir ces trois héritages sans oublier le grand prix international qui porte le nom du Père fondateur. On pourrait même dire que ce prix est un quatrième Héritage puisque le Sphinx de Daoukro en est le garant depuis son décès.  Le président HKB a bien respecté les recommandations d\\'un homme de la dimension de Félix Houphouët-Boigny, et a veillé à ce que et le PDCI-RDA et l\\'unité de la Côte d\\'Ivoire et le troisième Héritage et le prix Félix Houphouët-Boigny, ne soient jamais vandalisés. C\\'est le coup d\\'Etat de 1999 qui est venu effondrer cette unité tant conservée par le Sphinx de Daoukro, jusqu\\'à présent. Et, nous en souffrons toujours. Sinon les autres héritages ont jusque là été bien conservés. Le PDCI-RDA va à merveille, le prix Félix Houphouët-Boigny va aussi bien malgré les multiples tentatives de désacralisation. Le troisième Héritage également va bien même si  certains aventuriers ont tenté de se l\\'approprier.  Nous nous souvenons qu\\'en 1994, alors qu\\'il avait 28 ans le président Henri Konan Bédié à ses côtés un premier ministre comme Daniel Kablan Duncan le nomme jusqu\\'en 2000 ministre du plan et du développement, puis à partir de 1998, Président du Conseil d\\'administration du Bureau d\\'études en lui confiant la relance des mythiques chantiers de l\\'éléphant d\\'Afrique sous l\\'impulsion de Patrick Achi alors ministre des infrastructures économiques, chantiers qui aujourd\\'hui deviennent frauduleusement l\\'oeuvre des aventuriers fossoyeurs sans état d\\'âme. Mais, tant que l\\'esprit du père fondateur de la Côte d\\'Ivoire moderne planera sur notre Nation, tous ces héritages atteindront leur point de chute au nom puissant du Dieu des catholiques qu\\'a tant promu le \"Sage d\\'Afrique\", au nom puissant du Dieu d\\'Israël, terre sainte où une chapelle respire la pleine forme actuellement et bâtie par le \"Vieux\".  Dans mon dernier livre intitulé \"L\\'âge d\\'or de N\\'ZUEBA\" (inédit) aux Nouveau réveil éditions, Abidjan, et préfacé par M. Nestor KOFFI, Inspecteur du PDCI-RDA, j\\'ai souligné ce facteur divin de la couverture de l\\'esprit du président Henri Konan Bédié sur la surface totale de la Nation Ivoirienne. Esprit oint par le Dieu que servait avec ferveur son père spirituel le président Félix Houphouët-Boigny. Prions tous pour la Côte d\\'Ivoire. Une nouvelle lumière s\\'apprête à s\\'y allumer. Un nouveau vent s\\'apprête à s\\'y souffler. Un espoir nouveau est à l\\'aube. Atisons bien le feu du crépuscule. #Seulsles initiés comme moi comprendront mes lignes. On revient  de loin... #HKB forever...55 556 commentaires',\n",
       "  'Link': 'https://www.facebook.com/groups/288871558347280/posts/795587644342333/',\n",
       "  'Images': ['https://scontent-cdt1-1.xx.fbcdn.net/v/t1.6435-9/cp0/c0.79.720.720a/s118x90/121647114_647034792873859_925265300199569513_n.jpg?_nc_cat=105&ccb=1-5&_nc_sid=825194&_nc_ohc=v_6qe21zhlcAX_kOfd8&tn=JeH1lT2W9h_3X_06&_nc_ht=scontent-cdt1-1.xx&oh=a2400c6bdf3a1df52e91d412ec82588f&oe=61699B17']},\n",
       " {'Name': 'Alain MadeiraCercle Culturel Royal Séculier  Commanderie de la Réunion3 déc. 2020',\n",
       "  'Date': ' déc 2020',\n",
       "  'Content': \" …une grande tristesse que nous apprenons le décès du Président Valéry Giscard d’Estaing, des suites du Covid 19. Nous saluons  sa mémoire et présentons nos condoléances à sa famille. Qu’il repose dans la paix de Dieu et que brille sur lui la lumière sans déclin. L'ancien président de la République de 1974 à 1981 avait été hospitalisé à Tours le 17 novembre dernier pour «une insuffisance cardiaque». Il s'est éteint à l'âge de 94 ans, entouré des siens. La France a perdu un homme d’État et de lettres, et l’Auvergne, un défenseur intraitable de son identité, de son caractère et de son patrimoine. Pour l’Auvergne, Valéry Giscard d’Estaing restera pour toujours un visionnaire. L'ancien président de la République Valéry Giscard d'Estaing est décédé ce mercredi soir à l'âge de 94 ans dans son château d’Authon, a annoncé son entourage. Il s'est éteint «entouré de sa famille» dans sa propriété d'Authon dans le Loir-et-Cher. Il est mort «des suites du Covid» a ensuite précisé sa famille. L'ancien chef de l'État avait été admis dans «le service de cardiologie» de l'hôpital de Tours le 17 novembre dernier pour «une insuffisance cardiaque» , avait alors indiqué son entourage. En septembre, l'ancien chef de l'État avait déjà été hospitalisé à l'hôpital Georges Pompidou, à Paris, pour «une légère infection aux poumons». Il avait déjà été hospitalisé à plusieurs reprises à l'hôpital Georges Pompidou il y a quelques années, en cardiologie pour la pose de stents. Plus jeune président de la Vème République lorsqu'il est élu en 1974, Valéry Giscard d'Estaing avait fait l'une de ses dernières apparitions publiques le 30 septembre 2019 lors des obsèques à Paris d'un autre président de la République, Jacques Chirac, qui fut son premier ministre de 1974 à 1976. Né le 2 février 1926 à Coblence, où son père Edmond Giscard d’Estaing était en poste durant l’occupation de la Rhénanie par les forces françaises. Il fait ses études à l’école Gerson, puis aux lycées Janson-de-Sailly et Louis-le-Grand à Paris, et Blaise Pascal à Clermont-Ferrand. À dix-huit ans, il s’engage dans la Première Armée française (campagne 1944-1945) où il est décoré de la croix de guerre. Reçu aux concours de l’École polytechnique, puis de l’École nationale d’administration, il entre dans le corps de l’inspection générale des Finances en 1952 où il poursuit une carrière administrative jusqu’en 1956. Il est élu député à l’Assemblée nationale en 1956, puis nommé ministre des Finances et des Affaires économiques entre 1961 et 1974, sous les présidences du général de Gaulle et de Georges Pompidou. Il exerce la fonction de président de la République de 1974 à 1981. Depuis 1981, il consacre ses activités au service de la région d’Auvergne, qu’il a présidée jusqu'en 2004, et de ses convictions européennes. En 2001, il est nommé président de la Convention européenne chargée d »élaborer une constitution pour l’Europe. Il siège au Conseil Constitutionnel dont il est, à vie, membre de droit. De nombreuses universités lui ont décerné un doctorat honoris causa. Depuis 1995, il est membre de la Real Academia de Ciencias Economicas y Financieras (Espagne). En 2001, il a reçu la médaille d’or de la Fondation Jean Monnet pour l’Europe, et en 2002 le prix Charlemagne décerné par la ville d’Aix-la-Chapelle, et en 2006, avec Helmut Schmidt, le prix De Gaulle-Adenauer à Berlin. Il a été élu, en avril 2006, membre associé de l’Académie Royale de Belgique. Il a été élu à l’Académie française, le 11 décembre 2003, au fauteuil de Léopold Sédar Senghor (16e fauteuil), et reçu le 16 décembre 2004 par Jean-Marie Rouart. Avec Louis MertensPublication de Karl Michel Mertens-von HohenbergC’est avec une grande tristesse que nous apprenons le décès du Président Valéry Giscard d’Estaing, des suites du Covid 19. Nous saluons  sa mémoire et présentons nos condoléances à sa famille.\\n\\nQu’il repose dans la paix de Dieu et que brille sur lui la lumière sans déclin.\\n\\nL'ancien président de la République de 1974 à 1981 avait été hospitalisé à Tours le 17 novembre dernier pour «une insuffisance cardiaque». Il s'est éteint à l'âge de 94 ans, entouré des siens.\\n\\nLa France a perdu un homme d’État et de lettres, et l’Auvergne, un défenseur intraitable de son identité, de son caractère et de son patrimoine. Pour l’Auvergne, Valéry Giscard d’Estaing restera pour toujours un visionnaire.\\n\\nL'ancien président de la République Valéry Giscard d'Estaing est décédé ce mercredi soir à l'âge de 94 ans dans son château d’Authon, a annoncé son entourage. Il s'est éteint «entouré de sa famille» dans sa propriété d'Authon dans le Loir-et-Cher. Il est mort «des suites du Covid» a ensuite précisé sa famille.\\n\\nL'ancien chef de l'État avait été admis dans «le service de cardiologie» de l'hôpital de Tours le 17 novembre dernier pour «une insuffisance cardiaque» , avait alors indiqué son entourage. En septembre, l'ancien chef de l'État avait déjà été hospitalisé à l'hôpital Georges Pompidou, à Paris, pour «une légère infection aux poumons». Il avait déjà été hospitalisé à plusieurs reprises à l'hôpital Georges Pompidou il y a quelques années, en cardiologie pour la pose de stents.\\n\\nPlus jeune président de la Vème République lorsqu'il est élu en 1974, Valéry Giscard d'Estaing avait fait l'une de ses dernières apparitions publiques le 30 septembre 2019 lors des obsèques à Paris d'un autre président de la République, Jacques Chirac, qui fut son premier ministre de 1974 à 1976.\\n\\nNé le 2 février 1926 à Coblence, où son père Edmond Giscard d’Estaing était en poste durant l’occupation de la Rhénanie par les forces françaises. Il fait ses études à l’école Gerson, puis aux lycées Janson-de-Sailly et Louis-le-Grand à Paris, et Blaise Pascal à Clermont-Ferrand. À dix-huit ans, il s’engage dans la Première Armée française (campagne 1944-1945) où il est décoré de la croix de guerre. Reçu aux concours de l’École polytechnique, puis de l’École nationale d’administration, il entre dans le corps de l’inspection générale des Finances en 1952 où il poursuit une carrière administrative jusqu’en 1956. Il est élu député à l’Assemblée nationale en 1956, puis nommé ministre des Finances et des Affaires économiques entre 1961 et 1974, sous les présidences du général de Gaulle et de Georges Pompidou. Il exerce la fonction de président de la République de 1974 à 1981. Depuis 1981, il consacre ses activités au service de la région d’Auvergne, qu’il a présidée jusqu'en 2004, et de ses convictions européennes. En 2001, il est nommé président de la Convention européenne chargée d »élaborer une constitution pour l’Europe. Il siège au Conseil Constitutionnel dont il est, à vie, membre de droit.\\n\\nDe nombreuses universités lui ont décerné un doctorat honoris causa. Depuis 1995, il est membre de la Real Academia de Ciencias Economicas y Financieras (Espagne). En 2001, il a reçu la médaille d’or de la Fondation Jean Monnet pour l’Europe, et en 2002 le prix Charlemagne décerné par la ville d’Aix-la-Chapelle, et en 2006, avec Helmut Schmidt, le prix De Gaulle-Adenauer à Berlin. Il a été élu, en avril 2006, membre associé de l’Académie Royale de Belgique.\\n\\nIl a été élu à l’Académie française, le 11 décembre 2003, au fauteuil de Léopold Sédar Senghor (16e fauteuil), et reçu le 16 décembre 2004 par Jean-Marie Rouart.\\n\\nAvec Louis Mertens10 107 commentaires\",\n",
       "  'Link': 'https://www.facebook.com/groups/689736964916709/posts/789334618290276/',\n",
       "  'Images': ['https://scontent-cdg2-1.xx.fbcdn.net/v/t1.6435-9/cp0/c0.67.397.397a/s118x90/128829764_1063389114110211_2242424673519954365_n.jpg?_nc_cat=111&ccb=1-5&_nc_sid=825194&_nc_ohc=U3nrHz7QzqIAX94JHM7&_nc_ht=scontent-cdg2-1.xx&oh=eb6b6a199ac04c46ff44e8a47800d5c7&oe=616876CD']},\n",
       " {'Name': 'Rodry Tsatyla force du changement AFC28 août 2020',\n",
       "  'Date': ' août 2020',\n",
       "  'Content': \" …DE CLAUDINE MUNARI. Comprendre qui était le Président Pr Pascal Lissouba, son combat politique, pourquoi et comment la France et Jacques Chirac ont ils tué la démocratie au Congo-Brazzaville, chassé un président démocratiquement élu par un coup d'état militaire, pour ramener le Despote criminel Sassou Nguesso au pouvoir.Publication de Christian Perrin JriDÉCÈS DU PR PASCAL LISSOUBA, UN TÉMOIGNAGE DE CLAUDINE MUNARI.\\n\\nComprendre qui était le Président Pr Pascal Lissouba, son combat politique, pourquoi et comment la France et Jacques Chirac ont ils tué la démocratie au Congo-Brazzaville, chassé un président démocratiquement élu par un coup d'état militaire, pour ramener le Despote criminel Sassou Nguesso au pouvoir.2 2\",\n",
       "  'Link': 'https://www.facebook.com/groups/872451916563695/posts/956373178171568/',\n",
       "  'Images': ['https://scontent-cdt1-1.xx.fbcdn.net/v/t15.5256-10/cp0/c35.0.90.90a/p118x90/118606380_1165619090469766_4513993146059639957_n.jpg?_nc_cat=106&ccb=1-5&_nc_sid=1055be&_nc_ohc=Yu5jo_AuQlYAX-aZqW7&_nc_ht=scontent-cdt1-1.xx&oh=1d536662d41d1cded1ed9aaf314b0bd3&oe=61481FC9']},\n",
       " {'Name': 'Ali Bongo Ondimba',\n",
       "  'Date': '26 sept 2019',\n",
       "  'Content': ' …beaucoup de tristesse que j\\'ai appris le décès ce jour de l\\'ancien président de la République française, Jacques Chirac.  Jacques Chirac était un grand ami, fidèle et loyal, du Gabon. Un amoureux sincère de l\\'Afrique.  Il a été pour moi un père spirituel dont je n\\'oublierai jamais la bienveillance. \"Ce qui fait la force, ça n\\'est pas le pouvoir, c\\'est le vouloir\", aimait-il à répéter. Je garderai à jamais en mémoire l\\'image d\\'un homme, d\\'un homme d\\'Etat profondément humaniste qui, toute sa vie, aura été un pont entre les peuples, entre les civilisations. Au nom du peuple gabonais, je présente à toute sa famille et au peuple français mes plus sincères condoléances. Puisse ce grand homme, qui a marqué l\\'Histoire politique contemporaine, désormais reposer en paix.1,1\\xa0K 1,1\\xa0K206 commentaires',\n",
       "  'Link': 'https://www.facebook.com/alibongoondimba/posts/2601115466576286',\n",
       "  'Images': []},\n",
       " {'Name': 'Hassane Cheikh14 juil.',\n",
       "  'Date': '14 juil',\n",
       "  'Content': ' …son décès. Invité d’honneur du Président français Jacques Chirac, le défunt Roi assistait au défilé du 14 juillet 1999. C’était « l’année du Maroc » en France. A l’image des troupes de la Garde Royale descendant les Champs-Elysées au son de la Marche Verte, lors du traditionnel défilé militaire organisé chaque année, pour la fête nationale française, s’associait l’image d’un Roi fier de sa Garde, héritière d’une longue tradition militaire Un bel hommage rendu aux troupes marocaines qui avaient participé à la libération de l’Hexagone en 1945. C’était alors la deuxième fois, depuis la création du défilé, qu’un contingent étranger autonome participait à la parade militaire.6 63 commentaires',\n",
       "  'Link': 'https://www.facebook.com/hassane.cheikh.52/posts/493013988460300',\n",
       "  'Images': ['https://scontent-cdg2-1.xx.fbcdn.net/v/t1.6435-9/cp0/c0.29.371.371a/s118x90/217420496_493013881793644_1750195072002994205_n.jpg?_nc_cat=111&ccb=1-5&_nc_sid=8bfeb9&_nc_ohc=Pj3UJKfrHOIAX9F9dLt&_nc_ht=scontent-cdg2-1.xx&oh=e313a0e39f6325351a36bac0906d3bc2&oe=6167B66C',\n",
       "   'https://scontent-cdt1-1.xx.fbcdn.net/v/t15.5256-10/cp0/c15.0.90.90a/p118x90/211427370_1403432813357243_5952766385304676767_n.jpg?_nc_cat=110&ccb=1-5&_nc_sid=ad6a45&_nc_ohc=23Xi24s-q3IAX-jPyZC&_nc_ht=scontent-cdt1-1.xx&oh=08af4d367fe6993fbc63acb1d3cc6373&oe=614783C7']},\n",
       " {'Name': 'Karim Keïta',\n",
       "  'Date': '30 sept 2019',\n",
       "  'Content': ' …suite au décès de l’ancien président Jacques Chirac. Qu’il repose en paix! @FranceauMali+41,4\\xa0K 1,4\\xa0K152 commentaires',\n",
       "  'Link': 'https://www.facebook.com/KarimKeita.ML/posts/2717611924936718',\n",
       "  'Images': ['https://scontent-cdg2-1.xx.fbcdn.net/v/t1.6435-9/cp0/c65.0.831.831a/s118x90/71144976_2717611894936721_9085138832260595712_n.jpg?_nc_cat=100&ccb=1-5&_nc_sid=8bfeb9&_nc_ohc=eEKmBT25KKoAX9W1lpM&tn=JeH1lT2W9h_3X_06&_nc_ht=scontent-cdg2-1.xx&oh=19d91ce0df91d81899cd602f4493cf80&oe=616842D7',\n",
       "   'https://scontent-cdg2-1.xx.fbcdn.net/v/t1.6435-9/cp0/c23.0.90.90a/p118x90/71944052_2717611488270095_4895148993765441536_n.jpg?_nc_cat=104&ccb=1-5&_nc_sid=8bfeb9&_nc_ohc=fEGlo3jLF2sAX_aImc5&tn=JeH1lT2W9h_3X_06&_nc_ht=scontent-cdg2-1.xx&oh=ebdf24014669042cc4cd675a98a9d4b7&oe=6167785E',\n",
       "   'https://scontent-cdt1-1.xx.fbcdn.net/v/t1.6435-9/cp0/c23.0.90.90a/p118x90/71211260_2717611594936751_2597896829676814336_n.jpg?_nc_cat=105&ccb=1-5&_nc_sid=8bfeb9&_nc_ohc=arTWmuQMURcAX9vDALq&_nc_ht=scontent-cdt1-1.xx&oh=50a27afc699c6589ab528d7a89248f87&oe=61690776']},\n",
       " {'Name': 'Kader SdbObservatoire des HOUPHOUËTISTES Pour la Démocratie et la Paix30 juil. 2020',\n",
       "  'Date': '30 juil 2020',\n",
       "  'Content': \" …de la Défense, également proche du président Ouattara, prend la tête de la primature pour succéder au défunt Amadou Gon Coulibaly. Après le décès soudain du Premier ministre et candidat du parti au pouvoir à l'élection présidentielle d'octobre, Amadou Gon Coulibaly, intervenu le 8 juillet dernier, Alassane Ouattara a choisi de remettre les clés de la primature à Hamed Bakayoko, 55 ans, qui en assurait l'intérim depuis près de deux mois. « Le président de la République a procédé à la signature d'un décret portant nomination de M. Hamed Bakayoko en qualité de Premier ministre », tout en conservant le portefeuille de la Défense, selon un communiqué de la présidence publié ce jeudi 30 juillet. Son nom avait circulé comme présidentiable, avant la désignation en mars d'Amadou Gon Coulibaly comme candidat du parti au pouvoir pour la présidentielle d'octobre en Côte d'Ivoire. Mais qui est-il vraiment et de quelle marge de manœuvre dispose-t-il, alors que la Côte d'Ivoire est entrée dans une période d'incertitude. Hamed Bakayoko, un ex-homme de médias Du haut de son mètre quatre-vingt-neuf, l'ancien journaliste et homme d'affaires Hamed Bakayoko est devenu en une décennie un acteur politique incontournable : ministre d'État, ministre de l'Intérieur en 2011 puis de la Défense depuis 2017 et depuis deux ans maire d'Abobo, l'une des deux communes les plus peuplées d'Abidjan et de Côte d'Ivoire. Mais il y a vingt ans en arrière, Hamed Bakayoko était un heureux dirigeant de médias, Le Patriote, Radio Nostalgie ou encore Nostalgie Afrique. C'est en 2011 qu'« Hambak », comme le surnomment les Ivoiriens, fait son entrée en politique. Il est nommé ministre des Nouvelles Technologies, de l'Information et de la Communication (NTIC) dans un contexte sécuritaire ultrasensible. Les accords de Linas-Marcoussis (du nom d'une petite agglomération de la région parisienne) venaient d'être signés en France sous l'égide de Jacques Chirac et Laurent Gbagbo et un gouvernement de réconciliation nationale devait être constitué. Alors que Hamed Bakayoko est membre du RDR, le Rassemblement des républicains, il entretient d'excellentes relations avec l'opposition et surtout Guillaume Soro, qui insiste pour qu'il entre au gouvernement. Il reste à son poste de mars 2003 à avril 2011. Hamed Bakayoko, un enfant d'Adjamé Et pourtant, rien ne le prédestinait à une telle carrière. Hamed Bakayoko est né dans le quartier d'Habitat-Extension, dans la commune d'Adjamé. Sa famille est pieuse et conservatrice, descendant d'érudits musulmans connus de la famille d'El-Hadji Moussa Bakayoko, celui-là même qui, selon la légende, fonda la ville de Koro, dans le nord-ouest de la Côte d'Ivoire. Élevé par son père veuf avec son frère et ses deux sœurs, Hamed Bakayoko part dès la fin du lycée pour le Burkina Faso afin d'y étudier la médecine. Il n'ira pas au bout, car à Ouaga ce mélomane amoureux des rythmes ivoiriens et habitué des clubs s'éveille à la politique, découvre Thomas Sankara et les discours de lutte. Hamed Bakayoko, un parcours de militant À son retour à Abidjan, il commence à militer au sein du Mouvement des étudiants et élèves de Côte d'Ivoire (MEECI), un syndicat proche du PDCI-RDA (Rassemblement démocratique africain). Ce qui lui donne l'idée de fonder dans ces années 90 le mouvement de la Jeunesse estudiantine et scolaire du PDCI (JESPDCI). Qu'à cela ne tienne, pourquoi ne pas fonder un journal. Hamed Bakayoko lance Le Patriote, qui se veut proche d'Houphouët-Boigny et du PDCI. Le Vieux n'y est pas sensible et Hamed Bakayoko décide de se mettre au service de la défense du Premier ministre de Félix Houphouët-Boigny, Alassane Ouattara. Il vient de lancer avec Djéni Kobina le Rassemblement des Républicains (RDR) et Le Patriote en devient son organe de presse. Mais Henri Konan Bédié, grand rival d'Ouattara, ne digère pas l'un des courriers de lecteur lui portant atteinte. Bakayoko est envoyé en détention à la Maca, à Abidjan, pour quatre mois et seize jours. Un tournant : la rencontre avec Dominique Ouattara Après sa sortie, il se lance en radio avant de faire la rencontre de celle qui deviendra la première dame de Côte d'Ivoire, Dominique Ouattara, qui investit dans son média. Depuis cette époque, une relation de confiance s'est installée entre les deux hommes qui se sont rapprochés au fil des années. Au point que lorsque le 11 avril 2011, Laurent Gbagbo est finalement arrêté dans sa résidence de Cocody par les Forces républicaines de Côte d'Ivoire (FRCI), Alassane Ouattara désigne Hamed Bakayoko pour assurer la protection de l'ancien président à l'hôtel du Golf. Marié à la très discrète Yolande Bakayoko depuis plus de vingt ans, franc-maçon et grand maître de la Grande Loge de Côte d'Ivoire, Hamed Bakayoko est aujourd'hui une personnalité de poids au sein de la machine Ouattara. Dans tous les cas, il est un rouage indispensable pour la prochaine élection présidentielle. Alassane Ouattara devrait vraisemblablement se représenter au scrutin présidentiel pour un troisième mandat, mais il a annoncé différer sa décision, mercredi, devant le conseil politique de son parti, le RHDP à Abidjan.55 553 commentaires\",\n",
       "  'Link': 'https://www.facebook.com/groups/2066092363611852/posts/2671087783112304/',\n",
       "  'Images': ['https://scontent-cdg2-1.xx.fbcdn.net/v/t1.6435-9/cp0/c35.0.705.705a/s118x90/116344746_925792117918171_8946253413338979790_n.jpg?_nc_cat=108&ccb=1-5&_nc_sid=825194&_nc_ohc=HCzvwmWlshMAX9AMRyp&_nc_ht=scontent-cdg2-1.xx&oh=2ce5548c4be0e6146fce2792deb55ca6&oe=6167EFE0']},\n",
       " {'Name': 'Karl Michel Mertens-von HohenbergLouis de Bourbon et la famille Royale de France .Duché de Bourbonnais.3 déc. 2020',\n",
       "  'Date': ' déc 2020',\n",
       "  'Content': \" …une grande tristesse que nous apprenons le décès du Président Valéry Giscard d’Estaing, des suites du Covid 19. Nous saluons  sa mémoire et présentons nos condoléances à sa famille. Qu’il repose dans la paix de Dieu et que brille sur lui la lumière sans déclin. L'ancien président de la République de 1974 à 1981 avait été hospitalisé à Tours le 17 novembre dernier pour «une insuffisance cardiaque». Il s'est éteint à l'âge de 94 ans, entouré des siens. La France a perdu un homme d’État et de lettres, et l’Auvergne, un défenseur intraitable de son identité, de son caractère et de son patrimoine. Pour l’Auvergne, Valéry Giscard d’Estaing restera pour toujours un visionnaire. L'ancien président de la République Valéry Giscard d'Estaing est décédé ce mercredi soir à l'âge de 94 ans dans son château d’Authon, a annoncé son entourage. Il s'est éteint «entouré de sa famille» dans sa propriété d'Authon dans le Loir-et-Cher. Il est mort «des suites du Covid» a ensuite précisé sa famille. L'ancien chef de l'État avait été admis dans «le service de cardiologie» de l'hôpital de Tours le 17 novembre dernier pour «une insuffisance cardiaque» , avait alors indiqué son entourage. En septembre, l'ancien chef de l'État avait déjà été hospitalisé à l'hôpital Georges Pompidou, à Paris, pour «une légère infection aux poumons». Il avait déjà été hospitalisé à plusieurs reprises à l'hôpital Georges Pompidou il y a quelques années, en cardiologie pour la pose de stents. Plus jeune président de la Vème République lorsqu'il est élu en 1974, Valéry Giscard d'Estaing avait fait l'une de ses dernières apparitions publiques le 30 septembre 2019 lors des obsèques à Paris d'un autre président de la République, Jacques Chirac, qui fut son premier ministre de 1974 à 1976. Né le 2 février 1926 à Coblence, où son père Edmond Giscard d’Estaing était en poste durant l’occupation de la Rhénanie par les forces françaises. Il fait ses études à l’école Gerson, puis aux lycées Janson-de-Sailly et Louis-le-Grand à Paris, et Blaise Pascal à Clermont-Ferrand. À dix-huit ans, il s’engage dans la Première Armée française (campagne 1944-1945) où il est décoré de la croix de guerre. Reçu aux concours de l’École polytechnique, puis de l’École nationale d’administration, il entre dans le corps de l’inspection générale des Finances en 1952 où il poursuit une carrière administrative jusqu’en 1956. Il est élu député à l’Assemblée nationale en 1956, puis nommé ministre des Finances et des Affaires économiques entre 1961 et 1974, sous les présidences du général de Gaulle et de Georges Pompidou. Il exerce la fonction de président de la République de 1974 à 1981. Depuis 1981, il consacre ses activités au service de la région d’Auvergne, qu’il a présidée jusqu'en 2004, et de ses convictions européennes. En 2001, il est nommé président de la Convention européenne chargée d »élaborer une constitution pour l’Europe. Il siège au Conseil Constitutionnel dont il est, à vie, membre de droit. De nombreuses universités lui ont décerné un doctorat honoris causa. Depuis 1995, il est membre de la Real Academia de Ciencias Economicas y Financieras (Espagne). En 2001, il a reçu la médaille d’or de la Fondation Jean Monnet pour l’Europe, et en 2002 le prix Charlemagne décerné par la ville d’Aix-la-Chapelle, et en 2006, avec Helmut Schmidt, le prix De Gaulle-Adenauer à Berlin. Il a été élu, en avril 2006, membre associé de l’Académie Royale de Belgique. Il a été élu à l’Académie française, le 11 décembre 2003, au fauteuil de Léopold Sédar Senghor (16e fauteuil), et reçu le 16 décembre 2004 par Jean-Marie Rouart. Avec Louis Mertens369 369175 commentaires\",\n",
       "  'Link': 'https://www.facebook.com/groups/982622851772348/posts/3820748027959802/',\n",
       "  'Images': ['https://scontent-cdg2-1.xx.fbcdn.net/v/t1.6435-9/cp0/c0.67.397.397a/s118x90/128829764_1063389114110211_2242424673519954365_n.jpg?_nc_cat=111&ccb=1-5&_nc_sid=825194&_nc_ohc=U3nrHz7QzqIAX94JHM7&_nc_ht=scontent-cdg2-1.xx&oh=eb6b6a199ac04c46ff44e8a47800d5c7&oe=616876CD']},\n",
       " {'Name': 'Roch M.C. Kabore',\n",
       "  'Date': '29 sept 2019',\n",
       "  'Content': ' …suite au décès de l’ancien président Jacques Chirac. Avec sa disparition, c’est une page du gaullisme qui se referme.694 694100 commentaires',\n",
       "  'Link': 'https://www.facebook.com/RochKaborePF/posts/552099752262515',\n",
       "  'Images': ['https://scontent-cdg2-1.xx.fbcdn.net/v/t1.6435-9/cp0/c23.0.90.90a/p118x90/71820638_552099605595863_7141731259704672256_n.jpg?_nc_cat=104&ccb=1-5&_nc_sid=8bfeb9&_nc_ohc=nKP4OacC5DsAX9u-CEs&_nc_ht=scontent-cdg2-1.xx&oh=1e822bac48bb4800da500a837f7ea242&oe=616A42CE']},\n",
       " {'Name': 'Frederic de NatalInternational Monarchist Conference - Conférence Monarchiste Internationale27 sept. 2019',\n",
       "  'Date': '27 sept 2019',\n",
       "  'Content': ' …french throne regarding the death of President Jacques Chirac : \"The Count of Paris has all his life assumed in fidelity the legacy of the royal family of France, without departing from respect for the institutions of the Republic.\" I do not forget the sincere tribute that President Jacques Chirac gave to my grandfather on the day of his death. I had the opportunity to meet him several times, especially during the Capetian Millennium. I keep  of the man, a certain picture of France, and a stature that made honor to our country. My loving thoughts are with his family, especially his wife, present at my wedding and my grandma\\'s faithful friend.la-couronne.orgCommuniqué de Monseigneur le comte de Paris suite au décès du président Jacques Chirac - Le blog de La Couronne30 301 commentaire',\n",
       "  'Link': 'https://www.facebook.com/groups/monarchiste/posts/10157067434939902/',\n",
       "  'Images': []},\n",
       " {'Name': 'Serge FontaineHOMMAGE A JOHNNY HALLYDAY29 sept. 2020',\n",
       "  'Date': '29 sept 2020',\n",
       "  'Content': ' …vous,  j’ai été attristé par le décès de ce grand homme qu’était Jacques Chirac. Alors à ma manière j’ai voulu lui rendre hommage. Comme vous le savez, Jacques Chirac et Johnny avaient l’un pour l’autre une affection toute particulière. Alors j’ai pris ma plume et j’ai adapté une chanson du Boss « Merci » que j’ai intitulée « Merci Mr. le président » J’espère que ça vous plaira. Bises et merci à tous.  Et n’oubliez pas de partager si ça vous a plu!!!Publication de Serge FontaineCoucou les amis, tout comme une majorité d’entre vous, \\nj’ai été attristé par le décès de ce grand homme qu’était Jacques Chirac. Alors à ma manière j’ai voulu lui rendre hommage. Comme vous le savez, Jacques Chirac et Johnny avaient l’un pour l’autre une affection toute particulière. Alors j’ai pris ma plume et j’ai adapté une chanson du Boss « Merci » que j’ai intitulée « Merci Mr. le président » J’espère que ça vous plaira. Bises et merci à tous. \\nEt n’oubliez pas de partager si ça vous a plu!!!9 93 partages',\n",
       "  'Link': 'https://www.facebook.com/groups/1279872995450717/posts/3060677770703555/',\n",
       "  'Images': ['https://scontent-cdt1-1.xx.fbcdn.net/v/t15.5256-10/cp0/c35.0.90.90a/p118x90/69473916_2632633610113344_1788042121375121408_n.jpg?_nc_cat=110&ccb=1-5&_nc_sid=1055be&_nc_ohc=F9Cn8IlVNekAX8b5uFR&_nc_ht=scontent-cdt1-1.xx&oh=3800091efe581e567946e2f23b442103&oe=614721B6']},\n",
       " {'Name': 'Jcb Alias Msgr DubosqDPLV et SMLH 1311 avr.',\n",
       "  'Date': '1311 avr',\n",
       "  'Content': \" Décès du général Henri Marescaux (X63), directeur général de l’X de 1993 à 1997 Le général d’armée Henri Marescaux est mort le 1er avril dans sa soixante-dix-huitième année. Directeur général de l’École polytechnique de 1993 à 1997, il a contribué à sa modernisation et à son internationalisation. Il a fondé l’association Tamaris qui se consacre au soutien des personnes prostituées. Le directeur général de l'Ecole polytechnique, Henri Marescau, avec Janques Chirac lors des cérémonies du bicenteiare de l'X Henri Marescaux, directeur général de l'X de 1993 à 1997 avec Jacques Chirac, lors des cérémonies du bicentaire de l'X en 1994 Né en 1943 à Albertville (Savoie), Henri Marescaux intègre l’École polytechnique en 1963. Ancien élève de l’Ecole nationale des Ponts et Chaussées (70) et de l’Ecole de guerre (81), il commande le 19e régiment du génie à Besançon puis dirige l’École polytechnique de 1993 à 1997. Son mandat à la tête de l’X coïncide avec le bicentenaire de l’École qu’il contribue à moderniser et à internationaliser en étroite collaboration avec le président Pierre Faurre. Il a ainsi préparé la réforme de grande ampleur de l’École, dite « X2000 » qui prévoyait un recrutement plus diversifié des élèves français et étrangers, un renforcement des liens avec les grandes universités et écoles françaises et étrangères et une rénovation de la formation humaine et militaire avec des stages de terrains permettant aux polytechniciens de découvrir des milieux humains très divers. Cette réforme a aussi permis de développer la capacité de recherche à l’X et d’en valoriser les résultats. Après avoir créé le service d’architecture des systèmes de forces à la Direction générale de l’Armement, Henri Marescaux devient major général de l’armée de terre en 1999 assurant la transformation en profondeur de l’institution après l’arrêt du service national et la professionnalisation des armées. Il termine sa carrière militaire en 2002 avec le titre d’Inspecteur Général des Armées. Il est le fondateur de l’association Tamaris qui se consacre au service des personnes prostituées et accompagne plusieurs centaines d’entre elles pour sortir de la prostitution, notamment en leur proposant des cours de français et en les assistant dans les démarches administratives. En 2019, il publie un livre sur cette expérience, Les prostituées nous précèdent. Dans un entretien accordé à la Jaune & La Rouge en mars 2019, Henri Marescaux était revenu sur sa carrière militaire, ses années à la direction de l’Ecole polytechnique et sur son engagement associatif.8 82 commentaires\",\n",
       "  'Link': 'https://www.facebook.com/groups/WWW.DPLV.BOUCHESDURHONE/posts/2890113831309352/',\n",
       "  'Images': []},\n",
       " {'Name': 'Laurent TavelinTu es de Charny (89) quand…25 août',\n",
       "  'Date': '25 août',\n",
       "  'Content': \" …l'Allemagne. - 1976 : Démission de Jacques Chirac du poste de Premier ministre de Giscard d'Estaing. Il est remplacé par Raymond Barre. - 1973 : Deux co-princes d'Andorre (le Président Pompidou et l'évêque d'Urgel) se rencontrent pour la première fois depuis 700 ans. - 1960 : Ouverture des 17e Jeux Olympique à Rome. ➖➖➖➖➖➖➖➖➖➖➖➖➖➖➖➖➖➖ 25 Août 1970 : naissance de Claudia Schiffer à Rhrinberg (Allemagne), mannequin. Elle aura marquée son époque !16 164 commentaires\",\n",
       "  'Link': 'https://www.facebook.com/groups/233123972270/posts/10157815762392271/',\n",
       "  'Images': ['https://scontent-cdt1-1.xx.fbcdn.net/v/t1.6435-9/cp0/c0.48.456.456a/s118x90/238829617_10224567002354916_6545917939121843123_n.jpg?_nc_cat=101&ccb=1-5&_nc_sid=825194&_nc_ohc=hloy47uweeoAX-jQWhr&_nc_ht=scontent-cdt1-1.xx&oh=4412137e54887c6f55c84f1ba5c9c173&oe=61686C46']},\n",
       " {'Name': 'Pdci Bouake Delegation Kokojeunesse Gouali Basile15 oct. 2020',\n",
       "  'Date': ' oct 2020',\n",
       "  'Content': ' …de discipline. Quelques petites années avant le décès de mon père adoptif, grand fanatique du Sphinx de Daoukro, il me racontait une merveilleuse histoire. Je ne mesurais vraiment pas la portée de son histoire, mais aujourd\\'hui je me rends compte que les vieux n\\'ont pas d\\'egaux.  En effet, papa me disait qu\\'en 1992, lors d\\'une réunion, le président Félix Houphouët-Boigny a confié trois héritages à son dauphin constitutionnel, son héritier Politique le président HKB. D\\'abord le PDCI-RDA, secondo l\\'unité de la Nation Ivoirienne et le troisième Héritage qui demeurait un secret d\\'État. Mon père ajouta que des sachants savaient et aussi le président Jacques Chirac le savait et le transmettrait à toutes les générations de présidents Français qui lui accorderaient une estime royale malgré son jeune âge. Ce troisième Héritage était comme la prunelle des yeux du \"Sage d\\'Afrique\" à l\\'instar de tout bon grand-père.   Et, le président Henri Konan Bédié avait pour devoir de protéger, de garantir ces trois héritages sans oublier le grand prix international qui porte le nom du Père fondateur. On pourrait même dire que ce prix est un quatrième Héritage puisque le Sphinx de Daoukro en est le garant depuis son décès.  Le président HKB a bien respecté les recommandations d\\'un homme de la dimension de Félix Houphouët-Boigny, et a veillé à ce que et le PDCI-RDA et l\\'unité de la Côte d\\'Ivoire et le troisième Héritage et le prix Félix Houphouët-Boigny, ne soient jamais vandalisés. C\\'est le coup d\\'Etat de 1999 qui est venu effondrer cette unité tant conservée par le Sphinx de Daoukro, jusqu\\'à présent. Et, nous en souffrons toujours. Sinon les autres héritages ont jusque là été bien conservés. Le PDCI-RDA va à merveille, le prix Félix Houphouët-Boigny va aussi bien malgré les multiples tentatives de désacralisation. Le troisième Héritage également va bien même si  certains aventuriers ont tenté de se l\\'approprier.  Nous nous souvenons qu\\'en 1994, alors qu\\'il avait 28 ans le président Henri Konan Bédié à ses côtés un premier ministre comme Daniel Kablan Duncan le nomme jusqu\\'en 2000 ministre du plan et du développement, puis à partir de 1998, Président du Conseil d\\'administration du Bureau d\\'études en lui confiant la relance des mythiques chantiers de l\\'éléphant d\\'Afrique sous l\\'impulsion de Jean-Michel Moulot alors ministre des infrastructures économiques, chantiers qui aujourd\\'hui deviennent frauduleusement l\\'oeuvre des aventuriers fossoyeurs sans état d\\'âme. Mais, tant que l\\'esprit du père fondateur de la Côte d\\'Ivoire moderne planera sur notre Nation, tous ces héritages atteindront leur point de chute au nom puissant du Dieu des catholiques qu\\'a tant promu le \"Sage d\\'Afrique\", au nom puissant du Dieu d\\'Israël, terre sainte où une chapelle respire la pleine forme actuellement et bâtie par le \"Vieux\".  Dans mon dernier livre intitulé \"L\\'âge d\\'or de N\\'ZUEBA\" (inédit) aux Nouveau réveil éditions, Abidjan, et préfacé par M. Nestor KOFFI, Inspecteur du PDCI-RDA, j\\'ai souligné ce facteur divin de la couverture de l\\'esprit du président Henri Konan Bédié sur la surface totale de la Nation Ivoirienne. Esprit oint par le Dieu que servait avec ferveur son père spirituel le président Félix Houphouët-Boigny. Prions tous pour la Côte d\\'Ivoire. Une nouvelle lumière s\\'apprête à s\\'y allumer. Un nouveau vent s\\'apprête à s\\'y souffler. Un espoir nouveau est à l\\'aube. Atisons bien le feu du crépuscule. #Seulsles initiés comme moi comprendront mes lignes. On revient  de loin... #HKB forever...14 148 commentaires',\n",
       "  'Link': 'https://www.facebook.com/groups/658922417856213/posts/1124749221273528/',\n",
       "  'Images': ['https://scontent-cdg2-1.xx.fbcdn.net/v/t1.6435-9/cp0/c0.67.480.480a/s118x90/121587731_647038002873538_2481928886670518103_n.jpg?_nc_cat=109&ccb=1-5&_nc_sid=825194&_nc_ohc=1N8wz8Ug8zoAX9NMOFe&_nc_ht=scontent-cdg2-1.xx&oh=ba8d9698855728e1261d31a5c2d27ad8&oe=616983FA']},\n",
       " {'Name': 'Marie Ed la SambrienneMAUBEUGE & ENVIRONS AU FIL DU TEMPS COMMERÇANTS  ARTISANS FAITES VOTRE PUB.13 juin',\n",
       "  'Date': '13 juin',\n",
       "  'Content': ' …Page, actrice américaine. 13-06-1995 : Jacques Chirac annonce la reprise des essais nucléaires français. 13-06-1998 : Le navigateur français Eric Tabarly disparaît en mer au large du Pays de Galles.2 26 commentaires',\n",
       "  'Link': 'https://www.facebook.com/groups/268977024710371/posts/314411340166939/',\n",
       "  'Images': ['https://scontent-cdg2-1.xx.fbcdn.net/v/t1.6435-9/cp0/c41.0.90.90a/p118x90/198915469_332186765139640_6334569672804627975_n.jpg?_nc_cat=111&ccb=1-5&_nc_sid=825194&_nc_ohc=GMQHgD5sKwkAX9JRo3X&_nc_ht=scontent-cdg2-1.xx&oh=f2acfad26fa0844550527ce9260e7496&oe=61698338']},\n",
       " {'Name': 'Kaline-Chipie CoolLE LONGAQUATIEN2 févr.',\n",
       "  'Date': '2 févr',\n",
       "  'Content': \" …Giscard d’Estaing. Lors du dernier conseil municipal d’Amiens, le 28 janvier 2021, sur proposition de Brigitte Fouré, les élus ont voté à l’unanimité la dénomination de l’avenue Valéry Giscard D’Estaing, en remplacement de la voie « Boulevard Ambroise Paré » située entre la rue de Rouen et la rue du Professeur Christian Cabrol. Suite au récent décès de Valéry Giscard d’Estaing, la Ville d’Amiens a souhaité honorer la mémoire d’un ancien Président de la République Française en lui attribuant le nom à l’une des artères de la Ville comme récemment pour François Mitterrand et Jacques Chirac.Publication de Amiens Métropole - Ville d'Amiens[ #Inauguration 🔴 ] Amiens : inauguration de l’avenue Valéry Giscard D’Estaing\\n\\nLe dévoilement de la plaque portant le nom de Valéry Giscard D’estaing  par Brigitte Fouré, Maire d’Amiens et Alain Gest, Président d’Amiens Métropole s'est déroulée ce mardi 2 février 2021 à 11h en présence de l’un des fils de l’ancien Président de la République, Louis Giscard d’Estaing.\\n\\nLors du dernier conseil municipal d’Amiens, le 28 janvier 2021, sur proposition de Brigitte Fouré, les élus ont voté à l’unanimité la dénomination de l’avenue Valéry Giscard D’Estaing, en remplacement de la voie « Boulevard Ambroise Paré » située entre la rue de Rouen et la rue du Professeur Christian Cabrol.\\n\\nSuite au récent décès de Valéry Giscard d’Estaing, la Ville d’Amiens a souhaité honorer la mémoire d’un ancien Président de la République Française en lui attribuant le nom à l’une des artères de la Ville comme récemment pour François Mitterrand et Jacques Chirac.5 51 commentaire\",\n",
       "  'Link': 'https://www.facebook.com/groups/662501607828327/posts/907031813375304/',\n",
       "  'Images': ['https://scontent-cdg2-1.xx.fbcdn.net/v/t1.6435-9/cp0/c23.0.90.90a/p118x90/146115262_2386233338187891_2727681902426436555_n.jpg?_nc_cat=108&ccb=1-5&_nc_sid=730e14&_nc_ohc=lLRo1IcfpyIAX9JccYs&_nc_ht=scontent-cdg2-1.xx&oh=06eb95ccc72e680b7783670fc1011b6d&oe=6168BB04']},\n",
       " {'Name': 'Jacqueline Simonpassé présent.9 janv.',\n",
       "  'Date': '9 janv',\n",
       "  'Content': \" …les élections législatives de 1986. Jacques Chirac de vient premier ministre. C’est la première cohabitation. En 1988, il est réélu président de la République face à Jacques Chirac. Son second mandat est marqué par l'engagement militaire de la France dans la  1ère [guerre du Golfe](https://fr.wikipedia.org/wiki/Guerre_du_Golfe), par l'adoption du traité de Maastricht , par la [deuxième cohabitation](https://fr.wikipedia.org/wiki/Deuxi%C3%A8me_cohabitation) (avec  [Édouard Balladur](https://fr.wikipedia.org/wiki/%C3%89douard_Balladur) ). Sa popularité déclineavecdes révélations sur son passé et  ses relations jamais rompues avec René Bousquet. Atteint d'un [cancer de la prostate](https://fr.wikipedia.org/wiki/Cancer_de_la_prostate) diagnostiqué dès 1981, il meurt quelques mois après son départ de l'Élysée. Seul président à avoir effectué deux [septennats](https://fr.wikipedia.org/wiki/Septennat) complets, François Mitterrand détient le record de longévité à la présidence de la République française.8 853 commentaires\",\n",
       "  'Link': 'https://www.facebook.com/groups/353294355653892/posts/488159308834062/',\n",
       "  'Images': ['https://scontent-cdt1-1.xx.fbcdn.net/v/t1.6435-9/cp0/c36.0.90.90a/p118x90/136678628_10219178842289617_5905222945319216825_n.jpg?_nc_cat=103&ccb=1-5&_nc_sid=825194&_nc_ohc=MYkN1-XH9c8AX_8aTIp&tn=JeH1lT2W9h_3X_06&_nc_ht=scontent-cdt1-1.xx&oh=fe208629134aa9879824d2767342e4e5&oe=6168D13F']},\n",
       " {'Name': 'Françoise Wogue26 août',\n",
       "  'Date': '26 août',\n",
       "  'Content': \" …de son décès) en présence du Président de la République Jacques Chirac, du Chancelier de l'Ordre de la Libération Jean Simon et du maire de Paris Jean Tiberi. D’une hauteur de 3,6 mètres reposant sur un piédestal faisant à lui seul 3,8 m, la statue du général de Gaulle est à la hauteur du grand homme qu’il représente dans le cœur de tous les français. C’est au sculpteur français Jean Cardot (1930-….) que le jury de sélection a confié la réalisation de ce monument. C’est aussi Jean Cardot qui a réalisé les statues de Winston Churchill, que l'on retrouve quelques mètres plus loin, avenue Winston-Churchill, près du Petit Palais ainsi que celle de Thomas Jefferson à côté de la passerelle de Solférino, devant le musée d'Orsay. Le jury avait toutefois donné des consignes très précises au sculpteur sélectionné pour représenter le général. Il devait « traduire l’élan qui portait le général de Gaulle descendant les Champs-Élysées le jour du 26 août 1944, sa force, sa détermination, sa hauteur de vue mais aussi le sentiment de plénitude et de joie qui l’habitait et le faisait rayonner parmi ses compagnons et devant une foule en liesse. » On peut dire que le mandat a été assez bien respecté. Sur le socle sont gravées des phrases de ce grand homme d’État : « Il y a un pacte vingt fois séculaire entre la grandeur de la France et la liberté du monde » ainsi qu’un extrait du célèbre discours du Général à l’Hôtel de Ville le 26 août 1944 « Paris, Paris outragé, Paris brisé, Paris martyrisé, mais Paris libéré… ».+31 1\",\n",
       "  'Link': 'https://www.facebook.com/francoise.wogue/posts/5063645363651631',\n",
       "  'Images': ['https://scontent-cdg2-1.xx.fbcdn.net/v/t1.6435-9/cp0/c0.79.720.720a/s118x90/236450322_5063633060319528_1457041617580813080_n.jpg?_nc_cat=109&ccb=1-5&_nc_sid=8bfeb9&_nc_ohc=4EaMJQkLVDQAX-x0-m8&tn=JeH1lT2W9h_3X_06&_nc_ht=scontent-cdg2-1.xx&oh=c69b868c9c931de369a0d570fd968866&oe=6169D509',\n",
       "   'https://scontent-cdg2-1.xx.fbcdn.net/v/t1.6435-9/cp0/c0.79.720.720a/s118x90/240819893_5063633110319523_8515967854883150859_n.jpg?_nc_cat=104&ccb=1-5&_nc_sid=8bfeb9&_nc_ohc=kT4SM38XB-UAX8H4RRW&_nc_oc=AQmn1BfESU_2gyr-92JKpMOrt2jyVBOEeQ-5PC6cU0Ie5PnHEMqcEDCWa27GcW5TlkI&_nc_ht=scontent-cdg2-1.xx&oh=775e3927d31e434c72a4af854c35289b&oe=61670443',\n",
       "   'https://scontent-cdt1-1.xx.fbcdn.net/v/t1.6435-9/cp0/c0.79.720.720a/s118x90/240660501_5063633650319469_7761185815909476914_n.jpg?_nc_cat=101&ccb=1-5&_nc_sid=8bfeb9&_nc_ohc=VoV2KQ1rg7kAX8tSOeq&tn=JeH1lT2W9h_3X_06&_nc_ht=scontent-cdt1-1.xx&oh=cb767ae8a180c16b5e4d43a4d8b82e23&oe=61693F69']},\n",
       " {'Name': 'Mustafa BelrhitiInspirations des Talents3 oct. 2020',\n",
       "  'Date': ' oct 2020',\n",
       "  'Content': \" C 'est la 1ere anniversaire du décès de Monsieur Le président Chirac Un Hommage est lui dédié à travers de ces deux poèmes  Hommage à Jacques Chirac Hommage à Jacques Chirac, Connu pour sa position pour l’Irak, Homme qui conférait la sympathie, Aux grands et aux petits.  Il a marqué l’histoire, Par sa trajectoire. Maire de Paris, Président enchéri,  Connu par son sourire, Admiré par les rois et les émirs. Son élection la seconde, A conforté la France et le monde.  En réduisant le septennat, En quinquennat. Lui le Général et le lieutenant. Il ne fut plus le revenant. Un homme chaleureux D’apparence il était heureux Il saluait tous les passants L’aborder c’est intéressant Il était toujours sur ses gardes La sympathie la sauvegarde Il était beau et charmant Le meilleur président du moment Au salon de l’agriculture, Son passage semait une autre culture. Il gouttait de tout, Etre solidaire avec les agriculteurs surtout. Il était un vrai homme de la politique, Charles de Gaulle à l’identique. A la fin de sa carrière Une passagère galère Le scandale des emplois fictifs A entaché son actif En gardant l’affectif Amoureux de la Corrèze Loin d’elle a eu le malaise Et a rendu l’âme Il a dit adieu à ceux qui le blâment Et ceux qui pour lui s’enflamment Un homme qui mérite le respect Souhaitant lui à l au-delàs la paix BELRHITI ALAOUI MUSTAFA 26/9/2019 TDR Révisé le 29/09/20204 41 commentaire\",\n",
       "  'Link': 'https://www.facebook.com/groups/1310860022374045/posts/3097291930397503/',\n",
       "  'Images': []},\n",
       " {'Name': 'Laurent TavelinTu es de Charny (89) quand…21 août',\n",
       "  'Date': '21 août',\n",
       "  'Content': ' …Paul II est reçut par le président français Jacques Chirac à l\\'occasions des 12es Journées mondiales de la jeunesse. - 1994 : Le commandant de bord du vol 630 Royal Air Maroc déconnecte le pilote automatique de l\\'ATR 42 qu\\'il doit conduire à Casablanca et fait volontairement s\\'écrasé l\\'appareil près d\\'Amskroud, tuant ainsi les 43 autres personnes à bord. - 1990 : Violent incendie de forêt dans le Var, les Alpes Maritimes et la Corse, qui dureront jusqu\\'au 25 août. - 1986 : Au Cameroun, 1 746 personnes sont tuées par des émanations de gaz toxiques d\\'origine volcanique aux alentours du lac de Nyos. - 1983 : Assassinat de l\\'opposant philippin Benigno Akuino. - 1959 : Hawaï devient le 50e Etat des USA. - 1957 : Lancement réussi de la première fusée soviétique \"R7\" de nos jours \"Semiorka\". - 1911 : Vol du tableau de la Joconde au Louvre par Vincenzo Peruggia, retrouvé le 12 décembre 1913 à  Florence en Italie. - 1609 : Galilée présente au doge de Venise sa lunette astronomique, considérée comme le premier télescope.   ➖➖➖➖➖➖➖➖➖➖➖➖➖➖➖➖ 21 Août 1950 : naissance de Patrick Juvet à Montreux (Suisse), compositeur chanteur suisse.21 218 commentaires',\n",
       "  'Link': 'https://www.facebook.com/groups/233123972270/posts/10157797687497271/',\n",
       "  'Images': ['https://scontent-cdg2-1.xx.fbcdn.net/v/t1.6435-9/cp0/c0.121.500.500a/s118x90/238999733_10224542377219303_3742500463986801980_n.jpg?_nc_cat=100&ccb=1-5&_nc_sid=825194&_nc_ohc=YzGzbgltGlIAX88HJVh&_nc_oc=AQmilPwV8LrDwgL0oQrIslnSZ21InGcFpYkiTg2B1kN9dGKyiJvtYlkHiQMkSbsQ5Cc&_nc_ht=scontent-cdg2-1.xx&oh=556b494988b8898e6f3f7268c676b56b&oe=616A47DF']},\n",
       " {'Name': \"Pierre OndomboOWANDO PAMO'A NDZORO3 nov. 2020\",\n",
       "  'Date': ' nov 2020',\n",
       "  'Content': ' …PRÉSIDENT DE LA RÉPUBLIQUE POPULAIRE DU CONGO, JACQUES JOACHIM YHOMBY OPANGO.  EN REVANCHE JE NE DOIS DÉSORMAIS PLUS ASSISTER CETTE FRANCE POUR JACQUES CHIRAC. CE SONT TOUS DES HOMONYMES PAREILS: - ANCIEN PRÉSIDENT - ANCIEN PRÉSIDENT-.3 3',\n",
       "  'Link': 'https://www.facebook.com/groups/owandovillekouyou/posts/3714615945250678/',\n",
       "  'Images': []},\n",
       " {'Name': 'Laurent TavelinTu es de Charny (89) quand…15 mai',\n",
       "  'Date': '15 mai',\n",
       "  'Content': ' …: • Denise • Isidore • Aproncule 📍 Le dicton du jour : - \"A la Sainte Denise, le froid n\\'en fait plus à sa guise\". 📍 Ils sont nés à cette date : - 1997 : naissance de Ousmane Dembélé, à Vernon (Eure), footballeur international français. Il remporte la Coupe du monde 2018 avec l\\'équipe de France. - 1987 : naissance de Andy Murray, joueur de tennis britannique. - 1972 : naissance de David Franck Guez dit David Charvet à Lyon (Rhône), acteur et chanteur français. Séries télévisées \"Alerte à Malibu\" 1992-1996 - \"Melrose Place\" 1996-1998.. - 1955 : naissance de Marie Vincent, à Versailles (Yvelines), comédienne française, lauréate en 2004 du Molière de la révélation théâtrale. - 1939 : naissance de Jean-Claude Bournizien dit Jean-Claude Annoux à Beauvais (Oise), auteur-compositeur-interprète français..   (mort le 2 octobre 2004) à Martigues (Bouches-du-Rhône). - 1938 : naissance de Mireille Aigroz, dite Mireille Darc à Toulon (Var), chanteuse et  comédienne française. Née d\\'une mère épicière et d\\'un père jardinier. Films, \"Les barbouzes\" en 1964 - \"Le grand blond avec une chaussure noire\" en 1972 - \"Borsalino & Co\" en 1974 - \"Mort d\\'un pourri\" en 1977 - \"Pour la peau d\\'un flic\" en 1981..   (morte le 28 août 2017) à Paris. - 1920 : naissance de Michel Audiard à Paris, dialoguiste, écrivain et cinéaste français. Père du scénariste et réalisateur Jacques Audiard.   (mort le 27 juillet 1985) à Dourdan. - 1905 : naissance de Albert Dubout, dessinateur humoriste français.   (mort le 27 juin 1976). - 1859 : naissance de Pierre Curie, physicien français, prix Nobel de physique en 1903 avec sa femme Marie et Henry Becquerel.   (mort le 19 avril 1906). 📍 Ils nous ont quitté ce jour là : - 1999 : décès de Lily Fayol à St Raphaël (Var) chanteuse fantaisiste et actrice française. \"La tournée des grands ducs\" en 1953 - \"La gueule de l\\'autre\" en 1979 - \"Le guignolo\" en 1980.   (née le 12 juin 1914) à Allevard (Isère). - 1982 : décès de Joëlle Mogensen à Paris, chanteuse française, membre du groupe pop français \"Il était une fois\".   (née le 3 février 1953) à New York. - 1703 : décès de Charles Perrault à Paris, homme des lettres, conteur et académicien français.   (né le 12 janvier 1628) à Paris. 📍 Les événements liés à cette date :  - 2017 : Nomination d\\'Édouard Philippe au poste de Premier ministre en France, du 15 mai 2017 au 3 juillet 2020. - 2012 : Passation de pouvoirs François Hollande est devenu le 7e président de la Ve République et nomme Jean Marc Ayrault Premier ministre chargé de constituer un gouvernement. - 2007 : Dominique de Villepin \"Premier Ministre\" présente la démission du gouvernement au président de la République Jacques Chirac. - 2001 : Patrick Henry, sort de prison. Il avait été condamné le 20 janvier 1977 pour l\\'assassinat d\\'un enfant de 7 ans. - 1991 : Démission de Michel Roccard, Edith Cresson, première femme Première ministre.. - 1958 : Le général de Gaulle se dit prêt à assumer les pouvoirs de la République. - 1922 : Citroën lance sa célèbre 5 CV. ➖➖➖➖➖➖➖➖➖➖➖➖➖➖➖➖ Avez vous déjà vu des fraises à barbe ?? 🍓😂 \\xa0 ·  Photos de la publication de Laurent Tavelin38 3810 commentaires',\n",
       "  'Link': 'https://www.facebook.com/groups/233123972270/posts/10157602431837271/',\n",
       "  'Images': ['https://scontent-cdg2-1.xx.fbcdn.net/v/t1.6435-9/cp0/c27.0.90.90a/p118x90/185811683_10223855606530465_7308662180069900587_n.jpg?_nc_cat=102&ccb=1-5&_nc_sid=b9115d&_nc_ohc=VI-xwEfK_TgAX9xx4K2&_nc_ht=scontent-cdg2-1.xx&oh=e85db614cac88bbacde4acc19432f789&oe=6168F1F6',\n",
       "   'https://scontent-cdg2-1.xx.fbcdn.net/v/t1.6435-9/cp0/c0.49.812.812a/s118x90/185784098_10223855607330485_3455328935183597702_n.jpg?_nc_cat=100&ccb=1-5&_nc_sid=b9115d&_nc_ohc=d3CRobEJWqUAX9V9B_f&tn=JeH1lT2W9h_3X_06&_nc_ht=scontent-cdg2-1.xx&oh=9a223c792de57606228a17875486ad10&oe=61691804']}]"
      ]
     },
     "execution_count": 24,
     "metadata": {},
     "output_type": "execute_result"
    }
   ],
   "source": [
    "allPosts"
   ]
  },
  {
   "cell_type": "code",
   "execution_count": 27,
   "metadata": {
    "scrolled": true
   },
   "outputs": [
    {
     "data": {
      "text/plain": [
       "'Bruno Le Maire'"
      ]
     },
     "execution_count": 27,
     "metadata": {},
     "output_type": "execute_result"
    }
   ],
   "source": [
    "_extract_page_name(bs_data.findAll(\"div\", attrs={'role':\"article\"})[1])"
   ]
  },
  {
   "cell_type": "code",
   "execution_count": 28,
   "metadata": {},
   "outputs": [
    {
     "data": {
      "text/plain": [
       "'26 sept 2019'"
      ]
     },
     "execution_count": 28,
     "metadata": {},
     "output_type": "execute_result"
    }
   ],
   "source": [
    "_extract_post_date(bs_data.findAll(\"div\", attrs={'role':\"article\"})[1])"
   ]
  },
  {
   "cell_type": "code",
   "execution_count": 29,
   "metadata": {
    "scrolled": false
   },
   "outputs": [
    {
     "data": {
      "text/plain": [
       "' …de retour de Rodez que j’ai appris le décès du président Jacques Chirac. Il aimait ce département de l’Aveyron, comme il aimait tous les départements ruraux, dont il avait la force et la simplicité. J’avais 29 ans quand j’ai commencé à travailler à ses côtés et, au moment si triste de sa mort, les souvenirs se bousculent. Pourquoi, comme tant de Français, ai-je aimé Jacques Chirac ? Je l’ai aimé pour ses mots lors de mon premier Salon de l’Agriculture en 2009 quand, pressé de questions par les journalistes sur sa passion pour le monde agricole, il avait répondu, déjà fatigué par la maladie : « J’aime l’agriculture, parce que l’agriculture, c’est la vie. » Je l’ai aimé pour sa voix quand, jeune directeur de cabinet de Dominique de Villepin à Matignon, il m’appelait chaque matin à huit heures précises, avec cette intonation si douce et si rauque : « Le Maire ? C’est Chirac. » J’ai aimé Jacques Chirac pour sa constance à dire non aux extrêmes, à toutes les forces de haine et de mépris qui, elles, hélas, ne meurent jamais. J’ai aimé Jacques Chirac pour sa détermination à faire obstacle au projet fou de guerre en Irak, en 2003, qui lui a valu tant de reproches et de critiques et à laquelle l’histoire a rendu hommage. Je l’ai vu s’interroger longuement sur un choix qui mettait la France en travers des décisions de son premier allié, les Etats-Unis. Mais jamais il n’a fléchi. Jamais il n’a cédé. Jacques Chirac savait que l’humiliation des peuples attise les violences. Il savait que la guerre, dont il détenait le pouvoir comme chef des armées, ne pouvait être que le dernier et ultime recours, quand tous les autres ont été épuisés. Je l’ai aimé simplement pour sa main, qui savait prendre la vôtre avec chaleur. Je l’ai aimé pour cet appel téléphonique un soir de Noël, quand après une année de travail harassante il avait tenu à me joindre dans une vallée des Alpes pour me remercier avec ces mots si simples : « Je suis désolé du temps que j’ai pris à vos enfants. » Maintenant, en juste retour, je voudrais dire à sa femme Bernadette, à sa fille Claude, à l’heure où Jacques Chirac pour la seule fois de sa vie abandonne les Français, que leur père a fait honneur à la France, à sa grandeur, à sa vocation universelle et que je suis fier de l’avoir servi.2,9\\xa0K 2,9\\xa0K267 commentaires'"
      ]
     },
     "execution_count": 29,
     "metadata": {},
     "output_type": "execute_result"
    }
   ],
   "source": [
    "_extract_post_content(bs_data.findAll(\"div\", attrs={'role':\"article\"})[1])"
   ]
  },
  {
   "cell_type": "code",
   "execution_count": 31,
   "metadata": {},
   "outputs": [
    {
     "data": {
      "text/plain": [
       "'https://www.facebook.com/blm27/posts/2633081830089213'"
      ]
     },
     "execution_count": 31,
     "metadata": {},
     "output_type": "execute_result"
    }
   ],
   "source": [
    "_extract_post_link(bs_data.findAll(\"div\", attrs={'role':\"article\"})[1])"
   ]
  },
  {
   "cell_type": "code",
   "execution_count": 33,
   "metadata": {
    "scrolled": true
   },
   "outputs": [
    {
     "data": {
      "text/plain": [
       "['https://scontent-cdg2-1.xx.fbcdn.net/v/t1.6435-9/cp0/c17.0.90.90a/p118x90/71094585_2633067436757319_4632677559417438208_n.jpg?_nc_cat=107&ccb=1-5&_nc_sid=730e14&_nc_ohc=MJoTIX9ha3EAX_J6vlj&_nc_oc=AQlGqNERXyL_3T5gpG-D9qMCs_bgSlq04D-kyerbCS5f-g-2kXD8-OetuEUxWSnNraE&_nc_ht=scontent-cdg2-1.xx&oh=570ff34f2b8086eb4026f137820b2026&oe=61683D09']"
      ]
     },
     "execution_count": 33,
     "metadata": {},
     "output_type": "execute_result"
    }
   ],
   "source": [
    "_extract_post_images(bs_data.findAll(\"div\", attrs={'role':\"article\"})[1])"
   ]
  },
  {
   "cell_type": "markdown",
   "metadata": {
    "id": "iF8Q7JhX9Hh2"
   },
   "source": [
    "## Store data in mongodb database "
   ]
  },
  {
   "cell_type": "code",
   "execution_count": 597,
   "metadata": {
    "id": "fz--Qu2p9Hh3"
   },
   "outputs": [
    {
     "data": {
      "text/plain": [
       "MongoClient(host=['localhost:27017'], document_class=dict, tz_aware=False, connect=True)"
      ]
     },
     "execution_count": 597,
     "metadata": {},
     "output_type": "execute_result"
    }
   ],
   "source": [
    "from pymongo import MongoClient\n",
    "client = MongoClient()\n",
    "client"
   ]
  },
  {
   "cell_type": "code",
   "execution_count": 588,
   "metadata": {},
   "outputs": [
    {
     "data": {
      "text/plain": [
       "[{'Name': 'Royautés,',\n",
       "  'Date': '13 sept',\n",
       "  'Content': \" …: SAR Diana, Princesse de Galles, le président d'Irlande Patrick Hillery, les épouses des présidents français et américain, Danielle Mitterrand et Nancy Reagan, et nombre de ses amis comme l'acteur Cary Grant ... etc • Le 21 septembre 1982, SAS la Princesse Grace est enterrée dans l'abside de la Cathédrale Notre-Dame de l’Immaculée de Monaco, à Monaco-Ville. • Au cours de ses années à Monaco, SAS la Princesse Grace a su donné un éclat particulier au Rocher avec la tenue de grandes soirées de gala ... de son aura, elle a redoré la Principauté de Monaco. La Princesse Grace était aussi très active dans le domaine caritatif notamment au sein de l’AMADE (l’association mondiale des amis de l’enfance). • Le 6 avril 2005 : décès de SAS le Prince souverain Rainier III de Monaco au centre cardio-thoracique où il était hospitalisé depuis le 7 mars . Son fils, le Prince héréditaire Albert devient SAS le Prince souverain Albert II de Monaco. • La messe de funérailles de SAS le Prince Rainier III a lieu le vendredi 15 avril 2005 en la Cathédrale Notre-Dame de l’Immaculée de Monaco, en présence de 800 personnes, dont le président français Jacques Chirac, SM le Roi Juan Carlos d'Espagne, Monseigneur et Madame la Comtesse de Paris, Duc et Duchesse de France ... et de beaucoup d’autres personnalités. Il est inhumé dans la soirée au côté de son épouse bien aimée, la Princesse Grace.  R.I.P. 🙏🏻 Copyright@Veronique Beaumel+41136 13613 commentaires\",\n",
       "  'Link': 'https://www.facebook.com/permalink.php?story_fbid=340585527792587&id=101484851702657',\n",
       "  'Images': ['https://scontent-cdg2-1.xx.fbcdn.net/v/t1.6435-9/cp0/c0.26.320.320a/s118x90/241756928_340583347792805_5049373376467962057_n.jpg?_nc_cat=100&ccb=1-5&_nc_sid=8bfeb9&_nc_ohc=Xj0l6p97I9MAX-CRJuJ&_nc_ht=scontent-cdg2-1.xx&oh=dc76637a5b0bbd465edbfe0bf30af1f8&oe=6165EC4D',\n",
       "   'https://scontent-cdg2-1.xx.fbcdn.net/v/t1.6435-9/cp0/c0.32.460.460a/s118x90/241777618_340585171125956_5329068163012050211_n.jpg?_nc_cat=107&ccb=1-5&_nc_sid=8bfeb9&_nc_ohc=-fLYTu44hPwAX_BOmNa&_nc_ht=scontent-cdg2-1.xx&oh=b72c31f1ff0401bd72531867e82066d9&oe=616992DB',\n",
       "   'https://scontent-cdg2-1.xx.fbcdn.net/v/t1.6435-9/cp0/c0.60.400.400a/s118x90/241775335_340583367792803_4447332626814072542_n.jpg?_nc_cat=104&ccb=1-5&_nc_sid=8bfeb9&_nc_ohc=ON1OH-4bcfcAX-8iyHY&_nc_ht=scontent-cdg2-1.xx&oh=d9ee91a4d2bf17cb56310919cc5fd977&oe=616707AA']},\n",
       " {'Name': 'Bruno Le Maire',\n",
       "  'Date': '26 sept 2019',\n",
       "  'Content': ' …de retour de Rodez que j’ai appris le décès du président Jacques Chirac. Il aimait ce département de l’Aveyron, comme il aimait tous les départements ruraux, dont il avait la force et la simplicité. J’avais 29 ans quand j’ai commencé à travailler à ses côtés et, au moment si triste de sa mort, les souvenirs se bousculent. Pourquoi, comme tant de Français, ai-je aimé Jacques Chirac ? Je l’ai aimé pour ses mots lors de mon premier Salon de l’Agriculture en 2009 quand, pressé de questions par les journalistes sur sa passion pour le monde agricole, il avait répondu, déjà fatigué par la maladie : « J’aime l’agriculture, parce que l’agriculture, c’est la vie. » Je l’ai aimé pour sa voix quand, jeune directeur de cabinet de Dominique de Villepin à Matignon, il m’appelait chaque matin à huit heures précises, avec cette intonation si douce et si rauque : « Le Maire ? C’est Chirac. » J’ai aimé Jacques Chirac pour sa constance à dire non aux extrêmes, à toutes les forces de haine et de mépris qui, elles, hélas, ne meurent jamais. J’ai aimé Jacques Chirac pour sa détermination à faire obstacle au projet fou de guerre en Irak, en 2003, qui lui a valu tant de reproches et de critiques et à laquelle l’histoire a rendu hommage. Je l’ai vu s’interroger longuement sur un choix qui mettait la France en travers des décisions de son premier allié, les Etats-Unis. Mais jamais il n’a fléchi. Jamais il n’a cédé. Jacques Chirac savait que l’humiliation des peuples attise les violences. Il savait que la guerre, dont il détenait le pouvoir comme chef des armées, ne pouvait être que le dernier et ultime recours, quand tous les autres ont été épuisés. Je l’ai aimé simplement pour sa main, qui savait prendre la vôtre avec chaleur. Je l’ai aimé pour cet appel téléphonique un soir de Noël, quand après une année de travail harassante il avait tenu à me joindre dans une vallée des Alpes pour me remercier avec ces mots si simples : « Je suis désolé du temps que j’ai pris à vos enfants. » Maintenant, en juste retour, je voudrais dire à sa femme Bernadette, à sa fille Claude, à l’heure où Jacques Chirac pour la seule fois de sa vie abandonne les Français, que leur père a fait honneur à la France, à sa grandeur, à sa vocation universelle et que je suis fier de l’avoir servi.2,9\\xa0K 2,9\\xa0K267 commentaires',\n",
       "  'Link': 'https://www.facebook.com/blm27/posts/2633081830089213',\n",
       "  'Images': ['https://scontent-cdg2-1.xx.fbcdn.net/v/t1.6435-9/cp0/c17.0.90.90a/p118x90/71094585_2633067436757319_4632677559417438208_n.jpg?_nc_cat=107&ccb=1-5&_nc_sid=730e14&_nc_ohc=MJoTIX9ha3EAX_J6vlj&_nc_oc=AQlGqNERXyL_3T5gpG-D9qMCs_bgSlq04D-kyerbCS5f-g-2kXD8-OetuEUxWSnNraE&_nc_ht=scontent-cdg2-1.xx&oh=570ff34f2b8086eb4026f137820b2026&oe=61683D09']},\n",
       " {'Name': 'Marie-George Buffet',\n",
       "  'Date': '26 sept 2019',\n",
       "  'Content': ' Je viens d apprendre le décès du Président Jacques Chirac qui fût pour moi un adversaire politique respecté. Je garde en ce jour de deuil le souvenir du président qui a su dire non à  la guerre en Irak, de celui qui a permis à  la France de porter une voix singulière dans le conflit Israélo Palestinien. Je garde également le souvenir, lorsque j étais ministre de la jeunesse et des sports de son écoute et de son sincère attachement aux valeurs du sport .904 904102 commentaires',\n",
       "  'Link': 'https://www.facebook.com/yhijnk/posts/3320163724690564',\n",
       "  'Images': []},\n",
       " {'Name': 'Latifa Ibn Ziaten',\n",
       "  'Date': '26 sept 2019',\n",
       "  'Content': \" …une grande tristesse que j'ai appris le décès du président Jacques Chirac. La France vient de perdre un grand homme d’État, que j’admirais et respectais profondément pour son humanité et son attachement à des valeurs qui sont également les miennes. Homme de culture et homme de coeur, Jacques Chirac faisait partie de nos soutiens de la première heure. Je l’aimais beaucoup et ne l’oublierai jamais. Mes pensées émues vont à sa famille et à ses proches.1\\xa0K 1\\xa0K60 commentaires\",\n",
       "  'Link': 'https://www.facebook.com/permalink.php?story_fbid=2213124715481673&id=301800386614125',\n",
       "  'Images': ['https://scontent-cdt1-1.xx.fbcdn.net/v/t1.6435-9/cp0/c45.0.90.90a/p118x90/71115417_2213124658815012_753978562465234944_n.jpg?_nc_cat=110&ccb=1-5&_nc_sid=8bfeb9&_nc_ohc=gmBBjfm42KkAX87TyDx&_nc_ht=scontent-cdt1-1.xx&oh=e6283271e1cdb5da6463ef804019727c&oe=61691E50']},\n",
       " {'Name': 'Laurent TavelinTu es de Charny (89) quand…11 sept.',\n",
       "  'Date': '11 sept',\n",
       "  'Content': ' …📍 Nous fêtons les : • Adelphe 📍 Le dicton du jour :  - \"En septembre si trois jours il tonne, c\\'est un nouveau bail pour l\\'automne\". 📍 Ils sont nés à cette date : - 1963 : naissance de Serge Hazanavicius à Paris, comédien et acteur français. \"Le bonheur est dans le pré\" en 1995 - \"Il y a longtemps que je t\\'aime\" en 2008.. - 1939 : naissance de Alain Giletti, ancien patineur artistique français, dix fois champion de France, cinq fois champion d\\'Europe et champion du monde en (1960). - 1935 : naissance Monseigneur Jacques Gaillot à St Dizier (Haute Marne) est un prélat catholique français. Evêque d\\'Evreux de 1982 à 1995. - 1926 : naissance de Monique Lange, écrivain française.    (morte le 7 octobre 1996). - 1925 : naissance de Gérard Darrieu à Arnicourt (Ardennes), acteur français \"Signé Arsène Lupin\" en 1959 - \"L\\'affaire Dominici\" en 1973..   (mort le 22 janvier 2004). - 1923 : naissance de Henri Lancelot dit Hubert Lancelot à Lyon (Rhône), chanteur français. Il était chargé des rapports de tournée et de l’organisation du groupe, au sein des (Compagnons de la chanson).   (mort le 8 mars 1995) à Paris. - 1903 : naissance de Jean Aurenche à Pierrelatte (Drôme), scénariste et un dialoguiste. Auteur du scénario de presque 80 films. Films notables - \"Jeux interdits\" en 1952 - \"Les Orgueilleux\" en 1953 - \"La Traversée de Paris\" en 1956 - \"Que la fête commence\" en 1975....   (mort le 29 septembre 1992) à Bandol (Var). 📍 Ils nous ont quitté ce jour là :  - 2020 : décès de Roger Blancharel, dit Roger Carel à Aigre (Charente), comédien français, sa personnalité majeure est le doublage de voix, comme \"Astérix\" - \"Winnie l\\'ourson\" - \"Kermit la grenouille\" - \"Benny Hill\" - \"Hercule Poirot\"..   (né le 14 août 1927) à Paris. - 2016 : décès de Claude Nahon dit Claude-Jean Philippe à Paris, auteur de livres sur le cinéma, essayiste et diariste, réalisateur et producteur de télévision, auteur de nombreux documentaires, ainsi qu\\'un homme de radio. Il était également, à l\\'occasion, scénariste ou acteur.   (né le 20 avril 1933) à Tanger (Maroc). - 2013 : décès de Albert Jacquard à Paris chercheur et essayiste français. Auteur de nombreux ouvrages de vulgarisation scientifique, président d\\'honneur de l\\'association Droit au logement. Spécialiste de génétique des populations. Il est également connu pour ses engagements citoyens parmi lequel la langue internationale espéranto.    (né le 23 décembre 1925) à Lyon. 📍 Les événements liés à cette date :  - 2006 : Ouverture à Paris du procès des faux électeurs dans le IIIe arrondissement, après 17 ans d\\'instruction pour le \"trucage\" des scrutins municipaux de 1989 et 1995. L\\'affaire aurait été orchestrée, selon l\\'accusation, par le RPR et Jacques Dominati, proche de Jacques Chirac. - 2002 : Démission de Michel Bon, président de France Télécom. - 2001 : Attentats terroristes aux Etats Unis, deux Boeing s\\'encastrent dans les tours jumelles du WTC qui s\\'effondrent, un 3e appareil sur le Pentagone et un 4e dans la campagne près  de Somerset, qui fait plus de 3 000 morts. - 1998 : Bill Clinton présente ses excuses à Monica Lewinsky. - 1992 : François Mitterrand hospitalisé pour une opération de la prostate - 1982 : Crash d\\'un hélicoptère militaire américain en Allemagne 46 morts parmi lesquels des parachutistes français. - 1978 : Sortie de l’album musical Starmania, de Michel Berger et Luc Plamondon. ➖➖➖➖➖➖➖➖➖➖➖➖➖➖➖➖➖➖ On a tous le souvenir de cette journée dramatique du 11 septembre 2001. 20 ans et le  souvenir reste 😭44 4410 commentaires',\n",
       "  'Link': 'https://www.facebook.com/groups/233123972270/posts/10157839302572271/',\n",
       "  'Images': ['https://scontent-cdt1-1.xx.fbcdn.net/v/t1.6435-9/cp0/c22.0.90.90a/p118x90/241686491_10224666950053546_6838068746668900876_n.jpg?_nc_cat=106&ccb=1-5&_nc_sid=825194&_nc_ohc=IFsTmj1YAO0AX9ReZGG&_nc_ht=scontent-cdt1-1.xx&oh=b533ccbd02ef2e5fa350ec6e263fd96a&oe=6167074E']},\n",
       " {'Name': 'Daniel Marie-sainte10 sept.',\n",
       "  'Date': '10 sept',\n",
       "  'Content': ' RAPPEL HISTORIQUE : À l’occasion du décès de la Présidente Lucette MICHAUX-CHEVRY, survenu le 9 septembre 2021, je lui rend hommage pour le rôle qu’elle a joué aux côtés du Président Alfred MARIE-JEANNE dans l’évolution institutionnelle de notre Pays Martinique qui a abouti à la mise en place de la Collectivité Territoriale de Martinique (CTM) en décembre 2015 ! En effet, grâce à la proximité politique qu’elle avait avec le Président de la République Française de l’époque, Jacques CHIRAC, elle a facilité sa rencontre avec les Présidents de Trois Régions (Guadeloupe, Guyane et Martinique) pour discuter des modifications des articles 73 et 74 de la Constitution de la République Française permettant de consulter les électeurs des « dernières colonies » sur les évolutions institutionnelles souhaitées par les élus. Cette rencontre fait suite à la publication de la « Déclaration de Basse-Terre du 1er décembre 1999 » signée par les trois Présidents de Région de Guadeloupe, de Guyane et de Martinique. Il faut reconnaitre que cette « Déclaration de Basse-Terre du 1er décembre 1999 » a été le point de départ d’un processus historique, qui en passant par les consultations populaires des 2003 et 2010, a abouti à la mise en place de la CTM en décembre 2015 ! Pour l’information complète, j’en publie le texte ci-dessous. Le 10 septembre 2021 Daniel MARIE-SAINTE Secrétaire National du MIM « Texte politique » Déclaration de Basse-Terre 1er décembre 1999 Les présidents des régions de Guadeloupe, Guyane, Martinique, réunis à Basse-Terre, le 1er décembre 1999 constatent :  • La dégradation continuelle depuis de nombreuses années de la situation de leurs régions, illustrée notamment par : 1. Une destruction systématique de l\\'initiative locale, 2. Un affaiblissement des filières productives, 3. La déstabilisation financière des collectivités, 4. Un assistanat généralisé, 5. Un taux de chômage croissant (en moyenne 30%).- Le développement rapide des dérives sociales, destructrices pour leurs sociétés et en particulier pour les jeunes générations dont les perspectives d\\'emploi apparaissent de plus en plus aléatoires. • L\\'impossibilité de mettre un terme à cette situation avec les moyens actuels qui leur sont dévolus dans le cadre de leurs compétences, malgré des efforts financiers importants des collectivités territoriales| et les concours de l\\'État et de l\\'Union européenne. • L\\'inadéquation d\\'un dispositif fiscal et social conçu pour un pays développé et appliqué à des régions en retard de développement. Considérant les résultats obtenus par les autres régions ultrapériphériques| (Açores, Canaries, Madère) en matière de développement et de progrès social, décident d\\'unir leurs efforts afin de bâtir un projet de développement économique social et culturel impliquant la prise en compte des identités propres à chaque région et basé sur l\\'évidence que la dignité procède du travail et non de l\\'assistanat.  Ce projet doit encourager la créativité et l\\'émergence d\\'activités productives afin de mettre un terme au développement d\\'une « société de consommation ». Ce projet doit également rompre avec le cycle infernal de l’« emploi assisté » pour favoriser la création et le développement d\\'entreprises, orienter les jeunes vers les métiers à forte plus value, réaménager les formations vers les secteurs à forte potentialité. Cela suppose aussi, un partenariat actif avec le secteur socioprofessionnel, qui doit participer à une nouvelle économie qui ne se réfère pas exclusivement à l\\'aide publique.  Les présidents, conscients de la volonté de leur population de mieux maîtriser son devenir, affirment solennellement leur engagement à exposer et expliquer leur projet, afin de recueillir, après consultation, son adhésion. En conséquence, les présidents des trois régions proposeront au Président de la République et au gouvernement, une modification législative voire constitutionnelle, visant à créer un statut nouveau de région d\\'Outre-mer doté d\\'un régime fiscal et social spécial pour la Guadeloupe, la Guyane et la Martinique, dans le cadre de la République française d\\'une part, et de l\\'Union européenne d\\'autre part (article 299-2 du traité d\\'Amsterdam).  Les présidents des régions de Guadeloupe, Guyane et Martinique réunis à Basse-Terre le 1er décembre 1999 ont pour leur part ouvert le débat, défini les thèmes et proposé les orientations de ce chantier d\\'avenir, dans le respect des idéologies de chacun.\" Signé Par Alfred MARIE-JEANNE, Président du Conseil Régional de la Martinique Par Lucette MICHAUX-CHEVRY, Présidente du Conseil Régional de la Guadeloupe Par Antoine KARAM, Président du Ronseil Régional de la Guyane78 7825 commentaires',\n",
       "  'Link': 'https://www.facebook.com/daniel.mariesainte.1/posts/10226912596829818',\n",
       "  'Images': ['https://scontent-cdt1-1.xx.fbcdn.net/v/t39.30808-6/cp0/c25.0.90.90a/p118x90/241781550_10226912595469784_294798582432449161_n.jpg?_nc_cat=109&ccb=1-5&_nc_sid=730e14&_nc_ohc=wvgKUEWEbpkAX9QAAES&_nc_ht=scontent-cdt1-1.xx&oh=57a910ccd770cbbb80a9f4cfd8e00539&oe=614660C0']},\n",
       " {'Name': 'Jean Aimé MouketouLA RÉSISTANCE AUTOUR DE JEAN PING .9 juil.',\n",
       "  'Date': '9 juil',\n",
       "  'Content': ' …après la rencontre entre le président français M. Emmanuel MACRON et le président du Niger, M. Mohamed BAZOUM. Dr Jean Aimé Mouketou, animateur de l\\'émission \"Heure De Vérité. ■■■■■■■■■■■■■■■■■■■ Rendez-vous Médiatique... Sur Radio et Télévision DENYIGBAN (CHICAGO),  La Chaîne YOUTUBE Dr Mouketou Reçoit – Émission  Heure De  Vérité... Invité exceptionnel: Ancien Premier ministre Jean Eyhéghé-Ndong. Thème: Jean EYEGHE-NDONG: du Premier ministre de l\\'oraison funèbre de juin 2009 jusqu\\'à l\\'opposant radical de 2021. Heure: 14H30-16H30 (CHICAGO), 20H30-22H30 (LIBREVILLE) -  21H30-23H30 (PARIS),  19H30 GMT. Notre invité Jean EYEGHE-NDONG est entré dans l\\'Histoire en juin 2009 lorsqu\\'il a présenté en que tant que dernier Premier du défunt Président Omar BONGO-ONDIMBA, une éloge funèbre sans concession... et devant un parterre de chefs d’État dont le président français Nicolas SARKOZY et son prédécesseur Jacques CHIRAC.  Tout le monde se souvient de l\\'image biblique qu\\'il a alors utilisé... M. Jean EYEGHE-NDONG a été aussi plusieurs ministre dont ministre du Budget, co-fondateur de l\\'Union nationale (un parti d\\'opposition gabnaise), Sénateur gabonais jusqu\\'en 2018. Il est également membre éminent de la famille du premier président de la République, M. Léon MBA. C\\'est ce dimanche 11 juillet 2021 sur Radio et Télévision DENYIGBAN et la Chaîne Youtube Dr Mouketou Reçoit - Emission Heure De Vérité...est retransmise en direct sur les pages Facebook du Dr Jean Aimé Mouketou – Emission Heure de Vérité ainsi que celle de Radio et  Télévision DENYIGBAN. L\\'émission sera retransmise en différé sur la Radio Afrique.com Etats-Unis. A nos auditeurs, grand merci encore pour votre fidélité depuis plus de plus de 11 ans.67 678 commentaires',\n",
       "  'Link': 'https://www.facebook.com/groups/122051314817422/posts/1448354295520444/',\n",
       "  'Images': ['https://scontent-cdt1-1.xx.fbcdn.net/v/t1.6435-9/cp0/s118x90/193941875_10224064788234899_4084195371417679593_n.jpg?_nc_cat=110&ccb=1-5&_nc_sid=825194&_nc_ohc=law-CH5MiTYAX8ruR38&_nc_oc=AQm5L76n6BemVmuErJnCraS3GYdvVvwKMb5v8A4KB5xyuPZGG4k2X4zbY4Tqt6y8GJk&_nc_ht=scontent-cdt1-1.xx&oh=fe32eb5d09ea6f93fc4ccfa229fa0626&oe=6165F646']},\n",
       " {'Name': 'Yasmine SawadogoTIRS CROISÉS (Politique et Société)26 sept. 2019',\n",
       "  'Date': '26 sept 2019',\n",
       "  'Content': \" …FORMIDABLE »   (Roch Kaboré, président du Faso)  Le président du Faso Roch Kaboré a réagi au décès jeudi de l’ancien président français Jacques Chirac (1995-2007) et premier ministre (1974-1976, 1986-1988).  « Je viens d'apprendre avec tristesse le décès de l'ancien Président Français Jacques Chirac. Avec sa disparition, l'Afrique perd un ami et un partenaire formidable. Je présente mes sincères condoléances à sa famille, au peuple français et Emmanuel Macron », a-t-il écrit sur son compte twitter. Source: Radio Omega173 173101 commentaires\",\n",
       "  'Link': 'https://www.facebook.com/groups/942246765831635/posts/2580206165369012/',\n",
       "  'Images': ['https://scontent-cdt1-1.xx.fbcdn.net/v/t1.6435-9/cp0/s118x90/71514610_959012234438953_1397780888686690304_n.jpg?_nc_cat=106&ccb=1-5&_nc_sid=825194&_nc_ohc=RSW6dsFRvycAX_H4l9K&_nc_ht=scontent-cdt1-1.xx&oh=e4c59bd4251b97e45535fed772cb7138&oe=6166D871']},\n",
       " {'Name': 'Radio Disney Club',\n",
       "  'Date': '26 sept 2019',\n",
       "  'Content': ' …que nous apprenons aujourd’hui le décès du président Jacques Chirac. Nous rendons hommage aujourd’hui à l’homme qui nous a réuni autour de notre passion pour Disneyland Paris.1,1\\xa0K 1,1\\xa0K23 commentaires',\n",
       "  'Link': 'https://www.facebook.com/RadioDisneyClubFr/posts/10157564835759776',\n",
       "  'Images': ['https://scontent-cdg2-1.xx.fbcdn.net/v/t1.6435-9/cp0/c0.114.614.614a/s118x90/71219800_10157564835719776_8872926435195486208_n.jpg?_nc_cat=104&ccb=1-5&_nc_sid=8bfeb9&_nc_ohc=g3aKWBNaZVcAX958rqo&_nc_ht=scontent-cdg2-1.xx&oh=7f55f9ea965a6f0e47ca798302903d9d&oe=6168D8FA']},\n",
       " {'Name': 'Radio Avignon29\\xa0K personnes aiment ça\\u2009·\\u2009Entreprise locale3 juin',\n",
       "  'Date': '3 juin',\n",
       "  'Content': ' 14 juillet 1999, quelques jours avant le décès du défunt Roi Hassan 2. Comme si il voulait dire adieu à son meilleurs ami, le défunt président Jacques CHIRAC. \\xa0 ·  Hassan2 et Chirac23 231 commentaire',\n",
       "  'Link': 'https://www.facebook.com/RadioAvignon/posts/2925642944357630',\n",
       "  'Images': ['https://scontent-cdg2-1.xx.fbcdn.net/v/t15.5256-10/cp0/c20.0.90.90a/p118x90/183428050_515625123123533_398837517470640494_n.jpg?_nc_cat=100&ccb=1-5&_nc_sid=ad6a45&_nc_ohc=MbOVvTEfkjcAX-Js3OT&_nc_ht=scontent-cdg2-1.xx&oh=2daf6ab8e565132972f6df659bb3c9c1&oe=614733DC']},\n",
       " {'Name': 'FRANCE 24',\n",
       "  'Date': '26 sept 2019',\n",
       "  'Content': \" Décès de l'ancien président français Jacques Chirac \\xa0 ·  🇫🇷 L’ancien président Jacques Chirac est décédé.\\nSuivez notre édition spéciale en direct ➡️ https://f24.my/5Z30.f1,3\\xa0K 1,3\\xa0K427 commentaires\",\n",
       "  'Link': 'https://www.facebook.com/FRANCE24/posts/10157122109541936',\n",
       "  'Images': ['https://scontent-cdt1-1.xx.fbcdn.net/v/t15.5256-10/cp0/s118x90/69355275_2013462785421519_3319983318644031488_n.jpg?_nc_cat=105&ccb=1-5&_nc_sid=ad6a45&_nc_ohc=hpE5Gc8vdWUAX8Rp5Go&_nc_ht=scontent-cdt1-1.xx&oh=384e6d284a5e7d2a39d3197968920b44&oe=6146D5B0']},\n",
       " {'Name': 'Laurent TavelinTu es de Charny (89) quand…1 sept.',\n",
       "  'Date': '1 sept',\n",
       "  'Content': ' …📍 Nous fêtons les : • Gilles 📍 Le dicton du jour :  - \"S\\'il fait beau à la Saint-Gilles, cela durera jusqu\\'à la Saint-Michel\". 📍 Ils sont nés à cette date : - 1986 : naissance de Gaël Monfils à Paris, joueur de tennis professionnel français. Vainqueur en simple de cinq tournois du circuit ATP. - 1974 : naissance de Filip Nikolic à St Ouen (Seine-Saint-Denis) chanteur et acteur français. Leader des Boys Band du groupe 2Be3 \"Partir un jour\" 1996..   (mort le 16 septembre 2009). - 1971 : naissance de Virgile Bayle à Valence (Drôme), acteur français, connu pour son rôle du docteur Guillaume Leserman dans \"Plus belle la vie\". - 1971 : naissance de Lamia, dite Lââm à Paris, chanteuse de pop et de RnB. - 1966 : naissance de Thierry Campion, dit Cris Campion à Versailles, acteur français. \"Pirates\" en 1986 - \"Champ d\\'honneur\" en 1987.. - 1965 : naissance de Paule Marchand, dite paulette, qui vous accueille à la maison France services ! 😂 Allez lui faire un petit coucou. . .   - 1946 : naissance de Barry Alan Cromton Gibb Obe, chanteur, musicien et producteur. Avec ses frères Robin et Maurice, il a créé le groupe de musique \"Bee Gees\". - 1930 : naissance de Michel Serres à Agen, philosophe et historien des sciences français. Il est élu à l\\'Académie française en 1990.   (mort le 1er juin 2019). - 1896 : naissance de André Hunebelle à Meudon (Hauts-de-Seine), réalisateur français. \"Cadet Rousselle\" en 1954 - \"Le bossu\" en 1959 - \"Le capitain\" en 1960 - \"Fantômas\" (trilogie)..   (mort le 27 novembre 1985) à Nice (Alpes-Maritimes). - 1887 : naissance de Frédéric Louis Sauser dit Blaise Cendrars, écrivain français d\\'origine suisse. Grand Prix littéraire de la ville de Paris.   (mort le 21 janvier 1961) à Paris. - 1524 : naissance de Pierre de Ronsard, écrivain et poète français surnommé \"le prince des poètes\".   (mort le 27 décembre 1585). 📍 Ils nous ont quitté ce jour là : - 2003 : décès de Jack Smight, réalisateur américain \"Colombo\"..   (né le 9 mars 1925). - 1986 : décès de Murray Hamilton, à Washington, en Caroline du Nord (Etats-Unis), acteur américain. Films notables - \"Les Dents de la mer\" (1) en 1975 - \"Les Dents de la mer\" (2) en 1978..   (né le 24 mars 1923) à Washington, en Caroline du Nord (Etats-Unis). - 1981 : décès de Dorothy Walton Gatley dite Ann Harding, à Los Angeles — Quartier de Sherman Oaks en Californie (Etats-Unis), actrice américaine. Films notables - \"The Animal Kingdom\" en 1932 - \"Peter Ibbetson\" en 1935 - \"L\\'Étoile du Nord\" en 1943 - \"L\\'Homme au complet gris\" en 1956.. Séries télévisées - \"Alfred Hitchcock présente\" en 1961 - \"L\\'Homme à la Rolls\" en 1963..   (née le 7 août 1902) à San Antonio dans le Texas (Etats-Unis). - 1970 : décès de François Mauriac, académicien, écrivain et journaliste français.    📍 Les événements liés à cette date : - 2008 : La première pièce de 5 euros en argent est mise en circulation et il sera possible de réserver la pièce de 100 euros en or. Si la première sera éditée à 2 millions d\\'exemplaires, seuls 15 000 exemplaires de la seconde existeront. - 2001 : Arrivée de la monnaie  euros dans les banques européennes. - 1999 : Jacques Chirac, président de la République, décore de la Légion d\\'honneur l\\'équipe de France championne du monde de football ainsi que son entraîneur. - 1992 : Un tsunami provoque la mort d\\'une centaine de personnes au Nicaragua. - 1985 : Première image retransmise par le sous-marin Argo du paquebot Titanic disparu dans la nuit du 14 au 15 avril 1912. - 1983 : Dans la nuit du 31 août au 1er septembre l\\'aviation de chasse soviétique abat un Boeing sud-coréen (269 morts). - 1974 : Premières cartes à puces inventées par le français Roland Moreno mises sur le marché. - 1968 : Un séisme en Iran provoque la mort de 11 000 personnes. - 1951 : Jean Vilar devient directeur du Théâtre national populaire. - 1950 : Le droit de vote est retiré aux opposants du régime en Roumanie. - 1949 : Fondation de la première communauté d\\'Emmaüs. L\\'Abbé Pierre accueille dans sa maison de Neuilly-Plaisance Georges Legay, qui deviendra le premier compagnon d\\'Emmaüs. - 1948 : En France une loi est promulguée pour les loyers. - 1941 : Les nazis obligent les Juifs à porter l\\'étoile jaune. - 1939 : Hitler envahit la Pologne, provoquant la Seconde guerre mondiale. - 1923 : Japon - les ville de Tokyo et Yokohama sont détruites par un tremblement de terre qui fait plus de 142 000 morts et 100 000 blessés. ➖➖➖➖➖➖➖➖➖➖➖➖➖➖➖➖➖➖ 1er septembre 1971 : naissance de Lamia, dite Lââm à Paris, chanteuse de pop et de RnB.30 3023 commentaires',\n",
       "  'Link': 'https://www.facebook.com/groups/233123972270/posts/10157830368347271/',\n",
       "  'Images': ['https://scontent-cdt1-1.xx.fbcdn.net/v/t1.6435-9/cp0/c20.0.90.90a/p118x90/241068625_10224613815005203_4172956942166943699_n.jpg?_nc_cat=109&ccb=1-5&_nc_sid=825194&_nc_ohc=XW6Qkx6WpY8AX9kS1SC&_nc_ht=scontent-cdt1-1.xx&oh=ec9cc68d6acc9f5f798c4ffddf3951c2&oe=6166141D']},\n",
       " {'Name': 'Pdci Bouake Delegation KokoAllons Pour le PDCI-RDA15 oct. 2020',\n",
       "  'Date': ' oct 2020',\n",
       "  'Content': ' …de discipline. Quelques petites années avant le décès de mon père adoptif, grand fanatique du Sphinx de Daoukro, il me racontait une merveilleuse histoire. Je ne mesurais vraiment pas la portée de son histoire, mais aujourd\\'hui je me rends compte que les vieux n\\'ont pas d\\'egaux.  En effet, papa me disait qu\\'en 1992, lors d\\'une réunion, le président Félix Houphouët-Boigny a confié trois héritages à son dauphin constitutionnel, son héritier Politique le président HKB. D\\'abord le PDCI-RDA, secondo l\\'unité de la Nation Ivoirienne et le troisième Héritage qui demeurait un secret d\\'État. Mon père ajouta que des sachants savaient et aussi le président Jacques Chirac le savait et le transmettrait à toutes les générations de présidents Français qui lui accorderaient une estime royale malgré son jeune âge. Ce troisième Héritage était comme la prunelle des yeux du \"Sage d\\'Afrique\" à l\\'instar de tout bon grand-père.   Et, le président Henri Konan Bédié avait pour devoir de protéger, de garantir ces trois héritages sans oublier le grand prix international qui porte le nom du Père fondateur. On pourrait même dire que ce prix est un quatrième Héritage puisque le Sphinx de Daoukro en est le garant depuis son décès.  Le président HKB a bien respecté les recommandations d\\'un homme de la dimension de Félix Houphouët-Boigny, et a veillé à ce que et le PDCI-RDA et l\\'unité de la Côte d\\'Ivoire et le troisième Héritage et le prix Félix Houphouët-Boigny, ne soient jamais vandalisés. C\\'est le coup d\\'Etat de 1999 qui est venu effondrer cette unité tant conservée par le Sphinx de Daoukro, jusqu\\'à présent. Et, nous en souffrons toujours. Sinon les autres héritages ont jusque là été bien conservés. Le PDCI-RDA va à merveille, le prix Félix Houphouët-Boigny va aussi bien malgré les multiples tentatives de désacralisation. Le troisième Héritage également va bien même si  certains aventuriers ont tenté de se l\\'approprier.  Nous nous souvenons qu\\'en 1994, alors qu\\'il avait 28 ans le président Henri Konan Bédié à ses côtés un premier ministre comme Daniel Kablan Duncan le nomme jusqu\\'en 2000 ministre du plan et du développement, puis à partir de 1998, Président du Conseil d\\'administration du Bureau d\\'études en lui confiant la relance des mythiques chantiers de l\\'éléphant d\\'Afrique sous l\\'impulsion de Patrick Achi alors ministre des infrastructures économiques, chantiers qui aujourd\\'hui deviennent frauduleusement l\\'oeuvre des aventuriers fossoyeurs sans état d\\'âme. Mais, tant que l\\'esprit du père fondateur de la Côte d\\'Ivoire moderne planera sur notre Nation, tous ces héritages atteindront leur point de chute au nom puissant du Dieu des catholiques qu\\'a tant promu le \"Sage d\\'Afrique\", au nom puissant du Dieu d\\'Israël, terre sainte où une chapelle respire la pleine forme actuellement et bâtie par le \"Vieux\".  Dans mon dernier livre intitulé \"L\\'âge d\\'or de N\\'ZUEBA\" (inédit) aux Nouveau réveil éditions, Abidjan, et préfacé par M. Nestor KOFFI, Inspecteur du PDCI-RDA, j\\'ai souligné ce facteur divin de la couverture de l\\'esprit du président Henri Konan Bédié sur la surface totale de la Nation Ivoirienne. Esprit oint par le Dieu que servait avec ferveur son père spirituel le président Félix Houphouët-Boigny. Prions tous pour la Côte d\\'Ivoire. Une nouvelle lumière s\\'apprête à s\\'y allumer. Un nouveau vent s\\'apprête à s\\'y souffler. Un espoir nouveau est à l\\'aube. Atisons bien le feu du crépuscule. #Seulsles initiés comme moi comprendront mes lignes. On revient  de loin... #HKB forever...55 556 commentaires',\n",
       "  'Link': 'https://www.facebook.com/groups/288871558347280/posts/795587644342333/',\n",
       "  'Images': ['https://scontent-cdt1-1.xx.fbcdn.net/v/t1.6435-9/cp0/c0.79.720.720a/s118x90/121647114_647034792873859_925265300199569513_n.jpg?_nc_cat=105&ccb=1-5&_nc_sid=825194&_nc_ohc=v_6qe21zhlcAX_kOfd8&_nc_ht=scontent-cdt1-1.xx&oh=782c23ff731491999f4454e67403c5c3&oe=61699B17']},\n",
       " {'Name': 'Claude Brodin10 sept.',\n",
       "  'Date': '10 sept',\n",
       "  'Content': ' …national est décidé par le Président de la République. \"L’hommage national est une cérémonie destinée aux militaires morts pour la France, même si certaines personnalités civiles au destin exceptionnel ont été honorées après leur décès\", selon la définition du gouvernement. Très formelle, cette cérémonie se déroule soit aux Invalides, soit au Panthéon. Elle doit également être annoncée au Journal Officiel.  Lors d\\'un hommage national, le président de la République prononce un éloge funèbre devant le cercueil du défunt, orné d\\'un drapeau bleu-blanc-rouge. Alors que les hommages nationaux aux Invalides étaient réservés aux militaires, Jacques Chirac a décidé en 1997 d\\'ouvrir cet honneur aux personnalités civiles : le commandant Cousteau a ainsi été le premier à bénéficier d\\'un hommage national. Depuis, plusieurs personnalités civiles ont reçu un hommage dan ce lieu, comme l\\'Abbé Pierre(2007), Stéphane Hessel (2013), ou plus récemment Jean d\\'Ormesson (2017) et Charles Aznavour (2018). Plusieurs personnalités politiques, dont Jacques Chaban-Delmas (2000), Pierre Mauroy (2013) ou encore Simone Veil (2017), y ont également eu le droit. Les victimes des attentats du 13 novembre 2015 ont été les premières personnalités civiles anonymes à en bénéficier.  Les derniers hommages nationaux rendus aux Invalides sous le quinquennat d\\'Emmanuel Macron ont été ceux du gendarme Arnaud Beltrame (2018), des 13 soldats tués au Mali (2019) et du journaliste et écrivain Jean Daniel (2020), avant le résistant Daniel Cordier en novembre 2020. La cérémonie pour Samuel Paty (professeur assassiné par un terroriste en octobre 2020) s\\'est-elle déroulée dans la Cour de la Sorbonne, pour mettre à l\\'honneur la profession d\\'enseignant. Un hommage national aux Invalides est par ailleurs prévu début 2022 pour Gisèle Halimi.  Dont acte4 44 commentaires',\n",
       "  'Link': 'https://www.facebook.com/claude.brodin/posts/1698445520351062',\n",
       "  'Images': []},\n",
       " {'Name': 'Rodry Tsatyla force du changement AFC28 août 2020',\n",
       "  'Date': ' août 2020',\n",
       "  'Content': \" …DE CLAUDINE MUNARI. Comprendre qui était le Président Pr Pascal Lissouba, son combat politique, pourquoi et comment la France et Jacques Chirac ont ils tué la démocratie au Congo-Brazzaville, chassé un président démocratiquement élu par un coup d'état militaire, pour ramener le Despote criminel Sassou Nguesso au pouvoir.Publication de Christian Perrin JriDÉCÈS DU PR PASCAL LISSOUBA, UN TÉMOIGNAGE DE CLAUDINE MUNARI.\\n\\nComprendre qui était le Président Pr Pascal Lissouba, son combat politique, pourquoi et comment la France et Jacques Chirac ont ils tué la démocratie au Congo-Brazzaville, chassé un président démocratiquement élu par un coup d'état militaire, pour ramener le Despote criminel Sassou Nguesso au pouvoir.2 2\",\n",
       "  'Link': 'https://www.facebook.com/groups/872451916563695/posts/956373178171568/',\n",
       "  'Images': ['https://scontent-cdt1-1.xx.fbcdn.net/v/t15.5256-10/cp0/c35.0.90.90a/p118x90/118606380_1165619090469766_4513993146059639957_n.jpg?_nc_cat=106&ccb=1-5&_nc_sid=1055be&_nc_ohc=Yu5jo_AuQlYAX-aZqW7&_nc_ht=scontent-cdt1-1.xx&oh=1d536662d41d1cded1ed9aaf314b0bd3&oe=61481FC9']},\n",
       " {'Name': 'Ali Bongo Ondimba',\n",
       "  'Date': '26 sept 2019',\n",
       "  'Content': ' …beaucoup de tristesse que j\\'ai appris le décès ce jour de l\\'ancien président de la République française, Jacques Chirac.  Jacques Chirac était un grand ami, fidèle et loyal, du Gabon. Un amoureux sincère de l\\'Afrique.  Il a été pour moi un père spirituel dont je n\\'oublierai jamais la bienveillance. \"Ce qui fait la force, ça n\\'est pas le pouvoir, c\\'est le vouloir\", aimait-il à répéter. Je garderai à jamais en mémoire l\\'image d\\'un homme, d\\'un homme d\\'Etat profondément humaniste qui, toute sa vie, aura été un pont entre les peuples, entre les civilisations. Au nom du peuple gabonais, je présente à toute sa famille et au peuple français mes plus sincères condoléances. Puisse ce grand homme, qui a marqué l\\'Histoire politique contemporaine, désormais reposer en paix.1,1\\xa0K 1,1\\xa0K206 commentaires',\n",
       "  'Link': 'https://www.facebook.com/alibongoondimba/posts/2601115466576286',\n",
       "  'Images': []},\n",
       " {'Name': 'Hassane Cheikh14 juil.',\n",
       "  'Date': '14 juil',\n",
       "  'Content': ' …son décès. Invité d’honneur du Président français Jacques Chirac, le défunt Roi assistait au défilé du 14 juillet 1999. C’était « l’année du Maroc » en France. A l’image des troupes de la Garde Royale descendant les Champs-Elysées au son de la Marche Verte, lors du traditionnel défilé militaire organisé chaque année, pour la fête nationale française, s’associait l’image d’un Roi fier de sa Garde, héritière d’une longue tradition militaire Un bel hommage rendu aux troupes marocaines qui avaient participé à la libération de l’Hexagone en 1945. C’était alors la deuxième fois, depuis la création du défilé, qu’un contingent étranger autonome participait à la parade militaire.6 63 commentaires',\n",
       "  'Link': 'https://www.facebook.com/hassane.cheikh.52/posts/493013988460300',\n",
       "  'Images': ['https://scontent-cdg2-1.xx.fbcdn.net/v/t1.6435-9/cp0/c0.29.371.371a/s118x90/217420496_493013881793644_1750195072002994205_n.jpg?_nc_cat=111&ccb=1-5&_nc_sid=8bfeb9&_nc_ohc=Pj3UJKfrHOIAX9F9dLt&_nc_ht=scontent-cdg2-1.xx&oh=e313a0e39f6325351a36bac0906d3bc2&oe=6167B66C',\n",
       "   'https://scontent-cdt1-1.xx.fbcdn.net/v/t15.5256-10/cp0/c15.0.90.90a/p118x90/211427370_1403432813357243_5952766385304676767_n.jpg?_nc_cat=110&ccb=1-5&_nc_sid=ad6a45&_nc_ohc=23Xi24s-q3IAX-jPyZC&_nc_ht=scontent-cdt1-1.xx&oh=08af4d367fe6993fbc63acb1d3cc6373&oe=614783C7']},\n",
       " {'Name': 'Karim Keïta',\n",
       "  'Date': '30 sept 2019',\n",
       "  'Content': ' …suite au décès de l’ancien président Jacques Chirac. Qu’il repose en paix! @FranceauMali+41,4\\xa0K 1,4\\xa0K152 commentaires',\n",
       "  'Link': 'https://www.facebook.com/KarimKeita.ML/posts/2717611924936718',\n",
       "  'Images': ['https://scontent-cdg2-1.xx.fbcdn.net/v/t1.6435-9/cp0/c65.0.831.831a/s118x90/71144976_2717611894936721_9085138832260595712_n.jpg?_nc_cat=100&ccb=1-5&_nc_sid=8bfeb9&_nc_ohc=eEKmBT25KKoAX9W1lpM&_nc_ht=scontent-cdg2-1.xx&oh=76021172ca11a386e1eee42daabcf9ac&oe=616842D7',\n",
       "   'https://scontent-cdg2-1.xx.fbcdn.net/v/t1.6435-9/cp0/c23.0.90.90a/p118x90/71944052_2717611488270095_4895148993765441536_n.jpg?_nc_cat=104&ccb=1-5&_nc_sid=8bfeb9&_nc_ohc=fEGlo3jLF2sAX_aImc5&_nc_ht=scontent-cdg2-1.xx&oh=d788fd9eb059106b8c1d6fe5a9060465&oe=6167785E',\n",
       "   'https://scontent-cdt1-1.xx.fbcdn.net/v/t1.6435-9/cp0/c23.0.90.90a/p118x90/71211260_2717611594936751_2597896829676814336_n.jpg?_nc_cat=105&ccb=1-5&_nc_sid=8bfeb9&_nc_ohc=arTWmuQMURcAX9vDALq&_nc_ht=scontent-cdt1-1.xx&oh=50a27afc699c6589ab528d7a89248f87&oe=61690776']},\n",
       " {'Name': 'Karl Michel Mertens-von HohenbergLouis de Bourbon et la famille Royale de France .Duché de Bourbonnais.3 déc. 2020',\n",
       "  'Date': ' déc 2020',\n",
       "  'Content': \" …une grande tristesse que nous apprenons le décès du Président Valéry Giscard d’Estaing, des suites du Covid 19. Nous saluons  sa mémoire et présentons nos condoléances à sa famille. Qu’il repose dans la paix de Dieu et que brille sur lui la lumière sans déclin. L'ancien président de la République de 1974 à 1981 avait été hospitalisé à Tours le 17 novembre dernier pour «une insuffisance cardiaque». Il s'est éteint à l'âge de 94 ans, entouré des siens. La France a perdu un homme d’État et de lettres, et l’Auvergne, un défenseur intraitable de son identité, de son caractère et de son patrimoine. Pour l’Auvergne, Valéry Giscard d’Estaing restera pour toujours un visionnaire. L'ancien président de la République Valéry Giscard d'Estaing est décédé ce mercredi soir à l'âge de 94 ans dans son château d’Authon, a annoncé son entourage. Il s'est éteint «entouré de sa famille» dans sa propriété d'Authon dans le Loir-et-Cher. Il est mort «des suites du Covid» a ensuite précisé sa famille. L'ancien chef de l'État avait été admis dans «le service de cardiologie» de l'hôpital de Tours le 17 novembre dernier pour «une insuffisance cardiaque» , avait alors indiqué son entourage. En septembre, l'ancien chef de l'État avait déjà été hospitalisé à l'hôpital Georges Pompidou, à Paris, pour «une légère infection aux poumons». Il avait déjà été hospitalisé à plusieurs reprises à l'hôpital Georges Pompidou il y a quelques années, en cardiologie pour la pose de stents. Plus jeune président de la Vème République lorsqu'il est élu en 1974, Valéry Giscard d'Estaing avait fait l'une de ses dernières apparitions publiques le 30 septembre 2019 lors des obsèques à Paris d'un autre président de la République, Jacques Chirac, qui fut son premier ministre de 1974 à 1976. Né le 2 février 1926 à Coblence, où son père Edmond Giscard d’Estaing était en poste durant l’occupation de la Rhénanie par les forces françaises. Il fait ses études à l’école Gerson, puis aux lycées Janson-de-Sailly et Louis-le-Grand à Paris, et Blaise Pascal à Clermont-Ferrand. À dix-huit ans, il s’engage dans la Première Armée française (campagne 1944-1945) où il est décoré de la croix de guerre. Reçu aux concours de l’École polytechnique, puis de l’École nationale d’administration, il entre dans le corps de l’inspection générale des Finances en 1952 où il poursuit une carrière administrative jusqu’en 1956. Il est élu député à l’Assemblée nationale en 1956, puis nommé ministre des Finances et des Affaires économiques entre 1961 et 1974, sous les présidences du général de Gaulle et de Georges Pompidou. Il exerce la fonction de président de la République de 1974 à 1981. Depuis 1981, il consacre ses activités au service de la région d’Auvergne, qu’il a présidée jusqu'en 2004, et de ses convictions européennes. En 2001, il est nommé président de la Convention européenne chargée d »élaborer une constitution pour l’Europe. Il siège au Conseil Constitutionnel dont il est, à vie, membre de droit. De nombreuses universités lui ont décerné un doctorat honoris causa. Depuis 1995, il est membre de la Real Academia de Ciencias Economicas y Financieras (Espagne). En 2001, il a reçu la médaille d’or de la Fondation Jean Monnet pour l’Europe, et en 2002 le prix Charlemagne décerné par la ville d’Aix-la-Chapelle, et en 2006, avec Helmut Schmidt, le prix De Gaulle-Adenauer à Berlin. Il a été élu, en avril 2006, membre associé de l’Académie Royale de Belgique. Il a été élu à l’Académie française, le 11 décembre 2003, au fauteuil de Léopold Sédar Senghor (16e fauteuil), et reçu le 16 décembre 2004 par Jean-Marie Rouart. Avec Louis Mertens369 369175 commentaires\",\n",
       "  'Link': 'https://www.facebook.com/groups/982622851772348/posts/3820748027959802/',\n",
       "  'Images': ['https://scontent-cdg2-1.xx.fbcdn.net/v/t1.6435-9/cp0/c0.67.397.397a/s118x90/128829764_1063389114110211_2242424673519954365_n.jpg?_nc_cat=111&ccb=1-5&_nc_sid=825194&_nc_ohc=U3nrHz7QzqIAX94JHM7&_nc_ht=scontent-cdg2-1.xx&oh=eb6b6a199ac04c46ff44e8a47800d5c7&oe=616876CD']},\n",
       " {'Name': 'Kader SdbObservatoire des HOUPHOUËTISTES Pour la Démocratie et la Paix30 juil. 2020',\n",
       "  'Date': '30 juil 2020',\n",
       "  'Content': \" …de la Défense, également proche du président Ouattara, prend la tête de la primature pour succéder au défunt Amadou Gon Coulibaly. Après le décès soudain du Premier ministre et candidat du parti au pouvoir à l'élection présidentielle d'octobre, Amadou Gon Coulibaly, intervenu le 8 juillet dernier, Alassane Ouattara a choisi de remettre les clés de la primature à Hamed Bakayoko, 55 ans, qui en assurait l'intérim depuis près de deux mois. « Le président de la République a procédé à la signature d'un décret portant nomination de M. Hamed Bakayoko en qualité de Premier ministre », tout en conservant le portefeuille de la Défense, selon un communiqué de la présidence publié ce jeudi 30 juillet. Son nom avait circulé comme présidentiable, avant la désignation en mars d'Amadou Gon Coulibaly comme candidat du parti au pouvoir pour la présidentielle d'octobre en Côte d'Ivoire. Mais qui est-il vraiment et de quelle marge de manœuvre dispose-t-il, alors que la Côte d'Ivoire est entrée dans une période d'incertitude. Hamed Bakayoko, un ex-homme de médias Du haut de son mètre quatre-vingt-neuf, l'ancien journaliste et homme d'affaires Hamed Bakayoko est devenu en une décennie un acteur politique incontournable : ministre d'État, ministre de l'Intérieur en 2011 puis de la Défense depuis 2017 et depuis deux ans maire d'Abobo, l'une des deux communes les plus peuplées d'Abidjan et de Côte d'Ivoire. Mais il y a vingt ans en arrière, Hamed Bakayoko était un heureux dirigeant de médias, Le Patriote, Radio Nostalgie ou encore Nostalgie Afrique. C'est en 2011 qu'« Hambak », comme le surnomment les Ivoiriens, fait son entrée en politique. Il est nommé ministre des Nouvelles Technologies, de l'Information et de la Communication (NTIC) dans un contexte sécuritaire ultrasensible. Les accords de Linas-Marcoussis (du nom d'une petite agglomération de la région parisienne) venaient d'être signés en France sous l'égide de Jacques Chirac et Laurent Gbagbo et un gouvernement de réconciliation nationale devait être constitué. Alors que Hamed Bakayoko est membre du RDR, le Rassemblement des républicains, il entretient d'excellentes relations avec l'opposition et surtout Guillaume Soro, qui insiste pour qu'il entre au gouvernement. Il reste à son poste de mars 2003 à avril 2011. Hamed Bakayoko, un enfant d'Adjamé Et pourtant, rien ne le prédestinait à une telle carrière. Hamed Bakayoko est né dans le quartier d'Habitat-Extension, dans la commune d'Adjamé. Sa famille est pieuse et conservatrice, descendant d'érudits musulmans connus de la famille d'El-Hadji Moussa Bakayoko, celui-là même qui, selon la légende, fonda la ville de Koro, dans le nord-ouest de la Côte d'Ivoire. Élevé par son père veuf avec son frère et ses deux sœurs, Hamed Bakayoko part dès la fin du lycée pour le Burkina Faso afin d'y étudier la médecine. Il n'ira pas au bout, car à Ouaga ce mélomane amoureux des rythmes ivoiriens et habitué des clubs s'éveille à la politique, découvre Thomas Sankara et les discours de lutte. Hamed Bakayoko, un parcours de militant À son retour à Abidjan, il commence à militer au sein du Mouvement des étudiants et élèves de Côte d'Ivoire (MEECI), un syndicat proche du PDCI-RDA (Rassemblement démocratique africain). Ce qui lui donne l'idée de fonder dans ces années 90 le mouvement de la Jeunesse estudiantine et scolaire du PDCI (JESPDCI). Qu'à cela ne tienne, pourquoi ne pas fonder un journal. Hamed Bakayoko lance Le Patriote, qui se veut proche d'Houphouët-Boigny et du PDCI. Le Vieux n'y est pas sensible et Hamed Bakayoko décide de se mettre au service de la défense du Premier ministre de Félix Houphouët-Boigny, Alassane Ouattara. Il vient de lancer avec Djéni Kobina le Rassemblement des Républicains (RDR) et Le Patriote en devient son organe de presse. Mais Henri Konan Bédié, grand rival d'Ouattara, ne digère pas l'un des courriers de lecteur lui portant atteinte. Bakayoko est envoyé en détention à la Maca, à Abidjan, pour quatre mois et seize jours. Un tournant : la rencontre avec Dominique Ouattara Après sa sortie, il se lance en radio avant de faire la rencontre de celle qui deviendra la première dame de Côte d'Ivoire, Dominique Ouattara, qui investit dans son média. Depuis cette époque, une relation de confiance s'est installée entre les deux hommes qui se sont rapprochés au fil des années. Au point que lorsque le 11 avril 2011, Laurent Gbagbo est finalement arrêté dans sa résidence de Cocody par les Forces républicaines de Côte d'Ivoire (FRCI), Alassane Ouattara désigne Hamed Bakayoko pour assurer la protection de l'ancien président à l'hôtel du Golf. Marié à la très discrète Yolande Bakayoko depuis plus de vingt ans, franc-maçon et grand maître de la Grande Loge de Côte d'Ivoire, Hamed Bakayoko est aujourd'hui une personnalité de poids au sein de la machine Ouattara. Dans tous les cas, il est un rouage indispensable pour la prochaine élection présidentielle. Alassane Ouattara devrait vraisemblablement se représenter au scrutin présidentiel pour un troisième mandat, mais il a annoncé différer sa décision, mercredi, devant le conseil politique de son parti, le RHDP à Abidjan.55 553 commentaires\",\n",
       "  'Link': 'https://www.facebook.com/groups/2066092363611852/posts/2671087783112304/',\n",
       "  'Images': ['https://scontent-cdg2-1.xx.fbcdn.net/v/t1.6435-9/cp0/c35.0.705.705a/s118x90/116344746_925792117918171_8946253413338979790_n.jpg?_nc_cat=108&ccb=1-5&_nc_sid=825194&_nc_ohc=HCzvwmWlshMAX9AMRyp&_nc_ht=scontent-cdg2-1.xx&oh=2ce5548c4be0e6146fce2792deb55ca6&oe=6167EFE0']},\n",
       " {'Name': 'Frederic de NatalInternational Monarchist Conference - Conférence Monarchiste Internationale27 sept. 2019',\n",
       "  'Date': '27 sept 2019',\n",
       "  'Content': ' …french throne regarding the death of President Jacques Chirac : \"The Count of Paris has all his life assumed in fidelity the legacy of the royal family of France, without departing from respect for the institutions of the Republic.\" I do not forget the sincere tribute that President Jacques Chirac gave to my grandfather on the day of his death. I had the opportunity to meet him several times, especially during the Capetian Millennium. I keep  of the man, a certain picture of France, and a stature that made honor to our country. My loving thoughts are with his family, especially his wife, present at my wedding and my grandma\\'s faithful friend.la-couronne.orgCommuniqué de Monseigneur le comte de Paris suite au décès du président Jacques Chirac - Le blog de La Couronne30 301 commentaire',\n",
       "  'Link': 'https://www.facebook.com/groups/monarchiste/posts/10157067434939902/',\n",
       "  'Images': []},\n",
       " {'Name': 'Roch M.C. Kabore',\n",
       "  'Date': '29 sept 2019',\n",
       "  'Content': ' …suite au décès de l’ancien président Jacques Chirac. Avec sa disparition, c’est une page du gaullisme qui se referme.694 694100 commentaires',\n",
       "  'Link': 'https://www.facebook.com/RochKaborePF/posts/552099752262515',\n",
       "  'Images': ['https://scontent-cdg2-1.xx.fbcdn.net/v/t1.6435-9/cp0/c23.0.90.90a/p118x90/71820638_552099605595863_7141731259704672256_n.jpg?_nc_cat=104&ccb=1-5&_nc_sid=8bfeb9&_nc_ohc=nKP4OacC5DsAX9u-CEs&_nc_ht=scontent-cdg2-1.xx&oh=19d18fee5606a32d98d6904cd1f38756&oe=61664E4E']},\n",
       " {'Name': 'Jcb Alias Msgr DubosqDPLV et SMLH 1311 avr.',\n",
       "  'Date': '1311 avr',\n",
       "  'Content': \" Décès du général Henri Marescaux (X63), directeur général de l’X de 1993 à 1997 Le général d’armée Henri Marescaux est mort le 1er avril dans sa soixante-dix-huitième année. Directeur général de l’École polytechnique de 1993 à 1997, il a contribué à sa modernisation et à son internationalisation. Il a fondé l’association Tamaris qui se consacre au soutien des personnes prostituées. Le directeur général de l'Ecole polytechnique, Henri Marescau, avec Janques Chirac lors des cérémonies du bicenteiare de l'X Henri Marescaux, directeur général de l'X de 1993 à 1997 avec Jacques Chirac, lors des cérémonies du bicentaire de l'X en 1994 Né en 1943 à Albertville (Savoie), Henri Marescaux intègre l’École polytechnique en 1963. Ancien élève de l’Ecole nationale des Ponts et Chaussées (70) et de l’Ecole de guerre (81), il commande le 19e régiment du génie à Besançon puis dirige l’École polytechnique de 1993 à 1997. Son mandat à la tête de l’X coïncide avec le bicentenaire de l’École qu’il contribue à moderniser et à internationaliser en étroite collaboration avec le président Pierre Faurre. Il a ainsi préparé la réforme de grande ampleur de l’École, dite « X2000 » qui prévoyait un recrutement plus diversifié des élèves français et étrangers, un renforcement des liens avec les grandes universités et écoles françaises et étrangères et une rénovation de la formation humaine et militaire avec des stages de terrains permettant aux polytechniciens de découvrir des milieux humains très divers. Cette réforme a aussi permis de développer la capacité de recherche à l’X et d’en valoriser les résultats. Après avoir créé le service d’architecture des systèmes de forces à la Direction générale de l’Armement, Henri Marescaux devient major général de l’armée de terre en 1999 assurant la transformation en profondeur de l’institution après l’arrêt du service national et la professionnalisation des armées. Il termine sa carrière militaire en 2002 avec le titre d’Inspecteur Général des Armées. Il est le fondateur de l’association Tamaris qui se consacre au service des personnes prostituées et accompagne plusieurs centaines d’entre elles pour sortir de la prostitution, notamment en leur proposant des cours de français et en les assistant dans les démarches administratives. En 2019, il publie un livre sur cette expérience, Les prostituées nous précèdent. Dans un entretien accordé à la Jaune & La Rouge en mars 2019, Henri Marescaux était revenu sur sa carrière militaire, ses années à la direction de l’Ecole polytechnique et sur son engagement associatif.8 82 commentaires\",\n",
       "  'Link': 'https://www.facebook.com/groups/WWW.DPLV.BOUCHESDURHONE/posts/2890113831309352/',\n",
       "  'Images': []},\n",
       " {'Name': 'Serge FontaineHOMMAGE A JOHNNY HALLYDAY29 sept. 2020',\n",
       "  'Date': '29 sept 2020',\n",
       "  'Content': ' …vous,  j’ai été attristé par le décès de ce grand homme qu’était Jacques Chirac. Alors à ma manière j’ai voulu lui rendre hommage. Comme vous le savez, Jacques Chirac et Johnny avaient l’un pour l’autre une affection toute particulière. Alors j’ai pris ma plume et j’ai adapté une chanson du Boss « Merci » que j’ai intitulée « Merci Mr. le président » J’espère que ça vous plaira. Bises et merci à tous.  Et n’oubliez pas de partager si ça vous a plu!!!Publication de Serge FontaineCoucou les amis, tout comme une majorité d’entre vous, \\nj’ai été attristé par le décès de ce grand homme qu’était Jacques Chirac. Alors à ma manière j’ai voulu lui rendre hommage. Comme vous le savez, Jacques Chirac et Johnny avaient l’un pour l’autre une affection toute particulière. Alors j’ai pris ma plume et j’ai adapté une chanson du Boss « Merci » que j’ai intitulée « Merci Mr. le président » J’espère que ça vous plaira. Bises et merci à tous. \\nEt n’oubliez pas de partager si ça vous a plu!!!9 93 partages',\n",
       "  'Link': 'https://www.facebook.com/groups/1279872995450717/posts/3060677770703555/',\n",
       "  'Images': ['https://scontent-cdt1-1.xx.fbcdn.net/v/t15.5256-10/cp0/c35.0.90.90a/p118x90/69473916_2632633610113344_1788042121375121408_n.jpg?_nc_cat=110&ccb=1-5&_nc_sid=1055be&_nc_ohc=F9Cn8IlVNekAX8b5uFR&_nc_ht=scontent-cdt1-1.xx&oh=3800091efe581e567946e2f23b442103&oe=614721B6']},\n",
       " {'Name': 'Pdci Bouake Delegation Kokojeunesse Gouali Basile15 oct. 2020',\n",
       "  'Date': ' oct 2020',\n",
       "  'Content': ' …de discipline. Quelques petites années avant le décès de mon père adoptif, grand fanatique du Sphinx de Daoukro, il me racontait une merveilleuse histoire. Je ne mesurais vraiment pas la portée de son histoire, mais aujourd\\'hui je me rends compte que les vieux n\\'ont pas d\\'egaux.  En effet, papa me disait qu\\'en 1992, lors d\\'une réunion, le président Félix Houphouët-Boigny a confié trois héritages à son dauphin constitutionnel, son héritier Politique le président HKB. D\\'abord le PDCI-RDA, secondo l\\'unité de la Nation Ivoirienne et le troisième Héritage qui demeurait un secret d\\'État. Mon père ajouta que des sachants savaient et aussi le président Jacques Chirac le savait et le transmettrait à toutes les générations de présidents Français qui lui accorderaient une estime royale malgré son jeune âge. Ce troisième Héritage était comme la prunelle des yeux du \"Sage d\\'Afrique\" à l\\'instar de tout bon grand-père.   Et, le président Henri Konan Bédié avait pour devoir de protéger, de garantir ces trois héritages sans oublier le grand prix international qui porte le nom du Père fondateur. On pourrait même dire que ce prix est un quatrième Héritage puisque le Sphinx de Daoukro en est le garant depuis son décès.  Le président HKB a bien respecté les recommandations d\\'un homme de la dimension de Félix Houphouët-Boigny, et a veillé à ce que et le PDCI-RDA et l\\'unité de la Côte d\\'Ivoire et le troisième Héritage et le prix Félix Houphouët-Boigny, ne soient jamais vandalisés. C\\'est le coup d\\'Etat de 1999 qui est venu effondrer cette unité tant conservée par le Sphinx de Daoukro, jusqu\\'à présent. Et, nous en souffrons toujours. Sinon les autres héritages ont jusque là été bien conservés. Le PDCI-RDA va à merveille, le prix Félix Houphouët-Boigny va aussi bien malgré les multiples tentatives de désacralisation. Le troisième Héritage également va bien même si  certains aventuriers ont tenté de se l\\'approprier.  Nous nous souvenons qu\\'en 1994, alors qu\\'il avait 28 ans le président Henri Konan Bédié à ses côtés un premier ministre comme Daniel Kablan Duncan le nomme jusqu\\'en 2000 ministre du plan et du développement, puis à partir de 1998, Président du Conseil d\\'administration du Bureau d\\'études en lui confiant la relance des mythiques chantiers de l\\'éléphant d\\'Afrique sous l\\'impulsion de Jean-Michel Moulot alors ministre des infrastructures économiques, chantiers qui aujourd\\'hui deviennent frauduleusement l\\'oeuvre des aventuriers fossoyeurs sans état d\\'âme. Mais, tant que l\\'esprit du père fondateur de la Côte d\\'Ivoire moderne planera sur notre Nation, tous ces héritages atteindront leur point de chute au nom puissant du Dieu des catholiques qu\\'a tant promu le \"Sage d\\'Afrique\", au nom puissant du Dieu d\\'Israël, terre sainte où une chapelle respire la pleine forme actuellement et bâtie par le \"Vieux\".  Dans mon dernier livre intitulé \"L\\'âge d\\'or de N\\'ZUEBA\" (inédit) aux Nouveau réveil éditions, Abidjan, et préfacé par M. Nestor KOFFI, Inspecteur du PDCI-RDA, j\\'ai souligné ce facteur divin de la couverture de l\\'esprit du président Henri Konan Bédié sur la surface totale de la Nation Ivoirienne. Esprit oint par le Dieu que servait avec ferveur son père spirituel le président Félix Houphouët-Boigny. Prions tous pour la Côte d\\'Ivoire. Une nouvelle lumière s\\'apprête à s\\'y allumer. Un nouveau vent s\\'apprête à s\\'y souffler. Un espoir nouveau est à l\\'aube. Atisons bien le feu du crépuscule. #Seulsles initiés comme moi comprendront mes lignes. On revient  de loin... #HKB forever...14 148 commentaires',\n",
       "  'Link': 'https://www.facebook.com/groups/658922417856213/posts/1124749221273528/',\n",
       "  'Images': ['https://scontent-cdt1-1.xx.fbcdn.net/v/t1.6435-9/cp0/c0.67.480.480a/s118x90/121587731_647038002873538_2481928886670518103_n.jpg?_nc_cat=109&ccb=1-5&_nc_sid=825194&_nc_ohc=1N8wz8Ug8zoAX9NMOFe&_nc_ht=scontent-cdt1-1.xx&oh=f36f8d5415019eebd170b6e361d40602&oe=616983FA']},\n",
       " {'Name': 'Laurent TavelinTu es de Charny (89) quand…25 août',\n",
       "  'Date': '25 août',\n",
       "  'Content': \" …l'Allemagne. - 1976 : Démission de Jacques Chirac du poste de Premier ministre de Giscard d'Estaing. Il est remplacé par Raymond Barre. - 1973 : Deux co-princes d'Andorre (le Président Pompidou et l'évêque d'Urgel) se rencontrent pour la première fois depuis 700 ans. - 1960 : Ouverture des 17e Jeux Olympique à Rome. ➖➖➖➖➖➖➖➖➖➖➖➖➖➖➖➖➖➖ 25 Août 1970 : naissance de Claudia Schiffer à Rhrinberg (Allemagne), mannequin. Elle aura marquée son époque !16 164 commentaires\",\n",
       "  'Link': 'https://www.facebook.com/groups/233123972270/posts/10157815762392271/',\n",
       "  'Images': ['https://scontent-cdt1-1.xx.fbcdn.net/v/t1.6435-9/cp0/c0.48.456.456a/s118x90/238829617_10224567002354916_6545917939121843123_n.jpg?_nc_cat=101&ccb=1-5&_nc_sid=825194&_nc_ohc=hloy47uweeoAX-jQWhr&_nc_ht=scontent-cdt1-1.xx&oh=4412137e54887c6f55c84f1ba5c9c173&oe=61686C46']},\n",
       " {'Name': 'Marie Ed la SambrienneMAUBEUGE & ENVIRONS AU FIL DU TEMPS COMMERÇANTS  ARTISANS FAITES VOTRE PUB.13 juin',\n",
       "  'Date': '13 juin',\n",
       "  'Content': ' …Page, actrice américaine. 13-06-1995 : Jacques Chirac annonce la reprise des essais nucléaires français. 13-06-1998 : Le navigateur français Eric Tabarly disparaît en mer au large du Pays de Galles.2 26 commentaires',\n",
       "  'Link': 'https://www.facebook.com/groups/268977024710371/posts/314411340166939/',\n",
       "  'Images': ['https://scontent-cdg2-1.xx.fbcdn.net/v/t1.6435-9/cp0/c41.0.90.90a/p118x90/198915469_332186765139640_6334569672804627975_n.jpg?_nc_cat=111&ccb=1-5&_nc_sid=825194&_nc_ohc=GMQHgD5sKwkAX9JRo3X&_nc_ht=scontent-cdg2-1.xx&oh=f2acfad26fa0844550527ce9260e7496&oe=61698338']},\n",
       " {'Name': 'Kaline-Chipie CoolLE LONGAQUATIEN2 févr.',\n",
       "  'Date': '2 févr',\n",
       "  'Content': \" …Giscard d’Estaing. Lors du dernier conseil municipal d’Amiens, le 28 janvier 2021, sur proposition de Brigitte Fouré, les élus ont voté à l’unanimité la dénomination de l’avenue Valéry Giscard D’Estaing, en remplacement de la voie « Boulevard Ambroise Paré » située entre la rue de Rouen et la rue du Professeur Christian Cabrol. Suite au récent décès de Valéry Giscard d’Estaing, la Ville d’Amiens a souhaité honorer la mémoire d’un ancien Président de la République Française en lui attribuant le nom à l’une des artères de la Ville comme récemment pour François Mitterrand et Jacques Chirac.Publication de Amiens Métropole - Ville d'Amiens[ #Inauguration 🔴 ] Amiens : inauguration de l’avenue Valéry Giscard D’Estaing\\n\\nLe dévoilement de la plaque portant le nom de Valéry Giscard D’estaing  par Brigitte Fouré, Maire d’Amiens et Alain Gest, Président d’Amiens Métropole s'est déroulée ce mardi 2 février 2021 à 11h en présence de l’un des fils de l’ancien Président de la République, Louis Giscard d’Estaing.\\n\\nLors du dernier conseil municipal d’Amiens, le 28 janvier 2021, sur proposition de Brigitte Fouré, les élus ont voté à l’unanimité la dénomination de l’avenue Valéry Giscard D’Estaing, en remplacement de la voie « Boulevard Ambroise Paré » située entre la rue de Rouen et la rue du Professeur Christian Cabrol.\\n\\nSuite au récent décès de Valéry Giscard d’Estaing, la Ville d’Amiens a souhaité honorer la mémoire d’un ancien Président de la République Française en lui attribuant le nom à l’une des artères de la Ville comme récemment pour François Mitterrand et Jacques Chirac.5 51 commentaire\",\n",
       "  'Link': 'https://www.facebook.com/groups/662501607828327/posts/907031813375304/',\n",
       "  'Images': ['https://scontent-cdg2-1.xx.fbcdn.net/v/t1.6435-9/cp0/c23.0.90.90a/p118x90/146115262_2386233338187891_2727681902426436555_n.jpg?_nc_cat=108&ccb=1-5&_nc_sid=730e14&_nc_ohc=lLRo1IcfpyIAX9JccYs&_nc_ht=scontent-cdg2-1.xx&oh=06eb95ccc72e680b7783670fc1011b6d&oe=6168BB04']},\n",
       " {'Name': 'Jacqueline Simonpassé présent.9 janv.',\n",
       "  'Date': '9 janv',\n",
       "  'Content': \" …les élections législatives de 1986. Jacques Chirac de vient premier ministre. C’est la première cohabitation. En 1988, il est réélu président de la République face à Jacques Chirac. Son second mandat est marqué par l'engagement militaire de la France dans la  1ère [guerre du Golfe](https://fr.wikipedia.org/wiki/Guerre_du_Golfe), par l'adoption du traité de Maastricht , par la [deuxième cohabitation](https://fr.wikipedia.org/wiki/Deuxi%C3%A8me_cohabitation) (avec  [Édouard Balladur](https://fr.wikipedia.org/wiki/%C3%89douard_Balladur) ). Sa popularité déclineavecdes révélations sur son passé et  ses relations jamais rompues avec René Bousquet. Atteint d'un [cancer de la prostate](https://fr.wikipedia.org/wiki/Cancer_de_la_prostate) diagnostiqué dès 1981, il meurt quelques mois après son départ de l'Élysée. Seul président à avoir effectué deux [septennats](https://fr.wikipedia.org/wiki/Septennat) complets, François Mitterrand détient le record de longévité à la présidence de la République française.8 853 commentaires\",\n",
       "  'Link': 'https://www.facebook.com/groups/353294355653892/posts/488159308834062/',\n",
       "  'Images': ['https://scontent-cdt1-1.xx.fbcdn.net/v/t1.6435-9/cp0/c36.0.90.90a/p118x90/136678628_10219178842289617_5905222945319216825_n.jpg?_nc_cat=103&ccb=1-5&_nc_sid=825194&_nc_ohc=1nVzsQj92-QAX9ISoBC&tn=IKsFr2rO_VsiDt5B&_nc_ht=scontent-cdt1-1.xx&oh=922861e2078d6764560b88e470f94c58&oe=6168D13F']},\n",
       " {'Name': 'Françoise Wogue26 août',\n",
       "  'Date': '26 août',\n",
       "  'Content': \" …de son décès) en présence du Président de la République Jacques Chirac, du Chancelier de l'Ordre de la Libération Jean Simon et du maire de Paris Jean Tiberi. D’une hauteur de 3,6 mètres reposant sur un piédestal faisant à lui seul 3,8 m, la statue du général de Gaulle est à la hauteur du grand homme qu’il représente dans le cœur de tous les français. C’est au sculpteur français Jean Cardot (1930-….) que le jury de sélection a confié la réalisation de ce monument. C’est aussi Jean Cardot qui a réalisé les statues de Winston Churchill, que l'on retrouve quelques mètres plus loin, avenue Winston-Churchill, près du Petit Palais ainsi que celle de Thomas Jefferson à côté de la passerelle de Solférino, devant le musée d'Orsay. Le jury avait toutefois donné des consignes très précises au sculpteur sélectionné pour représenter le général. Il devait « traduire l’élan qui portait le général de Gaulle descendant les Champs-Élysées le jour du 26 août 1944, sa force, sa détermination, sa hauteur de vue mais aussi le sentiment de plénitude et de joie qui l’habitait et le faisait rayonner parmi ses compagnons et devant une foule en liesse. » On peut dire que le mandat a été assez bien respecté. Sur le socle sont gravées des phrases de ce grand homme d’État : « Il y a un pacte vingt fois séculaire entre la grandeur de la France et la liberté du monde » ainsi qu’un extrait du célèbre discours du Général à l’Hôtel de Ville le 26 août 1944 « Paris, Paris outragé, Paris brisé, Paris martyrisé, mais Paris libéré… ».+31 1\",\n",
       "  'Link': 'https://www.facebook.com/francoise.wogue/posts/5063645363651631',\n",
       "  'Images': ['https://scontent-cdt1-1.xx.fbcdn.net/v/t1.6435-9/cp0/c0.79.720.720a/s118x90/236450322_5063633060319528_1457041617580813080_n.jpg?_nc_cat=109&ccb=1-5&_nc_sid=8bfeb9&_nc_ohc=gnPcWKYsm6QAX_AZ4av&_nc_ht=scontent-cdt1-1.xx&oh=b360aee7f89d92c58bd0f128dc7c4573&oe=6169D509',\n",
       "   'https://scontent-cdg2-1.xx.fbcdn.net/v/t1.6435-9/cp0/c0.79.720.720a/s118x90/240819893_5063633110319523_8515967854883150859_n.jpg?_nc_cat=104&ccb=1-5&_nc_sid=8bfeb9&_nc_ohc=kT4SM38XB-UAX8H4RRW&_nc_oc=AQmn1BfESU_2gyr-92JKpMOrt2jyVBOEeQ-5PC6cU0Ie5PnHEMqcEDCWa27GcW5TlkI&_nc_ht=scontent-cdg2-1.xx&oh=775e3927d31e434c72a4af854c35289b&oe=61670443',\n",
       "   'https://scontent-cdt1-1.xx.fbcdn.net/v/t1.6435-9/cp0/c0.79.720.720a/s118x90/240660501_5063633650319469_7761185815909476914_n.jpg?_nc_cat=101&ccb=1-5&_nc_sid=8bfeb9&_nc_ohc=VoV2KQ1rg7kAX8tSOeq&_nc_ht=scontent-cdt1-1.xx&oh=c4d6b1e4c0ed1e4212cf6bc97021da43&oe=61693F69']},\n",
       " {'Name': 'Mustafa BelrhitiInspirations des Talents3 oct. 2020',\n",
       "  'Date': ' oct 2020',\n",
       "  'Content': \" C 'est la 1ere anniversaire du décès de Monsieur Le président Chirac Un Hommage est lui dédié à travers de ces deux poèmes  Hommage à Jacques Chirac Hommage à Jacques Chirac, Connu pour sa position pour l’Irak, Homme qui conférait la sympathie, Aux grands et aux petits.  Il a marqué l’histoire, Par sa trajectoire. Maire de Paris, Président enchéri,  Connu par son sourire, Admiré par les rois et les émirs. Son élection la seconde, A conforté la France et le monde.  En réduisant le septennat, En quinquennat. Lui le Général et le lieutenant. Il ne fut plus le revenant. Un homme chaleureux D’apparence il était heureux Il saluait tous les passants L’aborder c’est intéressant Il était toujours sur ses gardes La sympathie la sauvegarde Il était beau et charmant Le meilleur président du moment Au salon de l’agriculture, Son passage semait une autre culture. Il gouttait de tout, Etre solidaire avec les agriculteurs surtout. Il était un vrai homme de la politique, Charles de Gaulle à l’identique. A la fin de sa carrière Une passagère galère Le scandale des emplois fictifs A entaché son actif En gardant l’affectif Amoureux de la Corrèze Loin d’elle a eu le malaise Et a rendu l’âme Il a dit adieu à ceux qui le blâment Et ceux qui pour lui s’enflamment Un homme qui mérite le respect Souhaitant lui à l au-delàs la paix BELRHITI ALAOUI MUSTAFA 26/9/2019 TDR Révisé le 29/09/20204 41 commentaire\",\n",
       "  'Link': 'https://www.facebook.com/groups/1310860022374045/posts/3097291930397503/',\n",
       "  'Images': []},\n",
       " {'Name': 'Laurent TavelinTu es de Charny (89) quand…21 août',\n",
       "  'Date': '21 août',\n",
       "  'Content': ' …Paul II est reçut par le président français Jacques Chirac à l\\'occasions des 12es Journées mondiales de la jeunesse. - 1994 : Le commandant de bord du vol 630 Royal Air Maroc déconnecte le pilote automatique de l\\'ATR 42 qu\\'il doit conduire à Casablanca et fait volontairement s\\'écrasé l\\'appareil près d\\'Amskroud, tuant ainsi les 43 autres personnes à bord. - 1990 : Violent incendie de forêt dans le Var, les Alpes Maritimes et la Corse, qui dureront jusqu\\'au 25 août. - 1986 : Au Cameroun, 1 746 personnes sont tuées par des émanations de gaz toxiques d\\'origine volcanique aux alentours du lac de Nyos. - 1983 : Assassinat de l\\'opposant philippin Benigno Akuino. - 1959 : Hawaï devient le 50e Etat des USA. - 1957 : Lancement réussi de la première fusée soviétique \"R7\" de nos jours \"Semiorka\". - 1911 : Vol du tableau de la Joconde au Louvre par Vincenzo Peruggia, retrouvé le 12 décembre 1913 à  Florence en Italie. - 1609 : Galilée présente au doge de Venise sa lunette astronomique, considérée comme le premier télescope.   ➖➖➖➖➖➖➖➖➖➖➖➖➖➖➖➖ 21 Août 1950 : naissance de Patrick Juvet à Montreux (Suisse), compositeur chanteur suisse.21 218 commentaires',\n",
       "  'Link': 'https://www.facebook.com/groups/233123972270/posts/10157797687497271/',\n",
       "  'Images': ['https://scontent-cdg2-1.xx.fbcdn.net/v/t1.6435-9/cp0/c0.121.500.500a/s118x90/238999733_10224542377219303_3742500463986801980_n.jpg?_nc_cat=100&ccb=1-5&_nc_sid=825194&_nc_ohc=HMwaoGd4OMgAX9-x56g&_nc_oc=AQmV7hMUNSIDdZDZJVZ4TVEhmACKPHyzu3hemIPD5lJPJ1OvQyLXtVsbjRFV1J1ZHrs&_nc_ht=scontent-cdg2-1.xx&oh=3f4baf3fd66aa408d60084b54143d898&oe=6166535F']},\n",
       " {'Name': 'Notre France Hauts-de-Seine',\n",
       "  'Date': '19 avr',\n",
       "  'Content': \" …avec une très grande tristesse le décès d'un fidèle compagnon du gaullisme, Éric Raoult, vendredi 16 avril à l'âge de 65 ans à l'hôpital de Saint-Denis. Il fut notamment Vice-président de l'Assemblée Nationale, Ministre de la ville de 1995 à 1997 sous le Président Jacques Chirac, Député-maire du Raincy, Conseiller régional d'Ile de France et chef de la droite pour la Seine-Saint Denis pendant plusieurs décennies. Nous adressons nos très sincères condoléances à son épouse Corinne Raoult, qui le représente désormais au Conseil municipal du Raincy en tant que conseillère municipale ainsi qu'à tous ses proches.  Notre compagnon et délégué pour la première et la seconde circonscription de Seine-Saint-Denis, Jean-Pierre Renard, a organisé une messe dans sa commune de Pierrefitte-sur-Seine le dimanche 18 avril en hommage à notre compagnon Éric Raoult.  Les obsèques d'Éric Raoult auront lieu jeudi 22 avril à 10h30, à l’église Notre-Dame-de-la-Consolation au Raincy.1 1\",\n",
       "  'Link': 'https://www.facebook.com/NotreFranceHautsdeSeine/posts/800756900577685',\n",
       "  'Images': ['https://scontent-cdt1-1.xx.fbcdn.net/v/t1.6435-9/cp0/c19.0.90.90a/p118x90/175316223_800756867244355_9109478713812437684_n.jpg?_nc_cat=103&ccb=1-5&_nc_sid=730e14&_nc_ohc=Fxu0sRMnoYYAX8wtwE7&_nc_ht=scontent-cdt1-1.xx&oh=7480b49638983a75e7bb3fe6d3c83ef9&oe=616673F5']},\n",
       " {'Name': \"Pierre OndomboOWANDO PAMO'A NDZORO3 nov. 2020\",\n",
       "  'Date': ' nov 2020',\n",
       "  'Content': ' …PRÉSIDENT DE LA RÉPUBLIQUE POPULAIRE DU CONGO, JACQUES JOACHIM YHOMBY OPANGO.  EN REVANCHE JE NE DOIS DÉSORMAIS PLUS ASSISTER CETTE FRANCE POUR JACQUES CHIRAC. CE SONT TOUS DES HOMONYMES PAREILS: - ANCIEN PRÉSIDENT - ANCIEN PRÉSIDENT-.3 3',\n",
       "  'Link': 'https://www.facebook.com/groups/owandovillekouyou/posts/3714615945250678/',\n",
       "  'Images': []},\n",
       " {'Name': 'Julien Dagbert - Maire de Barlin',\n",
       "  'Date': '11 janv',\n",
       "  'Content': \" …J'apprends, ce soir, avec émotion le décès de Jacques VILLEDARY, ancien Maire de Noeux-Les-Mines, Conseiller Général, Président de la Communauté de Communes du Béthunois puis Président fondateur de la CCNE. Homme de terrain, homme politique de talent, engagé et visionnaire, il aura eu à gérer l'après mine et la reconversion de la ville de Noeux-Les-Mines, chère à son cœur d'homme de gauche. Jacques VILLEDARY restera pour beaucoup l'élu qui pris le pari fou de reconvertir un terril en piste de ski...Loisinord était né ! Pour moi et d'un regard plus personnel, il restera le maire combatif, militant et farouchement attaché à la justice sociale qui, alors que j'étais lycéen à Noeux-Les-Mines, n'a pas hésité un seul instant à soutenir publiquement et à accompagner notre mouvement contre le CPE de Jacques Chirac. Notre territoire perd aujourd'hui un ardent défenseur du bassin minier. À sa famille, ses proches et amis, je présente, en mon nom et en celui du conseil municipal, mes plus sincères condoléances.99 9941 commentaires\",\n",
       "  'Link': 'https://www.facebook.com/JulienDagbertMaire/posts/2791139794456317',\n",
       "  'Images': ['https://scontent-cdg2-1.xx.fbcdn.net/v/t1.6435-9/cp0/c0.104.654.654a/s118x90/137566763_2791139764456320_8173497255574921960_n.jpg?_nc_cat=102&ccb=1-5&_nc_sid=8bfeb9&_nc_ohc=t6wJeGh4NcwAX9IvtWJ&_nc_ht=scontent-cdg2-1.xx&oh=b858a67f5c9702f221381ccea934cf54&oe=61660550']}]"
      ]
     },
     "execution_count": 588,
     "metadata": {},
     "output_type": "execute_result"
    }
   ],
   "source": [
    "allPosts"
   ]
  },
  {
   "cell_type": "code",
   "execution_count": 598,
   "metadata": {},
   "outputs": [
    {
     "data": {
      "text/plain": [
       "['admin',\n",
       " 'config',\n",
       " 'crime_database',\n",
       " 'facebook_posts',\n",
       " 'local',\n",
       " 'mongo_TP1',\n",
       " 'test']"
      ]
     },
     "execution_count": 598,
     "metadata": {},
     "output_type": "execute_result"
    }
   ],
   "source": [
    "client.list_database_names()"
   ]
  },
  {
   "cell_type": "code",
   "execution_count": 600,
   "metadata": {
    "id": "aL6kirSf9Hh4"
   },
   "outputs": [],
   "source": [
    "# database\n",
    "db = client[\"facebook_posts\"]\n",
    "# collection\n",
    "posts= db[\"posts\"]"
   ]
  },
  {
   "cell_type": "code",
   "execution_count": 601,
   "metadata": {
    "id": "2LQcpcHe9Hh4",
    "scrolled": true
   },
   "outputs": [
    {
     "data": {
      "text/plain": [
       "<pymongo.results.InsertManyResult at 0x7f39786099b0>"
      ]
     },
     "execution_count": 601,
     "metadata": {},
     "output_type": "execute_result"
    }
   ],
   "source": [
    "posts.insert_many(allPosts)"
   ]
  },
  {
   "cell_type": "code",
   "execution_count": 602,
   "metadata": {},
   "outputs": [
    {
     "data": {
      "text/plain": [
       "['Ali Bongo Ondimba',\n",
       " 'Bruno Le Maire',\n",
       " 'Claude Brodin10 sept.',\n",
       " 'Daniel Marie-sainte10 sept.',\n",
       " 'FRANCE 24',\n",
       " 'Françoise Wogue26 août',\n",
       " 'Frederic de NatalInternational Monarchist Conference - Conférence Monarchiste Internationale27 sept. 2019',\n",
       " 'Hassane Cheikh14 juil.',\n",
       " 'Jacqueline Simonpassé présent.9 janv.',\n",
       " 'Jcb Alias Msgr DubosqDPLV et SMLH 1311 avr.',\n",
       " 'Jean Aimé MouketouLA RÉSISTANCE AUTOUR DE JEAN PING .9 juil.',\n",
       " 'Julien Dagbert - Maire de Barlin',\n",
       " 'Kader SdbObservatoire des HOUPHOUËTISTES Pour la Démocratie et la Paix30 juil. 2020',\n",
       " 'Kaline-Chipie CoolLE LONGAQUATIEN2 févr.',\n",
       " 'Karim Keïta',\n",
       " 'Karl Michel Mertens-von HohenbergLouis de Bourbon et la famille Royale de France .Duché de Bourbonnais.3 déc. 2020',\n",
       " 'Latifa Ibn Ziaten',\n",
       " 'Laurent TavelinTu es de Charny (89) quand…1 sept.',\n",
       " 'Laurent TavelinTu es de Charny (89) quand…11 sept.',\n",
       " 'Laurent TavelinTu es de Charny (89) quand…21 août',\n",
       " 'Laurent TavelinTu es de Charny (89) quand…25 août',\n",
       " 'Marie Ed la SambrienneMAUBEUGE & ENVIRONS AU FIL DU TEMPS COMMERÇANTS  ARTISANS FAITES VOTRE PUB.13 juin',\n",
       " 'Marie-George Buffet',\n",
       " 'Mustafa BelrhitiInspirations des Talents3 oct. 2020',\n",
       " 'Notre France Hauts-de-Seine',\n",
       " 'Pdci Bouake Delegation KokoAllons Pour le PDCI-RDA15 oct. 2020',\n",
       " 'Pdci Bouake Delegation Kokojeunesse Gouali Basile15 oct. 2020',\n",
       " \"Pierre OndomboOWANDO PAMO'A NDZORO3 nov. 2020\",\n",
       " 'Radio Avignon29\\xa0K personnes aiment ça\\u2009·\\u2009Entreprise locale3 juin',\n",
       " 'Radio Disney Club',\n",
       " 'Roch M.C. Kabore',\n",
       " 'Rodry Tsatyla force du changement AFC28 août 2020',\n",
       " 'Royautés,',\n",
       " 'Serge FontaineHOMMAGE A JOHNNY HALLYDAY29 sept. 2020',\n",
       " 'Yasmine SawadogoTIRS CROISÉS (Politique et Société)26 sept. 2019']"
      ]
     },
     "execution_count": 602,
     "metadata": {},
     "output_type": "execute_result"
    }
   ],
   "source": [
    "db.posts.distinct(\"Name\")"
   ]
  },
  {
   "cell_type": "code",
   "execution_count": 603,
   "metadata": {},
   "outputs": [
    {
     "data": {
      "text/plain": [
       "[' août 2020',\n",
       " ' déc 2020',\n",
       " ' nov 2020',\n",
       " ' oct 2020',\n",
       " '1 sept',\n",
       " '10 sept',\n",
       " '11 janv',\n",
       " '11 sept',\n",
       " '13 juin',\n",
       " '13 sept',\n",
       " '1311 avr',\n",
       " '14 juil',\n",
       " '19 avr',\n",
       " '2 févr',\n",
       " '21 août',\n",
       " '25 août',\n",
       " '26 août',\n",
       " '26 sept 2019',\n",
       " '27 sept 2019',\n",
       " '29 sept 2019',\n",
       " '29 sept 2020',\n",
       " '3 juin',\n",
       " '30 juil 2020',\n",
       " '30 sept 2019',\n",
       " '9 janv',\n",
       " '9 juil']"
      ]
     },
     "execution_count": 603,
     "metadata": {},
     "output_type": "execute_result"
    }
   ],
   "source": [
    "db.posts.distinct(\"Date\")"
   ]
  },
  {
   "cell_type": "code",
   "execution_count": 604,
   "metadata": {
    "scrolled": false
   },
   "outputs": [
    {
     "data": {
      "text/plain": [
       "[' 14 juillet 1999, quelques jours avant le décès du défunt Roi Hassan 2. Comme si il voulait dire adieu à son meilleurs ami, le défunt président Jacques CHIRAC. \\xa0 ·  Hassan2 et Chirac23 231 commentaire',\n",
       " \" C 'est la 1ere anniversaire du décès de Monsieur Le président Chirac Un Hommage est lui dédié à travers de ces deux poèmes  Hommage à Jacques Chirac Hommage à Jacques Chirac, Connu pour sa position pour l’Irak, Homme qui conférait la sympathie, Aux grands et aux petits.  Il a marqué l’histoire, Par sa trajectoire. Maire de Paris, Président enchéri,  Connu par son sourire, Admiré par les rois et les émirs. Son élection la seconde, A conforté la France et le monde.  En réduisant le septennat, En quinquennat. Lui le Général et le lieutenant. Il ne fut plus le revenant. Un homme chaleureux D’apparence il était heureux Il saluait tous les passants L’aborder c’est intéressant Il était toujours sur ses gardes La sympathie la sauvegarde Il était beau et charmant Le meilleur président du moment Au salon de l’agriculture, Son passage semait une autre culture. Il gouttait de tout, Etre solidaire avec les agriculteurs surtout. Il était un vrai homme de la politique, Charles de Gaulle à l’identique. A la fin de sa carrière Une passagère galère Le scandale des emplois fictifs A entaché son actif En gardant l’affectif Amoureux de la Corrèze Loin d’elle a eu le malaise Et a rendu l’âme Il a dit adieu à ceux qui le blâment Et ceux qui pour lui s’enflamment Un homme qui mérite le respect Souhaitant lui à l au-delàs la paix BELRHITI ALAOUI MUSTAFA 26/9/2019 TDR Révisé le 29/09/20204 41 commentaire\",\n",
       " \" Décès de l'ancien président français Jacques Chirac \\xa0 ·  🇫🇷 L’ancien président Jacques Chirac est décédé.\\nSuivez notre édition spéciale en direct ➡️ https://f24.my/5Z30.f1,3\\xa0K 1,3\\xa0K427 commentaires\",\n",
       " \" Décès du général Henri Marescaux (X63), directeur général de l’X de 1993 à 1997 Le général d’armée Henri Marescaux est mort le 1er avril dans sa soixante-dix-huitième année. Directeur général de l’École polytechnique de 1993 à 1997, il a contribué à sa modernisation et à son internationalisation. Il a fondé l’association Tamaris qui se consacre au soutien des personnes prostituées. Le directeur général de l'Ecole polytechnique, Henri Marescau, avec Janques Chirac lors des cérémonies du bicenteiare de l'X Henri Marescaux, directeur général de l'X de 1993 à 1997 avec Jacques Chirac, lors des cérémonies du bicentaire de l'X en 1994 Né en 1943 à Albertville (Savoie), Henri Marescaux intègre l’École polytechnique en 1963. Ancien élève de l’Ecole nationale des Ponts et Chaussées (70) et de l’Ecole de guerre (81), il commande le 19e régiment du génie à Besançon puis dirige l’École polytechnique de 1993 à 1997. Son mandat à la tête de l’X coïncide avec le bicentenaire de l’École qu’il contribue à moderniser et à internationaliser en étroite collaboration avec le président Pierre Faurre. Il a ainsi préparé la réforme de grande ampleur de l’École, dite « X2000 » qui prévoyait un recrutement plus diversifié des élèves français et étrangers, un renforcement des liens avec les grandes universités et écoles françaises et étrangères et une rénovation de la formation humaine et militaire avec des stages de terrains permettant aux polytechniciens de découvrir des milieux humains très divers. Cette réforme a aussi permis de développer la capacité de recherche à l’X et d’en valoriser les résultats. Après avoir créé le service d’architecture des systèmes de forces à la Direction générale de l’Armement, Henri Marescaux devient major général de l’armée de terre en 1999 assurant la transformation en profondeur de l’institution après l’arrêt du service national et la professionnalisation des armées. Il termine sa carrière militaire en 2002 avec le titre d’Inspecteur Général des Armées. Il est le fondateur de l’association Tamaris qui se consacre au service des personnes prostituées et accompagne plusieurs centaines d’entre elles pour sortir de la prostitution, notamment en leur proposant des cours de français et en les assistant dans les démarches administratives. En 2019, il publie un livre sur cette expérience, Les prostituées nous précèdent. Dans un entretien accordé à la Jaune & La Rouge en mars 2019, Henri Marescaux était revenu sur sa carrière militaire, ses années à la direction de l’Ecole polytechnique et sur son engagement associatif.8 82 commentaires\",\n",
       " ' Je viens d apprendre le décès du Président Jacques Chirac qui fût pour moi un adversaire politique respecté. Je garde en ce jour de deuil le souvenir du président qui a su dire non à  la guerre en Irak, de celui qui a permis à  la France de porter une voix singulière dans le conflit Israélo Palestinien. Je garde également le souvenir, lorsque j étais ministre de la jeunesse et des sports de son écoute et de son sincère attachement aux valeurs du sport .904 904102 commentaires',\n",
       " ' RAPPEL HISTORIQUE : À l’occasion du décès de la Présidente Lucette MICHAUX-CHEVRY, survenu le 9 septembre 2021, je lui rend hommage pour le rôle qu’elle a joué aux côtés du Président Alfred MARIE-JEANNE dans l’évolution institutionnelle de notre Pays Martinique qui a abouti à la mise en place de la Collectivité Territoriale de Martinique (CTM) en décembre 2015 ! En effet, grâce à la proximité politique qu’elle avait avec le Président de la République Française de l’époque, Jacques CHIRAC, elle a facilité sa rencontre avec les Présidents de Trois Régions (Guadeloupe, Guyane et Martinique) pour discuter des modifications des articles 73 et 74 de la Constitution de la République Française permettant de consulter les électeurs des « dernières colonies » sur les évolutions institutionnelles souhaitées par les élus. Cette rencontre fait suite à la publication de la « Déclaration de Basse-Terre du 1er décembre 1999 » signée par les trois Présidents de Région de Guadeloupe, de Guyane et de Martinique. Il faut reconnaitre que cette « Déclaration de Basse-Terre du 1er décembre 1999 » a été le point de départ d’un processus historique, qui en passant par les consultations populaires des 2003 et 2010, a abouti à la mise en place de la CTM en décembre 2015 ! Pour l’information complète, j’en publie le texte ci-dessous. Le 10 septembre 2021 Daniel MARIE-SAINTE Secrétaire National du MIM « Texte politique » Déclaration de Basse-Terre 1er décembre 1999 Les présidents des régions de Guadeloupe, Guyane, Martinique, réunis à Basse-Terre, le 1er décembre 1999 constatent :  • La dégradation continuelle depuis de nombreuses années de la situation de leurs régions, illustrée notamment par : 1. Une destruction systématique de l\\'initiative locale, 2. Un affaiblissement des filières productives, 3. La déstabilisation financière des collectivités, 4. Un assistanat généralisé, 5. Un taux de chômage croissant (en moyenne 30%).- Le développement rapide des dérives sociales, destructrices pour leurs sociétés et en particulier pour les jeunes générations dont les perspectives d\\'emploi apparaissent de plus en plus aléatoires. • L\\'impossibilité de mettre un terme à cette situation avec les moyens actuels qui leur sont dévolus dans le cadre de leurs compétences, malgré des efforts financiers importants des collectivités territoriales| et les concours de l\\'État et de l\\'Union européenne. • L\\'inadéquation d\\'un dispositif fiscal et social conçu pour un pays développé et appliqué à des régions en retard de développement. Considérant les résultats obtenus par les autres régions ultrapériphériques| (Açores, Canaries, Madère) en matière de développement et de progrès social, décident d\\'unir leurs efforts afin de bâtir un projet de développement économique social et culturel impliquant la prise en compte des identités propres à chaque région et basé sur l\\'évidence que la dignité procède du travail et non de l\\'assistanat.  Ce projet doit encourager la créativité et l\\'émergence d\\'activités productives afin de mettre un terme au développement d\\'une « société de consommation ». Ce projet doit également rompre avec le cycle infernal de l’« emploi assisté » pour favoriser la création et le développement d\\'entreprises, orienter les jeunes vers les métiers à forte plus value, réaménager les formations vers les secteurs à forte potentialité. Cela suppose aussi, un partenariat actif avec le secteur socioprofessionnel, qui doit participer à une nouvelle économie qui ne se réfère pas exclusivement à l\\'aide publique.  Les présidents, conscients de la volonté de leur population de mieux maîtriser son devenir, affirment solennellement leur engagement à exposer et expliquer leur projet, afin de recueillir, après consultation, son adhésion. En conséquence, les présidents des trois régions proposeront au Président de la République et au gouvernement, une modification législative voire constitutionnelle, visant à créer un statut nouveau de région d\\'Outre-mer doté d\\'un régime fiscal et social spécial pour la Guadeloupe, la Guyane et la Martinique, dans le cadre de la République française d\\'une part, et de l\\'Union européenne d\\'autre part (article 299-2 du traité d\\'Amsterdam).  Les présidents des régions de Guadeloupe, Guyane et Martinique réunis à Basse-Terre le 1er décembre 1999 ont pour leur part ouvert le débat, défini les thèmes et proposé les orientations de ce chantier d\\'avenir, dans le respect des idéologies de chacun.\" Signé Par Alfred MARIE-JEANNE, Président du Conseil Régional de la Martinique Par Lucette MICHAUX-CHEVRY, Présidente du Conseil Régional de la Guadeloupe Par Antoine KARAM, Président du Ronseil Régional de la Guyane78 7825 commentaires',\n",
       " \" …: SAR Diana, Princesse de Galles, le président d'Irlande Patrick Hillery, les épouses des présidents français et américain, Danielle Mitterrand et Nancy Reagan, et nombre de ses amis comme l'acteur Cary Grant ... etc • Le 21 septembre 1982, SAS la Princesse Grace est enterrée dans l'abside de la Cathédrale Notre-Dame de l’Immaculée de Monaco, à Monaco-Ville. • Au cours de ses années à Monaco, SAS la Princesse Grace a su donné un éclat particulier au Rocher avec la tenue de grandes soirées de gala ... de son aura, elle a redoré la Principauté de Monaco. La Princesse Grace était aussi très active dans le domaine caritatif notamment au sein de l’AMADE (l’association mondiale des amis de l’enfance). • Le 6 avril 2005 : décès de SAS le Prince souverain Rainier III de Monaco au centre cardio-thoracique où il était hospitalisé depuis le 7 mars . Son fils, le Prince héréditaire Albert devient SAS le Prince souverain Albert II de Monaco. • La messe de funérailles de SAS le Prince Rainier III a lieu le vendredi 15 avril 2005 en la Cathédrale Notre-Dame de l’Immaculée de Monaco, en présence de 800 personnes, dont le président français Jacques Chirac, SM le Roi Juan Carlos d'Espagne, Monseigneur et Madame la Comtesse de Paris, Duc et Duchesse de France ... et de beaucoup d’autres personnalités. Il est inhumé dans la soirée au côté de son épouse bien aimée, la Princesse Grace.  R.I.P. 🙏🏻 Copyright@Veronique Beaumel+41136 13613 commentaires\",\n",
       " \" …DE CLAUDINE MUNARI. Comprendre qui était le Président Pr Pascal Lissouba, son combat politique, pourquoi et comment la France et Jacques Chirac ont ils tué la démocratie au Congo-Brazzaville, chassé un président démocratiquement élu par un coup d'état militaire, pour ramener le Despote criminel Sassou Nguesso au pouvoir.Publication de Christian Perrin JriDÉCÈS DU PR PASCAL LISSOUBA, UN TÉMOIGNAGE DE CLAUDINE MUNARI.\\n\\nComprendre qui était le Président Pr Pascal Lissouba, son combat politique, pourquoi et comment la France et Jacques Chirac ont ils tué la démocratie au Congo-Brazzaville, chassé un président démocratiquement élu par un coup d'état militaire, pour ramener le Despote criminel Sassou Nguesso au pouvoir.2 2\",\n",
       " \" …FORMIDABLE »   (Roch Kaboré, président du Faso)  Le président du Faso Roch Kaboré a réagi au décès jeudi de l’ancien président français Jacques Chirac (1995-2007) et premier ministre (1974-1976, 1986-1988).  « Je viens d'apprendre avec tristesse le décès de l'ancien Président Français Jacques Chirac. Avec sa disparition, l'Afrique perd un ami et un partenaire formidable. Je présente mes sincères condoléances à sa famille, au peuple français et Emmanuel Macron », a-t-il écrit sur son compte twitter. Source: Radio Omega173 173101 commentaires\",\n",
       " \" …Giscard d’Estaing. Lors du dernier conseil municipal d’Amiens, le 28 janvier 2021, sur proposition de Brigitte Fouré, les élus ont voté à l’unanimité la dénomination de l’avenue Valéry Giscard D’Estaing, en remplacement de la voie « Boulevard Ambroise Paré » située entre la rue de Rouen et la rue du Professeur Christian Cabrol. Suite au récent décès de Valéry Giscard d’Estaing, la Ville d’Amiens a souhaité honorer la mémoire d’un ancien Président de la République Française en lui attribuant le nom à l’une des artères de la Ville comme récemment pour François Mitterrand et Jacques Chirac.Publication de Amiens Métropole - Ville d'Amiens[ #Inauguration 🔴 ] Amiens : inauguration de l’avenue Valéry Giscard D’Estaing\\n\\nLe dévoilement de la plaque portant le nom de Valéry Giscard D’estaing  par Brigitte Fouré, Maire d’Amiens et Alain Gest, Président d’Amiens Métropole s'est déroulée ce mardi 2 février 2021 à 11h en présence de l’un des fils de l’ancien Président de la République, Louis Giscard d’Estaing.\\n\\nLors du dernier conseil municipal d’Amiens, le 28 janvier 2021, sur proposition de Brigitte Fouré, les élus ont voté à l’unanimité la dénomination de l’avenue Valéry Giscard D’Estaing, en remplacement de la voie « Boulevard Ambroise Paré » située entre la rue de Rouen et la rue du Professeur Christian Cabrol.\\n\\nSuite au récent décès de Valéry Giscard d’Estaing, la Ville d’Amiens a souhaité honorer la mémoire d’un ancien Président de la République Française en lui attribuant le nom à l’une des artères de la Ville comme récemment pour François Mitterrand et Jacques Chirac.5 51 commentaire\",\n",
       " \" …J'apprends, ce soir, avec émotion le décès de Jacques VILLEDARY, ancien Maire de Noeux-Les-Mines, Conseiller Général, Président de la Communauté de Communes du Béthunois puis Président fondateur de la CCNE. Homme de terrain, homme politique de talent, engagé et visionnaire, il aura eu à gérer l'après mine et la reconversion de la ville de Noeux-Les-Mines, chère à son cœur d'homme de gauche. Jacques VILLEDARY restera pour beaucoup l'élu qui pris le pari fou de reconvertir un terril en piste de ski...Loisinord était né ! Pour moi et d'un regard plus personnel, il restera le maire combatif, militant et farouchement attaché à la justice sociale qui, alors que j'étais lycéen à Noeux-Les-Mines, n'a pas hésité un seul instant à soutenir publiquement et à accompagner notre mouvement contre le CPE de Jacques Chirac. Notre territoire perd aujourd'hui un ardent défenseur du bassin minier. À sa famille, ses proches et amis, je présente, en mon nom et en celui du conseil municipal, mes plus sincères condoléances.99 9941 commentaires\",\n",
       " ' …PRÉSIDENT DE LA RÉPUBLIQUE POPULAIRE DU CONGO, JACQUES JOACHIM YHOMBY OPANGO.  EN REVANCHE JE NE DOIS DÉSORMAIS PLUS ASSISTER CETTE FRANCE POUR JACQUES CHIRAC. CE SONT TOUS DES HOMONYMES PAREILS: - ANCIEN PRÉSIDENT - ANCIEN PRÉSIDENT-.3 3',\n",
       " ' …Page, actrice américaine. 13-06-1995 : Jacques Chirac annonce la reprise des essais nucléaires français. 13-06-1998 : Le navigateur français Eric Tabarly disparaît en mer au large du Pays de Galles.2 26 commentaires',\n",
       " ' …Paul II est reçut par le président français Jacques Chirac à l\\'occasions des 12es Journées mondiales de la jeunesse. - 1994 : Le commandant de bord du vol 630 Royal Air Maroc déconnecte le pilote automatique de l\\'ATR 42 qu\\'il doit conduire à Casablanca et fait volontairement s\\'écrasé l\\'appareil près d\\'Amskroud, tuant ainsi les 43 autres personnes à bord. - 1990 : Violent incendie de forêt dans le Var, les Alpes Maritimes et la Corse, qui dureront jusqu\\'au 25 août. - 1986 : Au Cameroun, 1 746 personnes sont tuées par des émanations de gaz toxiques d\\'origine volcanique aux alentours du lac de Nyos. - 1983 : Assassinat de l\\'opposant philippin Benigno Akuino. - 1959 : Hawaï devient le 50e Etat des USA. - 1957 : Lancement réussi de la première fusée soviétique \"R7\" de nos jours \"Semiorka\". - 1911 : Vol du tableau de la Joconde au Louvre par Vincenzo Peruggia, retrouvé le 12 décembre 1913 à  Florence en Italie. - 1609 : Galilée présente au doge de Venise sa lunette astronomique, considérée comme le premier télescope.   ➖➖➖➖➖➖➖➖➖➖➖➖➖➖➖➖ 21 Août 1950 : naissance de Patrick Juvet à Montreux (Suisse), compositeur chanteur suisse.21 218 commentaires',\n",
       " ' …après la rencontre entre le président français M. Emmanuel MACRON et le président du Niger, M. Mohamed BAZOUM. Dr Jean Aimé Mouketou, animateur de l\\'émission \"Heure De Vérité. ■■■■■■■■■■■■■■■■■■■ Rendez-vous Médiatique... Sur Radio et Télévision DENYIGBAN (CHICAGO),  La Chaîne YOUTUBE Dr Mouketou Reçoit – Émission  Heure De  Vérité... Invité exceptionnel: Ancien Premier ministre Jean Eyhéghé-Ndong. Thème: Jean EYEGHE-NDONG: du Premier ministre de l\\'oraison funèbre de juin 2009 jusqu\\'à l\\'opposant radical de 2021. Heure: 14H30-16H30 (CHICAGO), 20H30-22H30 (LIBREVILLE) -  21H30-23H30 (PARIS),  19H30 GMT. Notre invité Jean EYEGHE-NDONG est entré dans l\\'Histoire en juin 2009 lorsqu\\'il a présenté en que tant que dernier Premier du défunt Président Omar BONGO-ONDIMBA, une éloge funèbre sans concession... et devant un parterre de chefs d’État dont le président français Nicolas SARKOZY et son prédécesseur Jacques CHIRAC.  Tout le monde se souvient de l\\'image biblique qu\\'il a alors utilisé... M. Jean EYEGHE-NDONG a été aussi plusieurs ministre dont ministre du Budget, co-fondateur de l\\'Union nationale (un parti d\\'opposition gabnaise), Sénateur gabonais jusqu\\'en 2018. Il est également membre éminent de la famille du premier président de la République, M. Léon MBA. C\\'est ce dimanche 11 juillet 2021 sur Radio et Télévision DENYIGBAN et la Chaîne Youtube Dr Mouketou Reçoit - Emission Heure De Vérité...est retransmise en direct sur les pages Facebook du Dr Jean Aimé Mouketou – Emission Heure de Vérité ainsi que celle de Radio et  Télévision DENYIGBAN. L\\'émission sera retransmise en différé sur la Radio Afrique.com Etats-Unis. A nos auditeurs, grand merci encore pour votre fidélité depuis plus de plus de 11 ans.67 678 commentaires',\n",
       " \" …avec une très grande tristesse le décès d'un fidèle compagnon du gaullisme, Éric Raoult, vendredi 16 avril à l'âge de 65 ans à l'hôpital de Saint-Denis. Il fut notamment Vice-président de l'Assemblée Nationale, Ministre de la ville de 1995 à 1997 sous le Président Jacques Chirac, Député-maire du Raincy, Conseiller régional d'Ile de France et chef de la droite pour la Seine-Saint Denis pendant plusieurs décennies. Nous adressons nos très sincères condoléances à son épouse Corinne Raoult, qui le représente désormais au Conseil municipal du Raincy en tant que conseillère municipale ainsi qu'à tous ses proches.  Notre compagnon et délégué pour la première et la seconde circonscription de Seine-Saint-Denis, Jean-Pierre Renard, a organisé une messe dans sa commune de Pierrefitte-sur-Seine le dimanche 18 avril en hommage à notre compagnon Éric Raoult.  Les obsèques d'Éric Raoult auront lieu jeudi 22 avril à 10h30, à l’église Notre-Dame-de-la-Consolation au Raincy.1 1\",\n",
       " ' …beaucoup de tristesse que j\\'ai appris le décès ce jour de l\\'ancien président de la République française, Jacques Chirac.  Jacques Chirac était un grand ami, fidèle et loyal, du Gabon. Un amoureux sincère de l\\'Afrique.  Il a été pour moi un père spirituel dont je n\\'oublierai jamais la bienveillance. \"Ce qui fait la force, ça n\\'est pas le pouvoir, c\\'est le vouloir\", aimait-il à répéter. Je garderai à jamais en mémoire l\\'image d\\'un homme, d\\'un homme d\\'Etat profondément humaniste qui, toute sa vie, aura été un pont entre les peuples, entre les civilisations. Au nom du peuple gabonais, je présente à toute sa famille et au peuple français mes plus sincères condoléances. Puisse ce grand homme, qui a marqué l\\'Histoire politique contemporaine, désormais reposer en paix.1,1\\xa0K 1,1\\xa0K206 commentaires',\n",
       " ' …de discipline. Quelques petites années avant le décès de mon père adoptif, grand fanatique du Sphinx de Daoukro, il me racontait une merveilleuse histoire. Je ne mesurais vraiment pas la portée de son histoire, mais aujourd\\'hui je me rends compte que les vieux n\\'ont pas d\\'egaux.  En effet, papa me disait qu\\'en 1992, lors d\\'une réunion, le président Félix Houphouët-Boigny a confié trois héritages à son dauphin constitutionnel, son héritier Politique le président HKB. D\\'abord le PDCI-RDA, secondo l\\'unité de la Nation Ivoirienne et le troisième Héritage qui demeurait un secret d\\'État. Mon père ajouta que des sachants savaient et aussi le président Jacques Chirac le savait et le transmettrait à toutes les générations de présidents Français qui lui accorderaient une estime royale malgré son jeune âge. Ce troisième Héritage était comme la prunelle des yeux du \"Sage d\\'Afrique\" à l\\'instar de tout bon grand-père.   Et, le président Henri Konan Bédié avait pour devoir de protéger, de garantir ces trois héritages sans oublier le grand prix international qui porte le nom du Père fondateur. On pourrait même dire que ce prix est un quatrième Héritage puisque le Sphinx de Daoukro en est le garant depuis son décès.  Le président HKB a bien respecté les recommandations d\\'un homme de la dimension de Félix Houphouët-Boigny, et a veillé à ce que et le PDCI-RDA et l\\'unité de la Côte d\\'Ivoire et le troisième Héritage et le prix Félix Houphouët-Boigny, ne soient jamais vandalisés. C\\'est le coup d\\'Etat de 1999 qui est venu effondrer cette unité tant conservée par le Sphinx de Daoukro, jusqu\\'à présent. Et, nous en souffrons toujours. Sinon les autres héritages ont jusque là été bien conservés. Le PDCI-RDA va à merveille, le prix Félix Houphouët-Boigny va aussi bien malgré les multiples tentatives de désacralisation. Le troisième Héritage également va bien même si  certains aventuriers ont tenté de se l\\'approprier.  Nous nous souvenons qu\\'en 1994, alors qu\\'il avait 28 ans le président Henri Konan Bédié à ses côtés un premier ministre comme Daniel Kablan Duncan le nomme jusqu\\'en 2000 ministre du plan et du développement, puis à partir de 1998, Président du Conseil d\\'administration du Bureau d\\'études en lui confiant la relance des mythiques chantiers de l\\'éléphant d\\'Afrique sous l\\'impulsion de Jean-Michel Moulot alors ministre des infrastructures économiques, chantiers qui aujourd\\'hui deviennent frauduleusement l\\'oeuvre des aventuriers fossoyeurs sans état d\\'âme. Mais, tant que l\\'esprit du père fondateur de la Côte d\\'Ivoire moderne planera sur notre Nation, tous ces héritages atteindront leur point de chute au nom puissant du Dieu des catholiques qu\\'a tant promu le \"Sage d\\'Afrique\", au nom puissant du Dieu d\\'Israël, terre sainte où une chapelle respire la pleine forme actuellement et bâtie par le \"Vieux\".  Dans mon dernier livre intitulé \"L\\'âge d\\'or de N\\'ZUEBA\" (inédit) aux Nouveau réveil éditions, Abidjan, et préfacé par M. Nestor KOFFI, Inspecteur du PDCI-RDA, j\\'ai souligné ce facteur divin de la couverture de l\\'esprit du président Henri Konan Bédié sur la surface totale de la Nation Ivoirienne. Esprit oint par le Dieu que servait avec ferveur son père spirituel le président Félix Houphouët-Boigny. Prions tous pour la Côte d\\'Ivoire. Une nouvelle lumière s\\'apprête à s\\'y allumer. Un nouveau vent s\\'apprête à s\\'y souffler. Un espoir nouveau est à l\\'aube. Atisons bien le feu du crépuscule. #Seulsles initiés comme moi comprendront mes lignes. On revient  de loin... #HKB forever...14 148 commentaires',\n",
       " ' …de discipline. Quelques petites années avant le décès de mon père adoptif, grand fanatique du Sphinx de Daoukro, il me racontait une merveilleuse histoire. Je ne mesurais vraiment pas la portée de son histoire, mais aujourd\\'hui je me rends compte que les vieux n\\'ont pas d\\'egaux.  En effet, papa me disait qu\\'en 1992, lors d\\'une réunion, le président Félix Houphouët-Boigny a confié trois héritages à son dauphin constitutionnel, son héritier Politique le président HKB. D\\'abord le PDCI-RDA, secondo l\\'unité de la Nation Ivoirienne et le troisième Héritage qui demeurait un secret d\\'État. Mon père ajouta que des sachants savaient et aussi le président Jacques Chirac le savait et le transmettrait à toutes les générations de présidents Français qui lui accorderaient une estime royale malgré son jeune âge. Ce troisième Héritage était comme la prunelle des yeux du \"Sage d\\'Afrique\" à l\\'instar de tout bon grand-père.   Et, le président Henri Konan Bédié avait pour devoir de protéger, de garantir ces trois héritages sans oublier le grand prix international qui porte le nom du Père fondateur. On pourrait même dire que ce prix est un quatrième Héritage puisque le Sphinx de Daoukro en est le garant depuis son décès.  Le président HKB a bien respecté les recommandations d\\'un homme de la dimension de Félix Houphouët-Boigny, et a veillé à ce que et le PDCI-RDA et l\\'unité de la Côte d\\'Ivoire et le troisième Héritage et le prix Félix Houphouët-Boigny, ne soient jamais vandalisés. C\\'est le coup d\\'Etat de 1999 qui est venu effondrer cette unité tant conservée par le Sphinx de Daoukro, jusqu\\'à présent. Et, nous en souffrons toujours. Sinon les autres héritages ont jusque là été bien conservés. Le PDCI-RDA va à merveille, le prix Félix Houphouët-Boigny va aussi bien malgré les multiples tentatives de désacralisation. Le troisième Héritage également va bien même si  certains aventuriers ont tenté de se l\\'approprier.  Nous nous souvenons qu\\'en 1994, alors qu\\'il avait 28 ans le président Henri Konan Bédié à ses côtés un premier ministre comme Daniel Kablan Duncan le nomme jusqu\\'en 2000 ministre du plan et du développement, puis à partir de 1998, Président du Conseil d\\'administration du Bureau d\\'études en lui confiant la relance des mythiques chantiers de l\\'éléphant d\\'Afrique sous l\\'impulsion de Patrick Achi alors ministre des infrastructures économiques, chantiers qui aujourd\\'hui deviennent frauduleusement l\\'oeuvre des aventuriers fossoyeurs sans état d\\'âme. Mais, tant que l\\'esprit du père fondateur de la Côte d\\'Ivoire moderne planera sur notre Nation, tous ces héritages atteindront leur point de chute au nom puissant du Dieu des catholiques qu\\'a tant promu le \"Sage d\\'Afrique\", au nom puissant du Dieu d\\'Israël, terre sainte où une chapelle respire la pleine forme actuellement et bâtie par le \"Vieux\".  Dans mon dernier livre intitulé \"L\\'âge d\\'or de N\\'ZUEBA\" (inédit) aux Nouveau réveil éditions, Abidjan, et préfacé par M. Nestor KOFFI, Inspecteur du PDCI-RDA, j\\'ai souligné ce facteur divin de la couverture de l\\'esprit du président Henri Konan Bédié sur la surface totale de la Nation Ivoirienne. Esprit oint par le Dieu que servait avec ferveur son père spirituel le président Félix Houphouët-Boigny. Prions tous pour la Côte d\\'Ivoire. Une nouvelle lumière s\\'apprête à s\\'y allumer. Un nouveau vent s\\'apprête à s\\'y souffler. Un espoir nouveau est à l\\'aube. Atisons bien le feu du crépuscule. #Seulsles initiés comme moi comprendront mes lignes. On revient  de loin... #HKB forever...55 556 commentaires',\n",
       " \" …de la Défense, également proche du président Ouattara, prend la tête de la primature pour succéder au défunt Amadou Gon Coulibaly. Après le décès soudain du Premier ministre et candidat du parti au pouvoir à l'élection présidentielle d'octobre, Amadou Gon Coulibaly, intervenu le 8 juillet dernier, Alassane Ouattara a choisi de remettre les clés de la primature à Hamed Bakayoko, 55 ans, qui en assurait l'intérim depuis près de deux mois. « Le président de la République a procédé à la signature d'un décret portant nomination de M. Hamed Bakayoko en qualité de Premier ministre », tout en conservant le portefeuille de la Défense, selon un communiqué de la présidence publié ce jeudi 30 juillet. Son nom avait circulé comme présidentiable, avant la désignation en mars d'Amadou Gon Coulibaly comme candidat du parti au pouvoir pour la présidentielle d'octobre en Côte d'Ivoire. Mais qui est-il vraiment et de quelle marge de manœuvre dispose-t-il, alors que la Côte d'Ivoire est entrée dans une période d'incertitude. Hamed Bakayoko, un ex-homme de médias Du haut de son mètre quatre-vingt-neuf, l'ancien journaliste et homme d'affaires Hamed Bakayoko est devenu en une décennie un acteur politique incontournable : ministre d'État, ministre de l'Intérieur en 2011 puis de la Défense depuis 2017 et depuis deux ans maire d'Abobo, l'une des deux communes les plus peuplées d'Abidjan et de Côte d'Ivoire. Mais il y a vingt ans en arrière, Hamed Bakayoko était un heureux dirigeant de médias, Le Patriote, Radio Nostalgie ou encore Nostalgie Afrique. C'est en 2011 qu'« Hambak », comme le surnomment les Ivoiriens, fait son entrée en politique. Il est nommé ministre des Nouvelles Technologies, de l'Information et de la Communication (NTIC) dans un contexte sécuritaire ultrasensible. Les accords de Linas-Marcoussis (du nom d'une petite agglomération de la région parisienne) venaient d'être signés en France sous l'égide de Jacques Chirac et Laurent Gbagbo et un gouvernement de réconciliation nationale devait être constitué. Alors que Hamed Bakayoko est membre du RDR, le Rassemblement des républicains, il entretient d'excellentes relations avec l'opposition et surtout Guillaume Soro, qui insiste pour qu'il entre au gouvernement. Il reste à son poste de mars 2003 à avril 2011. Hamed Bakayoko, un enfant d'Adjamé Et pourtant, rien ne le prédestinait à une telle carrière. Hamed Bakayoko est né dans le quartier d'Habitat-Extension, dans la commune d'Adjamé. Sa famille est pieuse et conservatrice, descendant d'érudits musulmans connus de la famille d'El-Hadji Moussa Bakayoko, celui-là même qui, selon la légende, fonda la ville de Koro, dans le nord-ouest de la Côte d'Ivoire. Élevé par son père veuf avec son frère et ses deux sœurs, Hamed Bakayoko part dès la fin du lycée pour le Burkina Faso afin d'y étudier la médecine. Il n'ira pas au bout, car à Ouaga ce mélomane amoureux des rythmes ivoiriens et habitué des clubs s'éveille à la politique, découvre Thomas Sankara et les discours de lutte. Hamed Bakayoko, un parcours de militant À son retour à Abidjan, il commence à militer au sein du Mouvement des étudiants et élèves de Côte d'Ivoire (MEECI), un syndicat proche du PDCI-RDA (Rassemblement démocratique africain). Ce qui lui donne l'idée de fonder dans ces années 90 le mouvement de la Jeunesse estudiantine et scolaire du PDCI (JESPDCI). Qu'à cela ne tienne, pourquoi ne pas fonder un journal. Hamed Bakayoko lance Le Patriote, qui se veut proche d'Houphouët-Boigny et du PDCI. Le Vieux n'y est pas sensible et Hamed Bakayoko décide de se mettre au service de la défense du Premier ministre de Félix Houphouët-Boigny, Alassane Ouattara. Il vient de lancer avec Djéni Kobina le Rassemblement des Républicains (RDR) et Le Patriote en devient son organe de presse. Mais Henri Konan Bédié, grand rival d'Ouattara, ne digère pas l'un des courriers de lecteur lui portant atteinte. Bakayoko est envoyé en détention à la Maca, à Abidjan, pour quatre mois et seize jours. Un tournant : la rencontre avec Dominique Ouattara Après sa sortie, il se lance en radio avant de faire la rencontre de celle qui deviendra la première dame de Côte d'Ivoire, Dominique Ouattara, qui investit dans son média. Depuis cette époque, une relation de confiance s'est installée entre les deux hommes qui se sont rapprochés au fil des années. Au point que lorsque le 11 avril 2011, Laurent Gbagbo est finalement arrêté dans sa résidence de Cocody par les Forces républicaines de Côte d'Ivoire (FRCI), Alassane Ouattara désigne Hamed Bakayoko pour assurer la protection de l'ancien président à l'hôtel du Golf. Marié à la très discrète Yolande Bakayoko depuis plus de vingt ans, franc-maçon et grand maître de la Grande Loge de Côte d'Ivoire, Hamed Bakayoko est aujourd'hui une personnalité de poids au sein de la machine Ouattara. Dans tous les cas, il est un rouage indispensable pour la prochaine élection présidentielle. Alassane Ouattara devrait vraisemblablement se représenter au scrutin présidentiel pour un troisième mandat, mais il a annoncé différer sa décision, mercredi, devant le conseil politique de son parti, le RHDP à Abidjan.55 553 commentaires\",\n",
       " ' …de retour de Rodez que j’ai appris le décès du président Jacques Chirac. Il aimait ce département de l’Aveyron, comme il aimait tous les départements ruraux, dont il avait la force et la simplicité. J’avais 29 ans quand j’ai commencé à travailler à ses côtés et, au moment si triste de sa mort, les souvenirs se bousculent. Pourquoi, comme tant de Français, ai-je aimé Jacques Chirac ? Je l’ai aimé pour ses mots lors de mon premier Salon de l’Agriculture en 2009 quand, pressé de questions par les journalistes sur sa passion pour le monde agricole, il avait répondu, déjà fatigué par la maladie : « J’aime l’agriculture, parce que l’agriculture, c’est la vie. » Je l’ai aimé pour sa voix quand, jeune directeur de cabinet de Dominique de Villepin à Matignon, il m’appelait chaque matin à huit heures précises, avec cette intonation si douce et si rauque : « Le Maire ? C’est Chirac. » J’ai aimé Jacques Chirac pour sa constance à dire non aux extrêmes, à toutes les forces de haine et de mépris qui, elles, hélas, ne meurent jamais. J’ai aimé Jacques Chirac pour sa détermination à faire obstacle au projet fou de guerre en Irak, en 2003, qui lui a valu tant de reproches et de critiques et à laquelle l’histoire a rendu hommage. Je l’ai vu s’interroger longuement sur un choix qui mettait la France en travers des décisions de son premier allié, les Etats-Unis. Mais jamais il n’a fléchi. Jamais il n’a cédé. Jacques Chirac savait que l’humiliation des peuples attise les violences. Il savait que la guerre, dont il détenait le pouvoir comme chef des armées, ne pouvait être que le dernier et ultime recours, quand tous les autres ont été épuisés. Je l’ai aimé simplement pour sa main, qui savait prendre la vôtre avec chaleur. Je l’ai aimé pour cet appel téléphonique un soir de Noël, quand après une année de travail harassante il avait tenu à me joindre dans une vallée des Alpes pour me remercier avec ces mots si simples : « Je suis désolé du temps que j’ai pris à vos enfants. » Maintenant, en juste retour, je voudrais dire à sa femme Bernadette, à sa fille Claude, à l’heure où Jacques Chirac pour la seule fois de sa vie abandonne les Français, que leur père a fait honneur à la France, à sa grandeur, à sa vocation universelle et que je suis fier de l’avoir servi.2,9\\xa0K 2,9\\xa0K267 commentaires',\n",
       " \" …de son décès) en présence du Président de la République Jacques Chirac, du Chancelier de l'Ordre de la Libération Jean Simon et du maire de Paris Jean Tiberi. D’une hauteur de 3,6 mètres reposant sur un piédestal faisant à lui seul 3,8 m, la statue du général de Gaulle est à la hauteur du grand homme qu’il représente dans le cœur de tous les français. C’est au sculpteur français Jean Cardot (1930-….) que le jury de sélection a confié la réalisation de ce monument. C’est aussi Jean Cardot qui a réalisé les statues de Winston Churchill, que l'on retrouve quelques mètres plus loin, avenue Winston-Churchill, près du Petit Palais ainsi que celle de Thomas Jefferson à côté de la passerelle de Solférino, devant le musée d'Orsay. Le jury avait toutefois donné des consignes très précises au sculpteur sélectionné pour représenter le général. Il devait « traduire l’élan qui portait le général de Gaulle descendant les Champs-Élysées le jour du 26 août 1944, sa force, sa détermination, sa hauteur de vue mais aussi le sentiment de plénitude et de joie qui l’habitait et le faisait rayonner parmi ses compagnons et devant une foule en liesse. » On peut dire que le mandat a été assez bien respecté. Sur le socle sont gravées des phrases de ce grand homme d’État : « Il y a un pacte vingt fois séculaire entre la grandeur de la France et la liberté du monde » ainsi qu’un extrait du célèbre discours du Général à l’Hôtel de Ville le 26 août 1944 « Paris, Paris outragé, Paris brisé, Paris martyrisé, mais Paris libéré… ».+31 1\",\n",
       " ' …french throne regarding the death of President Jacques Chirac : \"The Count of Paris has all his life assumed in fidelity the legacy of the royal family of France, without departing from respect for the institutions of the Republic.\" I do not forget the sincere tribute that President Jacques Chirac gave to my grandfather on the day of his death. I had the opportunity to meet him several times, especially during the Capetian Millennium. I keep  of the man, a certain picture of France, and a stature that made honor to our country. My loving thoughts are with his family, especially his wife, present at my wedding and my grandma\\'s faithful friend.la-couronne.orgCommuniqué de Monseigneur le comte de Paris suite au décès du président Jacques Chirac - Le blog de La Couronne30 301 commentaire',\n",
       " \" …l'Allemagne. - 1976 : Démission de Jacques Chirac du poste de Premier ministre de Giscard d'Estaing. Il est remplacé par Raymond Barre. - 1973 : Deux co-princes d'Andorre (le Président Pompidou et l'évêque d'Urgel) se rencontrent pour la première fois depuis 700 ans. - 1960 : Ouverture des 17e Jeux Olympique à Rome. ➖➖➖➖➖➖➖➖➖➖➖➖➖➖➖➖➖➖ 25 Août 1970 : naissance de Claudia Schiffer à Rhrinberg (Allemagne), mannequin. Elle aura marquée son époque !16 164 commentaires\",\n",
       " \" …les élections législatives de 1986. Jacques Chirac de vient premier ministre. C’est la première cohabitation. En 1988, il est réélu président de la République face à Jacques Chirac. Son second mandat est marqué par l'engagement militaire de la France dans la  1ère [guerre du Golfe](https://fr.wikipedia.org/wiki/Guerre_du_Golfe), par l'adoption du traité de Maastricht , par la [deuxième cohabitation](https://fr.wikipedia.org/wiki/Deuxi%C3%A8me_cohabitation) (avec  [Édouard Balladur](https://fr.wikipedia.org/wiki/%C3%89douard_Balladur) ). Sa popularité déclineavecdes révélations sur son passé et  ses relations jamais rompues avec René Bousquet. Atteint d'un [cancer de la prostate](https://fr.wikipedia.org/wiki/Cancer_de_la_prostate) diagnostiqué dès 1981, il meurt quelques mois après son départ de l'Élysée. Seul président à avoir effectué deux [septennats](https://fr.wikipedia.org/wiki/Septennat) complets, François Mitterrand détient le record de longévité à la présidence de la République française.8 853 commentaires\",\n",
       " ' …national est décidé par le Président de la République. \"L’hommage national est une cérémonie destinée aux militaires morts pour la France, même si certaines personnalités civiles au destin exceptionnel ont été honorées après leur décès\", selon la définition du gouvernement. Très formelle, cette cérémonie se déroule soit aux Invalides, soit au Panthéon. Elle doit également être annoncée au Journal Officiel.  Lors d\\'un hommage national, le président de la République prononce un éloge funèbre devant le cercueil du défunt, orné d\\'un drapeau bleu-blanc-rouge. Alors que les hommages nationaux aux Invalides étaient réservés aux militaires, Jacques Chirac a décidé en 1997 d\\'ouvrir cet honneur aux personnalités civiles : le commandant Cousteau a ainsi été le premier à bénéficier d\\'un hommage national. Depuis, plusieurs personnalités civiles ont reçu un hommage dan ce lieu, comme l\\'Abbé Pierre(2007), Stéphane Hessel (2013), ou plus récemment Jean d\\'Ormesson (2017) et Charles Aznavour (2018). Plusieurs personnalités politiques, dont Jacques Chaban-Delmas (2000), Pierre Mauroy (2013) ou encore Simone Veil (2017), y ont également eu le droit. Les victimes des attentats du 13 novembre 2015 ont été les premières personnalités civiles anonymes à en bénéficier.  Les derniers hommages nationaux rendus aux Invalides sous le quinquennat d\\'Emmanuel Macron ont été ceux du gendarme Arnaud Beltrame (2018), des 13 soldats tués au Mali (2019) et du journaliste et écrivain Jean Daniel (2020), avant le résistant Daniel Cordier en novembre 2020. La cérémonie pour Samuel Paty (professeur assassiné par un terroriste en octobre 2020) s\\'est-elle déroulée dans la Cour de la Sorbonne, pour mettre à l\\'honneur la profession d\\'enseignant. Un hommage national aux Invalides est par ailleurs prévu début 2022 pour Gisèle Halimi.  Dont acte4 44 commentaires',\n",
       " ' …que nous apprenons aujourd’hui le décès du président Jacques Chirac. Nous rendons hommage aujourd’hui à l’homme qui nous a réuni autour de notre passion pour Disneyland Paris.1,1\\xa0K 1,1\\xa0K23 commentaires',\n",
       " ' …son décès. Invité d’honneur du Président français Jacques Chirac, le défunt Roi assistait au défilé du 14 juillet 1999. C’était « l’année du Maroc » en France. A l’image des troupes de la Garde Royale descendant les Champs-Elysées au son de la Marche Verte, lors du traditionnel défilé militaire organisé chaque année, pour la fête nationale française, s’associait l’image d’un Roi fier de sa Garde, héritière d’une longue tradition militaire Un bel hommage rendu aux troupes marocaines qui avaient participé à la libération de l’Hexagone en 1945. C’était alors la deuxième fois, depuis la création du défilé, qu’un contingent étranger autonome participait à la parade militaire.6 63 commentaires',\n",
       " ' …suite au décès de l’ancien président Jacques Chirac. Avec sa disparition, c’est une page du gaullisme qui se referme.694 694100 commentaires',\n",
       " ' …suite au décès de l’ancien président Jacques Chirac. Qu’il repose en paix! @FranceauMali+41,4\\xa0K 1,4\\xa0K152 commentaires',\n",
       " \" …une grande tristesse que j'ai appris le décès du président Jacques Chirac. La France vient de perdre un grand homme d’État, que j’admirais et respectais profondément pour son humanité et son attachement à des valeurs qui sont également les miennes. Homme de culture et homme de coeur, Jacques Chirac faisait partie de nos soutiens de la première heure. Je l’aimais beaucoup et ne l’oublierai jamais. Mes pensées émues vont à sa famille et à ses proches.1\\xa0K 1\\xa0K60 commentaires\",\n",
       " \" …une grande tristesse que nous apprenons le décès du Président Valéry Giscard d’Estaing, des suites du Covid 19. Nous saluons  sa mémoire et présentons nos condoléances à sa famille. Qu’il repose dans la paix de Dieu et que brille sur lui la lumière sans déclin. L'ancien président de la République de 1974 à 1981 avait été hospitalisé à Tours le 17 novembre dernier pour «une insuffisance cardiaque». Il s'est éteint à l'âge de 94 ans, entouré des siens. La France a perdu un homme d’État et de lettres, et l’Auvergne, un défenseur intraitable de son identité, de son caractère et de son patrimoine. Pour l’Auvergne, Valéry Giscard d’Estaing restera pour toujours un visionnaire. L'ancien président de la République Valéry Giscard d'Estaing est décédé ce mercredi soir à l'âge de 94 ans dans son château d’Authon, a annoncé son entourage. Il s'est éteint «entouré de sa famille» dans sa propriété d'Authon dans le Loir-et-Cher. Il est mort «des suites du Covid» a ensuite précisé sa famille. L'ancien chef de l'État avait été admis dans «le service de cardiologie» de l'hôpital de Tours le 17 novembre dernier pour «une insuffisance cardiaque» , avait alors indiqué son entourage. En septembre, l'ancien chef de l'État avait déjà été hospitalisé à l'hôpital Georges Pompidou, à Paris, pour «une légère infection aux poumons». Il avait déjà été hospitalisé à plusieurs reprises à l'hôpital Georges Pompidou il y a quelques années, en cardiologie pour la pose de stents. Plus jeune président de la Vème République lorsqu'il est élu en 1974, Valéry Giscard d'Estaing avait fait l'une de ses dernières apparitions publiques le 30 septembre 2019 lors des obsèques à Paris d'un autre président de la République, Jacques Chirac, qui fut son premier ministre de 1974 à 1976. Né le 2 février 1926 à Coblence, où son père Edmond Giscard d’Estaing était en poste durant l’occupation de la Rhénanie par les forces françaises. Il fait ses études à l’école Gerson, puis aux lycées Janson-de-Sailly et Louis-le-Grand à Paris, et Blaise Pascal à Clermont-Ferrand. À dix-huit ans, il s’engage dans la Première Armée française (campagne 1944-1945) où il est décoré de la croix de guerre. Reçu aux concours de l’École polytechnique, puis de l’École nationale d’administration, il entre dans le corps de l’inspection générale des Finances en 1952 où il poursuit une carrière administrative jusqu’en 1956. Il est élu député à l’Assemblée nationale en 1956, puis nommé ministre des Finances et des Affaires économiques entre 1961 et 1974, sous les présidences du général de Gaulle et de Georges Pompidou. Il exerce la fonction de président de la République de 1974 à 1981. Depuis 1981, il consacre ses activités au service de la région d’Auvergne, qu’il a présidée jusqu'en 2004, et de ses convictions européennes. En 2001, il est nommé président de la Convention européenne chargée d »élaborer une constitution pour l’Europe. Il siège au Conseil Constitutionnel dont il est, à vie, membre de droit. De nombreuses universités lui ont décerné un doctorat honoris causa. Depuis 1995, il est membre de la Real Academia de Ciencias Economicas y Financieras (Espagne). En 2001, il a reçu la médaille d’or de la Fondation Jean Monnet pour l’Europe, et en 2002 le prix Charlemagne décerné par la ville d’Aix-la-Chapelle, et en 2006, avec Helmut Schmidt, le prix De Gaulle-Adenauer à Berlin. Il a été élu, en avril 2006, membre associé de l’Académie Royale de Belgique. Il a été élu à l’Académie française, le 11 décembre 2003, au fauteuil de Léopold Sédar Senghor (16e fauteuil), et reçu le 16 décembre 2004 par Jean-Marie Rouart. Avec Louis Mertens369 369175 commentaires\",\n",
       " ' …vous,  j’ai été attristé par le décès de ce grand homme qu’était Jacques Chirac. Alors à ma manière j’ai voulu lui rendre hommage. Comme vous le savez, Jacques Chirac et Johnny avaient l’un pour l’autre une affection toute particulière. Alors j’ai pris ma plume et j’ai adapté une chanson du Boss « Merci » que j’ai intitulée « Merci Mr. le président » J’espère que ça vous plaira. Bises et merci à tous.  Et n’oubliez pas de partager si ça vous a plu!!!Publication de Serge FontaineCoucou les amis, tout comme une majorité d’entre vous, \\nj’ai été attristé par le décès de ce grand homme qu’était Jacques Chirac. Alors à ma manière j’ai voulu lui rendre hommage. Comme vous le savez, Jacques Chirac et Johnny avaient l’un pour l’autre une affection toute particulière. Alors j’ai pris ma plume et j’ai adapté une chanson du Boss « Merci » que j’ai intitulée « Merci Mr. le président » J’espère que ça vous plaira. Bises et merci à tous. \\nEt n’oubliez pas de partager si ça vous a plu!!!9 93 partages',\n",
       " ' …📍 Nous fêtons les : • Adelphe 📍 Le dicton du jour :  - \"En septembre si trois jours il tonne, c\\'est un nouveau bail pour l\\'automne\". 📍 Ils sont nés à cette date : - 1963 : naissance de Serge Hazanavicius à Paris, comédien et acteur français. \"Le bonheur est dans le pré\" en 1995 - \"Il y a longtemps que je t\\'aime\" en 2008.. - 1939 : naissance de Alain Giletti, ancien patineur artistique français, dix fois champion de France, cinq fois champion d\\'Europe et champion du monde en (1960). - 1935 : naissance Monseigneur Jacques Gaillot à St Dizier (Haute Marne) est un prélat catholique français. Evêque d\\'Evreux de 1982 à 1995. - 1926 : naissance de Monique Lange, écrivain française.    (morte le 7 octobre 1996). - 1925 : naissance de Gérard Darrieu à Arnicourt (Ardennes), acteur français \"Signé Arsène Lupin\" en 1959 - \"L\\'affaire Dominici\" en 1973..   (mort le 22 janvier 2004). - 1923 : naissance de Henri Lancelot dit Hubert Lancelot à Lyon (Rhône), chanteur français. Il était chargé des rapports de tournée et de l’organisation du groupe, au sein des (Compagnons de la chanson).   (mort le 8 mars 1995) à Paris. - 1903 : naissance de Jean Aurenche à Pierrelatte (Drôme), scénariste et un dialoguiste. Auteur du scénario de presque 80 films. Films notables - \"Jeux interdits\" en 1952 - \"Les Orgueilleux\" en 1953 - \"La Traversée de Paris\" en 1956 - \"Que la fête commence\" en 1975....   (mort le 29 septembre 1992) à Bandol (Var). 📍 Ils nous ont quitté ce jour là :  - 2020 : décès de Roger Blancharel, dit Roger Carel à Aigre (Charente), comédien français, sa personnalité majeure est le doublage de voix, comme \"Astérix\" - \"Winnie l\\'ourson\" - \"Kermit la grenouille\" - \"Benny Hill\" - \"Hercule Poirot\"..   (né le 14 août 1927) à Paris. - 2016 : décès de Claude Nahon dit Claude-Jean Philippe à Paris, auteur de livres sur le cinéma, essayiste et diariste, réalisateur et producteur de télévision, auteur de nombreux documentaires, ainsi qu\\'un homme de radio. Il était également, à l\\'occasion, scénariste ou acteur.   (né le 20 avril 1933) à Tanger (Maroc). - 2013 : décès de Albert Jacquard à Paris chercheur et essayiste français. Auteur de nombreux ouvrages de vulgarisation scientifique, président d\\'honneur de l\\'association Droit au logement. Spécialiste de génétique des populations. Il est également connu pour ses engagements citoyens parmi lequel la langue internationale espéranto.    (né le 23 décembre 1925) à Lyon. 📍 Les événements liés à cette date :  - 2006 : Ouverture à Paris du procès des faux électeurs dans le IIIe arrondissement, après 17 ans d\\'instruction pour le \"trucage\" des scrutins municipaux de 1989 et 1995. L\\'affaire aurait été orchestrée, selon l\\'accusation, par le RPR et Jacques Dominati, proche de Jacques Chirac. - 2002 : Démission de Michel Bon, président de France Télécom. - 2001 : Attentats terroristes aux Etats Unis, deux Boeing s\\'encastrent dans les tours jumelles du WTC qui s\\'effondrent, un 3e appareil sur le Pentagone et un 4e dans la campagne près  de Somerset, qui fait plus de 3 000 morts. - 1998 : Bill Clinton présente ses excuses à Monica Lewinsky. - 1992 : François Mitterrand hospitalisé pour une opération de la prostate - 1982 : Crash d\\'un hélicoptère militaire américain en Allemagne 46 morts parmi lesquels des parachutistes français. - 1978 : Sortie de l’album musical Starmania, de Michel Berger et Luc Plamondon. ➖➖➖➖➖➖➖➖➖➖➖➖➖➖➖➖➖➖ On a tous le souvenir de cette journée dramatique du 11 septembre 2001. 20 ans et le  souvenir reste 😭44 4410 commentaires',\n",
       " ' …📍 Nous fêtons les : • Gilles 📍 Le dicton du jour :  - \"S\\'il fait beau à la Saint-Gilles, cela durera jusqu\\'à la Saint-Michel\". 📍 Ils sont nés à cette date : - 1986 : naissance de Gaël Monfils à Paris, joueur de tennis professionnel français. Vainqueur en simple de cinq tournois du circuit ATP. - 1974 : naissance de Filip Nikolic à St Ouen (Seine-Saint-Denis) chanteur et acteur français. Leader des Boys Band du groupe 2Be3 \"Partir un jour\" 1996..   (mort le 16 septembre 2009). - 1971 : naissance de Virgile Bayle à Valence (Drôme), acteur français, connu pour son rôle du docteur Guillaume Leserman dans \"Plus belle la vie\". - 1971 : naissance de Lamia, dite Lââm à Paris, chanteuse de pop et de RnB. - 1966 : naissance de Thierry Campion, dit Cris Campion à Versailles, acteur français. \"Pirates\" en 1986 - \"Champ d\\'honneur\" en 1987.. - 1965 : naissance de Paule Marchand, dite paulette, qui vous accueille à la maison France services ! 😂 Allez lui faire un petit coucou. . .   - 1946 : naissance de Barry Alan Cromton Gibb Obe, chanteur, musicien et producteur. Avec ses frères Robin et Maurice, il a créé le groupe de musique \"Bee Gees\". - 1930 : naissance de Michel Serres à Agen, philosophe et historien des sciences français. Il est élu à l\\'Académie française en 1990.   (mort le 1er juin 2019). - 1896 : naissance de André Hunebelle à Meudon (Hauts-de-Seine), réalisateur français. \"Cadet Rousselle\" en 1954 - \"Le bossu\" en 1959 - \"Le capitain\" en 1960 - \"Fantômas\" (trilogie)..   (mort le 27 novembre 1985) à Nice (Alpes-Maritimes). - 1887 : naissance de Frédéric Louis Sauser dit Blaise Cendrars, écrivain français d\\'origine suisse. Grand Prix littéraire de la ville de Paris.   (mort le 21 janvier 1961) à Paris. - 1524 : naissance de Pierre de Ronsard, écrivain et poète français surnommé \"le prince des poètes\".   (mort le 27 décembre 1585). 📍 Ils nous ont quitté ce jour là : - 2003 : décès de Jack Smight, réalisateur américain \"Colombo\"..   (né le 9 mars 1925). - 1986 : décès de Murray Hamilton, à Washington, en Caroline du Nord (Etats-Unis), acteur américain. Films notables - \"Les Dents de la mer\" (1) en 1975 - \"Les Dents de la mer\" (2) en 1978..   (né le 24 mars 1923) à Washington, en Caroline du Nord (Etats-Unis). - 1981 : décès de Dorothy Walton Gatley dite Ann Harding, à Los Angeles — Quartier de Sherman Oaks en Californie (Etats-Unis), actrice américaine. Films notables - \"The Animal Kingdom\" en 1932 - \"Peter Ibbetson\" en 1935 - \"L\\'Étoile du Nord\" en 1943 - \"L\\'Homme au complet gris\" en 1956.. Séries télévisées - \"Alfred Hitchcock présente\" en 1961 - \"L\\'Homme à la Rolls\" en 1963..   (née le 7 août 1902) à San Antonio dans le Texas (Etats-Unis). - 1970 : décès de François Mauriac, académicien, écrivain et journaliste français.    📍 Les événements liés à cette date : - 2008 : La première pièce de 5 euros en argent est mise en circulation et il sera possible de réserver la pièce de 100 euros en or. Si la première sera éditée à 2 millions d\\'exemplaires, seuls 15 000 exemplaires de la seconde existeront. - 2001 : Arrivée de la monnaie  euros dans les banques européennes. - 1999 : Jacques Chirac, président de la République, décore de la Légion d\\'honneur l\\'équipe de France championne du monde de football ainsi que son entraîneur. - 1992 : Un tsunami provoque la mort d\\'une centaine de personnes au Nicaragua. - 1985 : Première image retransmise par le sous-marin Argo du paquebot Titanic disparu dans la nuit du 14 au 15 avril 1912. - 1983 : Dans la nuit du 31 août au 1er septembre l\\'aviation de chasse soviétique abat un Boeing sud-coréen (269 morts). - 1974 : Premières cartes à puces inventées par le français Roland Moreno mises sur le marché. - 1968 : Un séisme en Iran provoque la mort de 11 000 personnes. - 1951 : Jean Vilar devient directeur du Théâtre national populaire. - 1950 : Le droit de vote est retiré aux opposants du régime en Roumanie. - 1949 : Fondation de la première communauté d\\'Emmaüs. L\\'Abbé Pierre accueille dans sa maison de Neuilly-Plaisance Georges Legay, qui deviendra le premier compagnon d\\'Emmaüs. - 1948 : En France une loi est promulguée pour les loyers. - 1941 : Les nazis obligent les Juifs à porter l\\'étoile jaune. - 1939 : Hitler envahit la Pologne, provoquant la Seconde guerre mondiale. - 1923 : Japon - les ville de Tokyo et Yokohama sont détruites par un tremblement de terre qui fait plus de 142 000 morts et 100 000 blessés. ➖➖➖➖➖➖➖➖➖➖➖➖➖➖➖➖➖➖ 1er septembre 1971 : naissance de Lamia, dite Lââm à Paris, chanteuse de pop et de RnB.30 3023 commentaires']"
      ]
     },
     "execution_count": 604,
     "metadata": {},
     "output_type": "execute_result"
    }
   ],
   "source": [
    "db.posts.distinct(\"Content\")"
   ]
  },
  {
   "cell_type": "code",
   "execution_count": 605,
   "metadata": {
    "scrolled": true
   },
   "outputs": [
    {
     "data": {
      "text/plain": [
       "['https://www.facebook.com/BoutronRomain/posts/123990909523055',\n",
       " 'https://www.facebook.com/FRANCE24/posts/10157122109541936',\n",
       " 'https://www.facebook.com/Fiertedogon/posts/1268789306818892',\n",
       " 'https://www.facebook.com/JulienDagbertMaire/posts/2791139794456317',\n",
       " 'https://www.facebook.com/KarimKeita.ML/posts/2717611924936718',\n",
       " 'https://www.facebook.com/NotreFranceHautsdeSeine/posts/800756900577685',\n",
       " 'https://www.facebook.com/RTIinfo225/posts/774441316326061',\n",
       " 'https://www.facebook.com/RadioAvignon/posts/2925642944357630',\n",
       " 'https://www.facebook.com/RadioDisneyClubFr/posts/10157564835759776',\n",
       " 'https://www.facebook.com/RochKaborePF/posts/552099752262515',\n",
       " 'https://www.facebook.com/Rumeursdabidjan/posts/2709890319076853',\n",
       " 'https://www.facebook.com/alibongoondimba/posts/2601115466576286',\n",
       " 'https://www.facebook.com/blm27/posts/2633081830089213',\n",
       " 'https://www.facebook.com/claude.brodin/posts/1698445520351062',\n",
       " 'https://www.facebook.com/daniel.mariesainte.1/posts/10226912596829818',\n",
       " 'https://www.facebook.com/francoise.wogue/posts/5063645363651631',\n",
       " 'https://www.facebook.com/geraldine.mbargamboa/posts/2437591203052538',\n",
       " 'https://www.facebook.com/groups/1106123682880384/posts/1695092053983541/',\n",
       " 'https://www.facebook.com/groups/122051314817422/posts/1448354295520444/',\n",
       " 'https://www.facebook.com/groups/1279872995450717/posts/3060677770703555/',\n",
       " 'https://www.facebook.com/groups/1310860022374045/posts/3097291930397503/',\n",
       " 'https://www.facebook.com/groups/171896570167643/posts/811207152903245/',\n",
       " 'https://www.facebook.com/groups/2066092363611852/posts/2671087783112304/',\n",
       " 'https://www.facebook.com/groups/233123972270/posts/10157506144212271/',\n",
       " 'https://www.facebook.com/groups/233123972270/posts/10157506144372271/',\n",
       " 'https://www.facebook.com/groups/233123972270/posts/10157571275832271/',\n",
       " 'https://www.facebook.com/groups/233123972270/posts/10157602431837271/',\n",
       " 'https://www.facebook.com/groups/233123972270/posts/10157602432257271/',\n",
       " 'https://www.facebook.com/groups/233123972270/posts/10157625140932271/',\n",
       " 'https://www.facebook.com/groups/233123972270/posts/10157662537907271/',\n",
       " 'https://www.facebook.com/groups/233123972270/posts/10157662542672271/',\n",
       " 'https://www.facebook.com/groups/233123972270/posts/10157743431152271/',\n",
       " 'https://www.facebook.com/groups/233123972270/posts/10157797687497271/',\n",
       " 'https://www.facebook.com/groups/233123972270/posts/10157815762392271/',\n",
       " 'https://www.facebook.com/groups/233123972270/posts/10157830368347271/',\n",
       " 'https://www.facebook.com/groups/233123972270/posts/10157839302572271/',\n",
       " 'https://www.facebook.com/groups/268977024710371/posts/314411340166939/',\n",
       " 'https://www.facebook.com/groups/288871558347280/posts/795587644342333/',\n",
       " 'https://www.facebook.com/groups/353294355653892/posts/488159308834062/',\n",
       " 'https://www.facebook.com/groups/364559504811272/posts/448182813115607/',\n",
       " 'https://www.facebook.com/groups/512625839860554/posts/518120235977781/',\n",
       " 'https://www.facebook.com/groups/593301324104866/posts/2763463547088622/',\n",
       " 'https://www.facebook.com/groups/658922417856213/posts/1124749221273528/',\n",
       " 'https://www.facebook.com/groups/662501607828327/posts/907031813375304/',\n",
       " 'https://www.facebook.com/groups/743027719236497/posts/1515213095351285/',\n",
       " 'https://www.facebook.com/groups/872451916563695/posts/956373178171568/',\n",
       " 'https://www.facebook.com/groups/942246765831635/posts/2580206165369012/',\n",
       " 'https://www.facebook.com/groups/982622851772348/posts/3820748027959802/',\n",
       " 'https://www.facebook.com/groups/Arab.Union.for.Culture/posts/3451489398241721/',\n",
       " 'https://www.facebook.com/groups/WWW.DPLV.BOUCHESDURHONE/posts/2890113831309352/',\n",
       " 'https://www.facebook.com/groups/coeurs.d.ecrivains/posts/1093113001106011/',\n",
       " 'https://www.facebook.com/groups/francoismitterrand.2022/posts/10157697394473945/',\n",
       " 'https://www.facebook.com/groups/monarchiste/posts/10157067434939902/',\n",
       " 'https://www.facebook.com/groups/owandovillekouyou/posts/3714615945250678/',\n",
       " 'https://www.facebook.com/hassane.cheikh.52/posts/493013988460300',\n",
       " 'https://www.facebook.com/julien.vuillemard.5/posts/10159264825249684',\n",
       " 'https://www.facebook.com/mohand.bouali/posts/3613863358677702',\n",
       " 'https://www.facebook.com/parti.nicois/posts/1478345129181302',\n",
       " 'https://www.facebook.com/permalink.php?story_fbid=1458518481193219&id=100011052423075',\n",
       " 'https://www.facebook.com/permalink.php?story_fbid=1677825862349319&id=249557185176201',\n",
       " 'https://www.facebook.com/permalink.php?story_fbid=2213124715481673&id=301800386614125',\n",
       " 'https://www.facebook.com/permalink.php?story_fbid=2528062793907066&id=782231121823584',\n",
       " 'https://www.facebook.com/permalink.php?story_fbid=340585527792587&id=101484851702657',\n",
       " 'https://www.facebook.com/romioyoo/photos/a.436602276528418/1146159955572643/',\n",
       " 'https://www.facebook.com/yhijnk/posts/3320163724690564']"
      ]
     },
     "execution_count": 605,
     "metadata": {},
     "output_type": "execute_result"
    }
   ],
   "source": [
    "db.posts.distinct(\"Link\")"
   ]
  },
  {
   "cell_type": "code",
   "execution_count": 606,
   "metadata": {},
   "outputs": [
    {
     "data": {
      "text/plain": [
       "['https://scontent-cdg2-1.xx.fbcdn.net/v/t1.6435-9/cp0/c0.104.654.654a/s118x90/137566763_2791139764456320_8173497255574921960_n.jpg?_nc_cat=102&ccb=1-5&_nc_sid=8bfeb9&_nc_ohc=t6wJeGh4NcwAX9IvtWJ&_nc_ht=scontent-cdg2-1.xx&oh=b858a67f5c9702f221381ccea934cf54&oe=61660550',\n",
       " 'https://scontent-cdg2-1.xx.fbcdn.net/v/t1.6435-9/cp0/c0.114.614.614a/s118x90/71219800_10157564835719776_8872926435195486208_n.jpg?_nc_cat=104&ccb=1-5&_nc_sid=8bfeb9&_nc_ohc=g3aKWBNaZVcAX958rqo&_nc_ht=scontent-cdg2-1.xx&oh=7f55f9ea965a6f0e47ca798302903d9d&oe=6168D8FA',\n",
       " 'https://scontent-cdg2-1.xx.fbcdn.net/v/t1.6435-9/cp0/c0.121.500.500a/s118x90/238999733_10224542377219303_3742500463986801980_n.jpg?_nc_cat=100&ccb=1-5&_nc_sid=825194&_nc_ohc=HMwaoGd4OMgAX9-x56g&_nc_oc=AQmV7hMUNSIDdZDZJVZ4TVEhmACKPHyzu3hemIPD5lJPJ1OvQyLXtVsbjRFV1J1ZHrs&_nc_ht=scontent-cdg2-1.xx&oh=3f4baf3fd66aa408d60084b54143d898&oe=6166535F',\n",
       " 'https://scontent-cdg2-1.xx.fbcdn.net/v/t1.6435-9/cp0/c0.26.320.320a/s118x90/241756928_340583347792805_5049373376467962057_n.jpg?_nc_cat=100&ccb=1-5&_nc_sid=8bfeb9&_nc_ohc=Xj0l6p97I9MAX-CRJuJ&_nc_ht=scontent-cdg2-1.xx&oh=dc76637a5b0bbd465edbfe0bf30af1f8&oe=6165EC4D',\n",
       " 'https://scontent-cdg2-1.xx.fbcdn.net/v/t1.6435-9/cp0/c0.29.371.371a/s118x90/217420496_493013881793644_1750195072002994205_n.jpg?_nc_cat=111&ccb=1-5&_nc_sid=8bfeb9&_nc_ohc=Pj3UJKfrHOIAX9F9dLt&_nc_ht=scontent-cdg2-1.xx&oh=e313a0e39f6325351a36bac0906d3bc2&oe=6167B66C',\n",
       " 'https://scontent-cdg2-1.xx.fbcdn.net/v/t1.6435-9/cp0/c0.32.460.460a/s118x90/241777618_340585171125956_5329068163012050211_n.jpg?_nc_cat=107&ccb=1-5&_nc_sid=8bfeb9&_nc_ohc=-fLYTu44hPwAX_BOmNa&_nc_ht=scontent-cdg2-1.xx&oh=b72c31f1ff0401bd72531867e82066d9&oe=616992DB',\n",
       " 'https://scontent-cdg2-1.xx.fbcdn.net/v/t1.6435-9/cp0/c0.60.400.400a/s118x90/241775335_340583367792803_4447332626814072542_n.jpg?_nc_cat=104&ccb=1-5&_nc_sid=8bfeb9&_nc_ohc=ON1OH-4bcfcAX-8iyHY&_nc_ht=scontent-cdg2-1.xx&oh=d9ee91a4d2bf17cb56310919cc5fd977&oe=616707AA',\n",
       " 'https://scontent-cdg2-1.xx.fbcdn.net/v/t1.6435-9/cp0/c0.67.397.397a/s118x90/128829764_1063389114110211_2242424673519954365_n.jpg?_nc_cat=111&ccb=1-5&_nc_sid=825194&_nc_ohc=U3nrHz7QzqIAX94JHM7&_nc_ht=scontent-cdg2-1.xx&oh=eb6b6a199ac04c46ff44e8a47800d5c7&oe=616876CD',\n",
       " 'https://scontent-cdg2-1.xx.fbcdn.net/v/t1.6435-9/cp0/c0.79.720.720a/s118x90/240819893_5063633110319523_8515967854883150859_n.jpg?_nc_cat=104&ccb=1-5&_nc_sid=8bfeb9&_nc_ohc=kT4SM38XB-UAX8H4RRW&_nc_oc=AQmn1BfESU_2gyr-92JKpMOrt2jyVBOEeQ-5PC6cU0Ie5PnHEMqcEDCWa27GcW5TlkI&_nc_ht=scontent-cdg2-1.xx&oh=775e3927d31e434c72a4af854c35289b&oe=61670443',\n",
       " 'https://scontent-cdg2-1.xx.fbcdn.net/v/t1.6435-9/cp0/c17.0.90.90a/p118x90/71094585_2633067436757319_4632677559417438208_n.jpg?_nc_cat=107&ccb=1-5&_nc_sid=730e14&_nc_ohc=MJoTIX9ha3EAX_J6vlj&_nc_oc=AQlGqNERXyL_3T5gpG-D9qMCs_bgSlq04D-kyerbCS5f-g-2kXD8-OetuEUxWSnNraE&_nc_ht=scontent-cdg2-1.xx&oh=570ff34f2b8086eb4026f137820b2026&oe=61683D09',\n",
       " 'https://scontent-cdg2-1.xx.fbcdn.net/v/t1.6435-9/cp0/c23.0.90.90a/p118x90/146115262_2386233338187891_2727681902426436555_n.jpg?_nc_cat=108&ccb=1-5&_nc_sid=730e14&_nc_ohc=lLRo1IcfpyIAX9JccYs&_nc_ht=scontent-cdg2-1.xx&oh=06eb95ccc72e680b7783670fc1011b6d&oe=6168BB04',\n",
       " 'https://scontent-cdg2-1.xx.fbcdn.net/v/t1.6435-9/cp0/c23.0.90.90a/p118x90/71820638_552099605595863_7141731259704672256_n.jpg?_nc_cat=104&ccb=1-5&_nc_sid=8bfeb9&_nc_ohc=nKP4OacC5DsAX9u-CEs&_nc_ht=scontent-cdg2-1.xx&oh=19d18fee5606a32d98d6904cd1f38756&oe=61664E4E',\n",
       " 'https://scontent-cdg2-1.xx.fbcdn.net/v/t1.6435-9/cp0/c23.0.90.90a/p118x90/71944052_2717611488270095_4895148993765441536_n.jpg?_nc_cat=104&ccb=1-5&_nc_sid=8bfeb9&_nc_ohc=fEGlo3jLF2sAX_aImc5&_nc_ht=scontent-cdg2-1.xx&oh=d788fd9eb059106b8c1d6fe5a9060465&oe=6167785E',\n",
       " 'https://scontent-cdg2-1.xx.fbcdn.net/v/t1.6435-9/cp0/c35.0.705.705a/s118x90/116344746_925792117918171_8946253413338979790_n.jpg?_nc_cat=108&ccb=1-5&_nc_sid=825194&_nc_ohc=HCzvwmWlshMAX9AMRyp&_nc_ht=scontent-cdg2-1.xx&oh=2ce5548c4be0e6146fce2792deb55ca6&oe=6167EFE0',\n",
       " 'https://scontent-cdg2-1.xx.fbcdn.net/v/t1.6435-9/cp0/c41.0.90.90a/p118x90/198915469_332186765139640_6334569672804627975_n.jpg?_nc_cat=111&ccb=1-5&_nc_sid=825194&_nc_ohc=GMQHgD5sKwkAX9JRo3X&_nc_ht=scontent-cdg2-1.xx&oh=f2acfad26fa0844550527ce9260e7496&oe=61698338',\n",
       " 'https://scontent-cdg2-1.xx.fbcdn.net/v/t1.6435-9/cp0/c65.0.831.831a/s118x90/71144976_2717611894936721_9085138832260595712_n.jpg?_nc_cat=100&ccb=1-5&_nc_sid=8bfeb9&_nc_ohc=eEKmBT25KKoAX9W1lpM&_nc_ht=scontent-cdg2-1.xx&oh=76021172ca11a386e1eee42daabcf9ac&oe=616842D7',\n",
       " 'https://scontent-cdg2-1.xx.fbcdn.net/v/t15.5256-10/cp0/c20.0.90.90a/p118x90/183428050_515625123123533_398837517470640494_n.jpg?_nc_cat=100&ccb=1-5&_nc_sid=ad6a45&_nc_ohc=MbOVvTEfkjcAX-Js3OT&_nc_ht=scontent-cdg2-1.xx&oh=2daf6ab8e565132972f6df659bb3c9c1&oe=614733DC',\n",
       " 'https://scontent-cdt1-1.xx.fbcdn.net/v/t1.6435-9/cp0/c0.48.456.456a/s118x90/238829617_10224567002354916_6545917939121843123_n.jpg?_nc_cat=101&ccb=1-5&_nc_sid=825194&_nc_ohc=hloy47uweeoAX-jQWhr&_nc_ht=scontent-cdt1-1.xx&oh=4412137e54887c6f55c84f1ba5c9c173&oe=61686C46',\n",
       " 'https://scontent-cdt1-1.xx.fbcdn.net/v/t1.6435-9/cp0/c0.67.480.480a/s118x90/121587731_647038002873538_2481928886670518103_n.jpg?_nc_cat=109&ccb=1-5&_nc_sid=825194&_nc_ohc=1N8wz8Ug8zoAX9NMOFe&_nc_ht=scontent-cdt1-1.xx&oh=f36f8d5415019eebd170b6e361d40602&oe=616983FA',\n",
       " 'https://scontent-cdt1-1.xx.fbcdn.net/v/t1.6435-9/cp0/c0.79.720.720a/s118x90/121647114_647034792873859_925265300199569513_n.jpg?_nc_cat=105&ccb=1-5&_nc_sid=825194&_nc_ohc=v_6qe21zhlcAX_kOfd8&_nc_ht=scontent-cdt1-1.xx&oh=782c23ff731491999f4454e67403c5c3&oe=61699B17',\n",
       " 'https://scontent-cdt1-1.xx.fbcdn.net/v/t1.6435-9/cp0/c0.79.720.720a/s118x90/236450322_5063633060319528_1457041617580813080_n.jpg?_nc_cat=109&ccb=1-5&_nc_sid=8bfeb9&_nc_ohc=gnPcWKYsm6QAX_AZ4av&_nc_ht=scontent-cdt1-1.xx&oh=b360aee7f89d92c58bd0f128dc7c4573&oe=6169D509',\n",
       " 'https://scontent-cdt1-1.xx.fbcdn.net/v/t1.6435-9/cp0/c0.79.720.720a/s118x90/240660501_5063633650319469_7761185815909476914_n.jpg?_nc_cat=101&ccb=1-5&_nc_sid=8bfeb9&_nc_ohc=VoV2KQ1rg7kAX8tSOeq&_nc_ht=scontent-cdt1-1.xx&oh=c4d6b1e4c0ed1e4212cf6bc97021da43&oe=61693F69',\n",
       " 'https://scontent-cdt1-1.xx.fbcdn.net/v/t1.6435-9/cp0/c19.0.90.90a/p118x90/175316223_800756867244355_9109478713812437684_n.jpg?_nc_cat=103&ccb=1-5&_nc_sid=730e14&_nc_ohc=Fxu0sRMnoYYAX8wtwE7&_nc_ht=scontent-cdt1-1.xx&oh=7480b49638983a75e7bb3fe6d3c83ef9&oe=616673F5',\n",
       " 'https://scontent-cdt1-1.xx.fbcdn.net/v/t1.6435-9/cp0/c20.0.90.90a/p118x90/241068625_10224613815005203_4172956942166943699_n.jpg?_nc_cat=109&ccb=1-5&_nc_sid=825194&_nc_ohc=XW6Qkx6WpY8AX9kS1SC&_nc_ht=scontent-cdt1-1.xx&oh=ec9cc68d6acc9f5f798c4ffddf3951c2&oe=6166141D',\n",
       " 'https://scontent-cdt1-1.xx.fbcdn.net/v/t1.6435-9/cp0/c22.0.90.90a/p118x90/241686491_10224666950053546_6838068746668900876_n.jpg?_nc_cat=106&ccb=1-5&_nc_sid=825194&_nc_ohc=IFsTmj1YAO0AX9ReZGG&_nc_ht=scontent-cdt1-1.xx&oh=b533ccbd02ef2e5fa350ec6e263fd96a&oe=6167074E',\n",
       " 'https://scontent-cdt1-1.xx.fbcdn.net/v/t1.6435-9/cp0/c23.0.90.90a/p118x90/71211260_2717611594936751_2597896829676814336_n.jpg?_nc_cat=105&ccb=1-5&_nc_sid=8bfeb9&_nc_ohc=arTWmuQMURcAX9vDALq&_nc_ht=scontent-cdt1-1.xx&oh=50a27afc699c6589ab528d7a89248f87&oe=61690776',\n",
       " 'https://scontent-cdt1-1.xx.fbcdn.net/v/t1.6435-9/cp0/c36.0.90.90a/p118x90/136678628_10219178842289617_5905222945319216825_n.jpg?_nc_cat=103&ccb=1-5&_nc_sid=825194&_nc_ohc=1nVzsQj92-QAX9ISoBC&tn=IKsFr2rO_VsiDt5B&_nc_ht=scontent-cdt1-1.xx&oh=922861e2078d6764560b88e470f94c58&oe=6168D13F',\n",
       " 'https://scontent-cdt1-1.xx.fbcdn.net/v/t1.6435-9/cp0/c45.0.90.90a/p118x90/71115417_2213124658815012_753978562465234944_n.jpg?_nc_cat=110&ccb=1-5&_nc_sid=8bfeb9&_nc_ohc=gmBBjfm42KkAX87TyDx&_nc_ht=scontent-cdt1-1.xx&oh=e6283271e1cdb5da6463ef804019727c&oe=61691E50',\n",
       " 'https://scontent-cdt1-1.xx.fbcdn.net/v/t1.6435-9/cp0/s118x90/193941875_10224064788234899_4084195371417679593_n.jpg?_nc_cat=110&ccb=1-5&_nc_sid=825194&_nc_ohc=law-CH5MiTYAX8ruR38&_nc_oc=AQm5L76n6BemVmuErJnCraS3GYdvVvwKMb5v8A4KB5xyuPZGG4k2X4zbY4Tqt6y8GJk&_nc_ht=scontent-cdt1-1.xx&oh=fe32eb5d09ea6f93fc4ccfa229fa0626&oe=6165F646',\n",
       " 'https://scontent-cdt1-1.xx.fbcdn.net/v/t1.6435-9/cp0/s118x90/71514610_959012234438953_1397780888686690304_n.jpg?_nc_cat=106&ccb=1-5&_nc_sid=825194&_nc_ohc=RSW6dsFRvycAX_H4l9K&_nc_ht=scontent-cdt1-1.xx&oh=e4c59bd4251b97e45535fed772cb7138&oe=6166D871',\n",
       " 'https://scontent-cdt1-1.xx.fbcdn.net/v/t15.5256-10/cp0/c15.0.90.90a/p118x90/211427370_1403432813357243_5952766385304676767_n.jpg?_nc_cat=110&ccb=1-5&_nc_sid=ad6a45&_nc_ohc=23Xi24s-q3IAX-jPyZC&_nc_ht=scontent-cdt1-1.xx&oh=08af4d367fe6993fbc63acb1d3cc6373&oe=614783C7',\n",
       " 'https://scontent-cdt1-1.xx.fbcdn.net/v/t15.5256-10/cp0/c35.0.90.90a/p118x90/118606380_1165619090469766_4513993146059639957_n.jpg?_nc_cat=106&ccb=1-5&_nc_sid=1055be&_nc_ohc=Yu5jo_AuQlYAX-aZqW7&_nc_ht=scontent-cdt1-1.xx&oh=1d536662d41d1cded1ed9aaf314b0bd3&oe=61481FC9',\n",
       " 'https://scontent-cdt1-1.xx.fbcdn.net/v/t15.5256-10/cp0/c35.0.90.90a/p118x90/69473916_2632633610113344_1788042121375121408_n.jpg?_nc_cat=110&ccb=1-5&_nc_sid=1055be&_nc_ohc=F9Cn8IlVNekAX8b5uFR&_nc_ht=scontent-cdt1-1.xx&oh=3800091efe581e567946e2f23b442103&oe=614721B6',\n",
       " 'https://scontent-cdt1-1.xx.fbcdn.net/v/t15.5256-10/cp0/s118x90/69355275_2013462785421519_3319983318644031488_n.jpg?_nc_cat=105&ccb=1-5&_nc_sid=ad6a45&_nc_ohc=hpE5Gc8vdWUAX8Rp5Go&_nc_ht=scontent-cdt1-1.xx&oh=384e6d284a5e7d2a39d3197968920b44&oe=6146D5B0',\n",
       " 'https://scontent-cdt1-1.xx.fbcdn.net/v/t39.30808-6/cp0/c25.0.90.90a/p118x90/241781550_10226912595469784_294798582432449161_n.jpg?_nc_cat=109&ccb=1-5&_nc_sid=730e14&_nc_ohc=wvgKUEWEbpkAX9QAAES&_nc_ht=scontent-cdt1-1.xx&oh=57a910ccd770cbbb80a9f4cfd8e00539&oe=614660C0']"
      ]
     },
     "execution_count": 606,
     "metadata": {},
     "output_type": "execute_result"
    }
   ],
   "source": [
    "db.posts.distinct(\"Images\")"
   ]
  }
 ],
 "metadata": {
  "colab": {
   "name": "Selenium_M.ipynb",
   "provenance": []
  },
  "kernelspec": {
   "display_name": "Python 3",
   "language": "python",
   "name": "python3"
  },
  "language_info": {
   "codemirror_mode": {
    "name": "ipython",
    "version": 3
   },
   "file_extension": ".py",
   "mimetype": "text/x-python",
   "name": "python",
   "nbconvert_exporter": "python",
   "pygments_lexer": "ipython3",
   "version": "3.7.9"
  }
 },
 "nbformat": 4,
 "nbformat_minor": 1
}
